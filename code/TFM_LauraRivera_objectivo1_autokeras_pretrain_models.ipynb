{
 "cells": [
  {
   "cell_type": "markdown",
   "metadata": {},
   "source": [
    "# Identificación de huellas de calzado a partir de imágenes con redes neuronales convolucionales \n",
    "\n",
    "## Autokeras\n",
    "\n",
    "El objetivo de este apartado es entrenar la red neuronal utilizando diferentes medidas de imágenes para comprobar si el tamaño de estas afecta al resultado.\n",
    "\n",
    "La librería autokeras se encarga de buscar la combinación de capas del modelo que puede obtener mejor resultado. A continuación, se utiliza dicha libraría para comprobar su resultado.\n",
    "\n",
    "\n"
   ]
  },
  {
   "cell_type": "code",
   "execution_count": 2,
   "metadata": {},
   "outputs": [],
   "source": [
    "\n",
    "import pandas as pd\n",
    "import numpy as np\n",
    "from zipfile import ZipFile\n",
    "import matplotlib.pyplot as plt\n",
    "from PIL import Image\n",
    "import os\n",
    "import random\n",
    "import skimage\n",
    "import cv2 \n",
    "from skimage import io\n"
   ]
  },
  {
   "cell_type": "markdown",
   "metadata": {},
   "source": [
    "## Lectura"
   ]
  },
  {
   "cell_type": "code",
   "execution_count": 3,
   "metadata": {},
   "outputs": [],
   "source": [
    "def unzipImages(folder='images'):\n",
    "    with ZipFile('data/2dFootwear/Part1.zip', 'r') as zipObj:\n",
    "      zipObj.extractall(folder)\n",
    "\n",
    "    with ZipFile('data/2dFootwear/Part2.zip', 'r') as zipObj:\n",
    "      zipObj.extractall(folder)\n",
    "    with ZipFile('data/2dFootwear/Part3.zip', 'r') as zipObj:\n",
    "      zipObj.extractall(folder)\n",
    "\n",
    "    with ZipFile('data/2dFootwear/Part4.zip', 'r') as zipObj:\n",
    "      zipObj.extractall(folder)\n",
    "\n",
    "    with ZipFile('data/2dFootwear/Part5.zip', 'r') as zipObj:\n",
    "      zipObj.extractall(folder)"
   ]
  },
  {
   "cell_type": "code",
   "execution_count": 4,
   "metadata": {},
   "outputs": [],
   "source": [
    "if not os.path.isdir(\"images\"):\n",
    "    unzipImages()"
   ]
  },
  {
   "cell_type": "code",
   "execution_count": 5,
   "metadata": {},
   "outputs": [],
   "source": [
    "df = pd.read_csv('data/2dFootwear/Data-information.csv', delimiter=';')\n",
    "df['Brand'] = df['Brand'].str.strip() #eliminar espacios en blanco\n",
    "\n",
    "X_files = df['ID'].values.tolist()\n",
    "brands = df['Brand'].values.tolist()\n",
    "values_brand, counts_brand = np.unique(brands, return_counts=True)\n",
    "num_classes = len(values_brand) #se guarda porque será necesario para crear el modelo\n",
    "\n"
   ]
  },
  {
   "cell_type": "code",
   "execution_count": 6,
   "metadata": {},
   "outputs": [
    {
     "name": "stdout",
     "output_type": "stream",
     "text": [
      "Brands with at least 5 samples: 7\n",
      "Brands with only 1 register: 52\n"
     ]
    }
   ],
   "source": [
    "\n",
    "def filterMinSamples(data, minSamples, deleteNone=True):\n",
    "    if deleteNone == True:\n",
    "        data=data[data['x']!=\"None\"] #eliminar marca = \"None\"\n",
    "    dataone=data[data['y']<minSamples] #marcas con pocas muestras\n",
    "    data=data[data['y']>=minSamples] #marcas con minimo \"minSamples\" muestras\n",
    "    num_classes=len(data)\n",
    "    print('Brands with at least '+str(minSamples)+' samples: %d' %num_classes) \n",
    "    print('Brands with only 1 register: %d' %len(dataone)) \n",
    "    return data, dataone\n",
    "\n",
    "dfbrandall = pd.DataFrame({'x':values_brand, 'y':counts_brand}) \n",
    "\n",
    "dfbrand, dfbrandone = filterMinSamples(dfbrandall, 5)\n",
    "\n",
    "num_classes=len(dfbrand)\n",
    "dfbrand = dfbrand.sort_values('y', ascending = False) #ordenar descendientemente\n",
    "\n",
    "\n"
   ]
  },
  {
   "cell_type": "code",
   "execution_count": 9,
   "metadata": {},
   "outputs": [],
   "source": [
    "def crop_jpeg(crop_size, imgPath):\n",
    "    dir_list = os.listdir(\"./\"+imgPath)\n",
    "    for f in dir_list:\n",
    "        im = Image.open(\"./\"+imgPath+\"/\"+f)\n",
    "        h,w,c = im.shape\n",
    "        im3 = im2.crop((crop_size,crop_size,h-(crop_size*2),w-(crop_size*2))) #Quitar marco medidor\n",
    "\n",
    "def get_images_full_to_jpeg(imgPath):\n",
    "  dir_list = os.listdir(\"./\"+imgPath)\n",
    "  result = []\n",
    "\n",
    "  for f in dir_list:\n",
    "\n",
    "    im = Image.open(\"./\"+imgPath+\"/\"+f)\n",
    "    w, h = im.size\n",
    "    im.save(\"./\"+imgPath+\"/\"+f[0:-4]+'jpeg')\n",
    "    img = im.crop((150,150,w-150,h-150)) #Quitar marco medidor\n",
    "    result.append(f[0:-4]+'jpeg')\n",
    "    os.remove(\"./\"+imgPath+\"/\"+f)\n",
    "\n",
    "  print('Nº files:',len(result))\n",
    "  return result\n",
    "\n",
    "\n",
    "def get_images_to_jpeg(imgPath):\n",
    "  dir_list = os.listdir(\"./\"+imgPath)\n",
    "  result = []\n",
    "\n",
    "  for f in dir_list:\n",
    "\n",
    "    im = Image.open(\"./\"+imgPath+\"/\"+f)\n",
    "    im2=im.resize((400,912))\n",
    "    im3 = im2.crop((40,40,320,872)) #Quitar marco medidor\n",
    "    im3.save(\"./\"+imgPath+\"/\"+f[0:-4]+'jpeg')\n",
    "    \n",
    "    result.append(f[0:-4]+'jpeg')\n",
    "    os.remove(\"./\"+imgPath+\"/\"+f)\n",
    "\n",
    "  print('Nº files:',len(result))\n",
    "  return result\n",
    "\n",
    "def get_images(imgPath):\n",
    "  dir_list = os.listdir(\"./\"+imgPath)\n",
    "  result = []\n",
    "  for f in dir_list: \n",
    "    if \"jpeg\" in f:\n",
    "        result.append(f)\n",
    "\n",
    "\n",
    "  print('Nº files:',len(result))\n",
    "  return result"
   ]
  },
  {
   "cell_type": "code",
   "execution_count": 10,
   "metadata": {},
   "outputs": [
    {
     "name": "stdout",
     "output_type": "stream",
     "text": [
      "Nº files: 1500\n"
     ]
    }
   ],
   "source": [
    "#shoeFiles = get_images_to_jpeg(\"images\") #execute first time only\n",
    "shoeFiles = get_images(\"images\")"
   ]
  },
  {
   "cell_type": "markdown",
   "metadata": {},
   "source": [
    "### Visualización de imágenes\n",
    "\n",
    "Se ha creado la función *plot_image* que permite la visualización de las imágenes de cualquiera de las dos bases de datos.\n",
    "\n",
    "Parámetros:\\\n",
    "*imgPath*: carpeta donde estan las imágenes \\\n",
    "*fileNames*: array con los nombres de los ficheros a mostrar"
   ]
  },
  {
   "cell_type": "code",
   "execution_count": 11,
   "metadata": {},
   "outputs": [],
   "source": [
    "\n",
    "import skimage\n",
    "def plot_image(imgPath, fileNames):\n",
    "  for i in range(len(fileNames)):\n",
    "    filename = fileNames[i]\n",
    "    img = skimage.io.imread(imgPath+filename)\n",
    "   \n",
    "    plt.figure()\n",
    "    plt.title(str(img.shape)+\" , \"+str(img.dtype))\n",
    "    plt.imshow(img)\n",
    "  print(fileNames)\n",
    "  plt.show()\n",
    "\n",
    "def plot_image2(img):\n",
    "\n",
    "    plt.figure()\n",
    "    plt.title(str(img.shape)+\" , \"+str(img.dtype))\n",
    "    plt.imshow(img)\n",
    "\n",
    "    plt.show()\n",
    "def plot_image_grey(img):\n",
    "\n",
    "    plt.figure()\n",
    "    plt.title(str(img.shape)+\" , \"+str(img.dtype))\n",
    "    plt.imshow(img, cmap='gray')\n",
    "\n",
    "    plt.show()"
   ]
  },
  {
   "cell_type": "code",
   "execution_count": 12,
   "metadata": {},
   "outputs": [
    {
     "name": "stdout",
     "output_type": "stream",
     "text": [
      "Nº of brands: 7\n"
     ]
    }
   ],
   "source": [
    "def filesWithBrand(shoeFiles):\n",
    "  files = []\n",
    "  brands = []\n",
    "  for image in shoeFiles:\n",
    "    if \"jpeg\" in image:\n",
    "        files.append(image) #filename\n",
    "        person = df[df['ID'].str[:6]==image[:6]]  #persona+contador de calzado\n",
    "        brands.append(person['Brand'].iloc[0])\n",
    "\n",
    "  return pd.DataFrame({'X':files, 'y':brands}) \n",
    "\n",
    "def filterBrands(data, one, deleteNone=True):\n",
    "    #dfbrandone creado antes con las marcas que no cumplen.\n",
    "    df_shoe_brand=data[~data['y'].isin(one['x'].to_numpy())]\n",
    "    \n",
    "    if deleteNone == True:\n",
    "        df_shoe_brand=df_shoe_brand[df_shoe_brand['y']!=\"None\"]\n",
    "    \n",
    "    \n",
    "    df_shoe_brand['factor_brand'] = pd.Categorical(pd.factorize(df_shoe_brand['y'])[0].astype(np.float32))\n",
    "    \n",
    "    return df_shoe_brand\n",
    "\n",
    "df_shoe_brand_all = filesWithBrand(shoeFiles) #contiene todas las muestras\n",
    "\n",
    "#eliminar aquellas marcas que no aparecen mínimo en \"minSample\" muestras \n",
    "df_shoe_brand = filterBrands(df_shoe_brand_all,dfbrandone)\n",
    "#número de marcas con 5 o más muestras:\n",
    "print('Nº of brands: %d' %num_classes)\n",
    "show_brands = df_shoe_brand.drop_duplicates(subset = \"y\")\n",
    "show_brands = show_brands[['y','factor_brand']]\n",
    "#show_brands"
   ]
  },
  {
   "cell_type": "code",
   "execution_count": 13,
   "metadata": {},
   "outputs": [],
   "source": [
    "def checkBalancedSample(train, test, val):\n",
    "    checkTest = False\n",
    "    checkVal = False\n",
    "    \n",
    "    #Comprobar si existen en train\n",
    "    test_in = test.y.isin(train.y).astype(int)\n",
    "    val_in=val.y.isin(train.y).astype(int)\n",
    "\n",
    "    #Comprobar que existen todos (todo 1)  \n",
    "    if all(x==1 for x in test_in):\n",
    "        checkTest = True\n",
    "    if all(x==1 for x in val_in):\n",
    "        checkVal = True\n",
    "    #Devuelve True si en test y val aparecen marcas que existen en train:\n",
    "    if checkTest and checkVal:\n",
    "        return True\n",
    "    return False"
   ]
  },
  {
   "cell_type": "code",
   "execution_count": 14,
   "metadata": {},
   "outputs": [],
   "source": [
    "from sklearn.model_selection import train_test_split\n",
    "def  split_datafiles(df):\n",
    "  X_train, X_test = train_test_split(df, test_size=0.2 , random_state=random.randint(0,32),shuffle=True)\n",
    "\n",
    "  X_train, X_val = train_test_split(X_train, test_size=0.14, random_state=random.randint(0,32),shuffle=True) # 0.14 x 0.7 = 0.1\n",
    "  return X_train,  X_test ,X_val\n",
    "\n",
    "#Dividir conjunto de datos:\n",
    "#shoes_train, shoes_test, shoes_val = split_datafiles(df)\n",
    "shoes_train, shoes_test, shoes_val = split_datafiles(df_shoe_brand)\n",
    "\n",
    "while checkBalancedSample(shoes_train, shoes_test, shoes_val) == False:\n",
    "    shoes_train, shoes_test, shoes_val = split_datafiles(df_shoe_brand)"
   ]
  },
  {
   "cell_type": "code",
   "execution_count": 15,
   "metadata": {},
   "outputs": [],
   "source": [
    "\n",
    "def plot_history(history):\n",
    "# summarize history for accuracy\n",
    "    plt.plot(history.history['accuracy'])\n",
    "    plt.plot(history.history['val_accuracy'])\n",
    "    plt.title('model accuracy')\n",
    "    plt.ylabel('accuracy')\n",
    "    plt.xlabel('epoch')\n",
    "    plt.legend(['train', 'test'], loc='upper left')\n",
    "    plt.show()\n",
    "    # summarize history for loss\n",
    "    plt.plot(history.history['loss'])\n",
    "    plt.plot(history.history['val_loss'])\n",
    "    plt.title('model loss')\n",
    "    plt.ylabel('loss')\n",
    "    plt.xlabel('epoch')\n",
    "    plt.legend(['train', 'test'], loc='upper left')\n",
    "    plt.show()\n",
    "\n",
    "def plot_history_2(history):\n",
    "    plt.plot(history.history['accuracy'])\n",
    "    plt.title('model accuracy')\n",
    "    plt.ylabel('accuracy')\n",
    "    plt.xlabel('epoch')\n",
    "    plt.legend(['train', 'test'], loc='upper left')\n",
    "    plt.show()\n",
    "    # summarize history for loss\n",
    "    plt.plot(history.history['loss'])\n",
    "    plt.title('model loss')\n",
    "    plt.ylabel('loss')\n",
    "    plt.xlabel('epoch')\n",
    "    plt.legend(['train', 'test'], loc='upper left')\n",
    "    plt.show()"
   ]
  },
  {
   "cell_type": "code",
   "execution_count": 16,
   "metadata": {},
   "outputs": [],
   "source": [
    "def showResult(predicted, test, array):\n",
    "    filename = test['X']\n",
    "    img = skimage.io.imread(\"images/\"+filename)\n",
    "   \n",
    "    plt.figure()\n",
    "    plt.title(test['y']+\" \"+str(test['factor_brand']))\n",
    "    plt.imshow(img)\n",
    "    if array == True:\n",
    "        print(predicted)\n",
    "        sort_index = np.argsort(-predicted)\n",
    "        print(sort_index)\n",
    "    else:\n",
    "        print(predicted)"
   ]
  },
  {
   "cell_type": "code",
   "execution_count": 17,
   "metadata": {},
   "outputs": [],
   "source": [
    "\n",
    "def checkAccuracyFirstPositions(predicted_y, shoes_test, x):\n",
    "    total = len(predicted_y)\n",
    "    ok = 0\n",
    "    for i in range(total):\n",
    "        if getXfirstOk(predicted_y[i],shoes_test.iloc[i],x):\n",
    "            ok = ok+1\n",
    "\n",
    "    print(ok)\n",
    "    print(ok/total)\n"
   ]
  },
  {
   "cell_type": "code",
   "execution_count": 18,
   "metadata": {},
   "outputs": [],
   "source": [
    "from sklearn.metrics import confusion_matrix, plot_confusion_matrix,ConfusionMatrixDisplay\n",
    "def printConfMatrix(predicted, test,n):\n",
    "    #sort_index = np.argsort(-predicted)\n",
    "    cm = confusion_matrix(test['y'],predicted)\n",
    "\n",
    "    cm_display = ConfusionMatrixDisplay(confusion_matrix = cm, display_labels = range(n))\n",
    "\n",
    "    cm_display.plot()\n",
    "    plt.show() "
   ]
  },
  {
   "cell_type": "code",
   "execution_count": 19,
   "metadata": {},
   "outputs": [],
   "source": [
    "#Devuelve el % de veces que la marca se predijo con un porcentage >= minPercent\n",
    "#Porcentaje de aceptación.\n",
    "def checkBrandPercent(predicted_y, shoes_test, minPercent):\n",
    "    total = len(predicted_y)\n",
    "    ok = 0\n",
    "    for i in range(total):\n",
    "        #print(shoes_test['factor_brand'].iloc[i])\n",
    "        #print(predicted_y[int(shoes_test['factor_brand'].iloc[i])])\n",
    "        if predicted_y[int(shoes_test['factor_brand'].iloc[i])] >= minPercent: \n",
    "            ok = ok+1\n",
    "\n",
    "    print(ok/total)\n"
   ]
  },
  {
   "cell_type": "markdown",
   "metadata": {},
   "source": [
    "### Instalación y ejecución de AutoKeras"
   ]
  },
  {
   "cell_type": "code",
   "execution_count": 36,
   "metadata": {},
   "outputs": [
    {
     "name": "stdout",
     "output_type": "stream",
     "text": [
      "Requirement already satisfied: autokeras in /Library/Frameworks/Python.framework/Versions/3.8/lib/python3.8/site-packages (1.1.0)\n",
      "Requirement already satisfied: packaging in /Library/Frameworks/Python.framework/Versions/3.8/lib/python3.8/site-packages (from autokeras) (21.3)\n",
      "Requirement already satisfied: pandas in /Library/Frameworks/Python.framework/Versions/3.8/lib/python3.8/site-packages (from autokeras) (1.0.3)\n",
      "Requirement already satisfied: keras-tuner>=1.1.0 in /Library/Frameworks/Python.framework/Versions/3.8/lib/python3.8/site-packages (from autokeras) (1.3.0)\n",
      "Requirement already satisfied: keras-nlp>=0.4.0 in /Library/Frameworks/Python.framework/Versions/3.8/lib/python3.8/site-packages (from autokeras) (0.4.1)\n",
      "Requirement already satisfied: tensorflow>=2.8.0 in /Library/Frameworks/Python.framework/Versions/3.8/lib/python3.8/site-packages (from autokeras) (2.11.0)\n",
      "Requirement already satisfied: numpy in /Library/Frameworks/Python.framework/Versions/3.8/lib/python3.8/site-packages (from keras-nlp>=0.4.0->autokeras) (1.23.4)\n",
      "Requirement already satisfied: absl-py in /Library/Frameworks/Python.framework/Versions/3.8/lib/python3.8/site-packages (from keras-nlp>=0.4.0->autokeras) (1.4.0)\n",
      "Requirement already satisfied: requests in /Library/Frameworks/Python.framework/Versions/3.8/lib/python3.8/site-packages (from keras-tuner>=1.1.0->autokeras) (2.23.0)\n",
      "Requirement already satisfied: ipython in /Library/Frameworks/Python.framework/Versions/3.8/lib/python3.8/site-packages (from keras-tuner>=1.1.0->autokeras) (7.13.0)\n",
      "Requirement already satisfied: kt-legacy in /Library/Frameworks/Python.framework/Versions/3.8/lib/python3.8/site-packages (from keras-tuner>=1.1.0->autokeras) (1.0.4)\n",
      "Requirement already satisfied: gast<=0.4.0,>=0.2.1 in /Library/Frameworks/Python.framework/Versions/3.8/lib/python3.8/site-packages (from tensorflow>=2.8.0->autokeras) (0.4.0)\n",
      "Requirement already satisfied: six>=1.12.0 in /Library/Frameworks/Python.framework/Versions/3.8/lib/python3.8/site-packages (from tensorflow>=2.8.0->autokeras) (1.14.0)\n",
      "Requirement already satisfied: wrapt>=1.11.0 in /Library/Frameworks/Python.framework/Versions/3.8/lib/python3.8/site-packages (from tensorflow>=2.8.0->autokeras) (1.15.0)\n",
      "Requirement already satisfied: libclang>=13.0.0 in /Library/Frameworks/Python.framework/Versions/3.8/lib/python3.8/site-packages (from tensorflow>=2.8.0->autokeras) (15.0.6.1)\n",
      "Requirement already satisfied: tensorflow-io-gcs-filesystem>=0.23.1 in /Library/Frameworks/Python.framework/Versions/3.8/lib/python3.8/site-packages (from tensorflow>=2.8.0->autokeras) (0.31.0)\n",
      "Requirement already satisfied: tensorflow-estimator<2.12,>=2.11.0 in /Library/Frameworks/Python.framework/Versions/3.8/lib/python3.8/site-packages (from tensorflow>=2.8.0->autokeras) (2.11.0)\n",
      "Requirement already satisfied: grpcio<2.0,>=1.24.3 in /Library/Frameworks/Python.framework/Versions/3.8/lib/python3.8/site-packages (from tensorflow>=2.8.0->autokeras) (1.51.3)\n",
      "Requirement already satisfied: keras<2.12,>=2.11.0 in /Library/Frameworks/Python.framework/Versions/3.8/lib/python3.8/site-packages (from tensorflow>=2.8.0->autokeras) (2.11.0)\n",
      "Requirement already satisfied: setuptools in /Library/Frameworks/Python.framework/Versions/3.8/lib/python3.8/site-packages (from tensorflow>=2.8.0->autokeras) (41.2.0)\n",
      "Requirement already satisfied: google-pasta>=0.1.1 in /Library/Frameworks/Python.framework/Versions/3.8/lib/python3.8/site-packages (from tensorflow>=2.8.0->autokeras) (0.2.0)\n",
      "Requirement already satisfied: opt-einsum>=2.3.2 in /Library/Frameworks/Python.framework/Versions/3.8/lib/python3.8/site-packages (from tensorflow>=2.8.0->autokeras) (3.3.0)\n",
      "Requirement already satisfied: tensorboard<2.12,>=2.11 in /Library/Frameworks/Python.framework/Versions/3.8/lib/python3.8/site-packages (from tensorflow>=2.8.0->autokeras) (2.11.2)\n",
      "Requirement already satisfied: protobuf<3.20,>=3.9.2 in /Library/Frameworks/Python.framework/Versions/3.8/lib/python3.8/site-packages (from tensorflow>=2.8.0->autokeras) (3.19.6)\n",
      "Requirement already satisfied: flatbuffers>=2.0 in /Library/Frameworks/Python.framework/Versions/3.8/lib/python3.8/site-packages (from tensorflow>=2.8.0->autokeras) (23.3.3)\n",
      "Requirement already satisfied: termcolor>=1.1.0 in /Library/Frameworks/Python.framework/Versions/3.8/lib/python3.8/site-packages (from tensorflow>=2.8.0->autokeras) (2.2.0)\n",
      "Requirement already satisfied: astunparse>=1.6.0 in /Library/Frameworks/Python.framework/Versions/3.8/lib/python3.8/site-packages (from tensorflow>=2.8.0->autokeras) (1.6.3)\n",
      "Requirement already satisfied: h5py>=2.9.0 in /Library/Frameworks/Python.framework/Versions/3.8/lib/python3.8/site-packages (from tensorflow>=2.8.0->autokeras) (3.8.0)\n",
      "Requirement already satisfied: typing-extensions>=3.6.6 in /Library/Frameworks/Python.framework/Versions/3.8/lib/python3.8/site-packages (from tensorflow>=2.8.0->autokeras) (4.5.0)\n",
      "Requirement already satisfied: pyparsing!=3.0.5,>=2.0.2 in /Library/Frameworks/Python.framework/Versions/3.8/lib/python3.8/site-packages (from packaging->autokeras) (3.0.9)\n",
      "Requirement already satisfied: python-dateutil>=2.6.1 in /Library/Frameworks/Python.framework/Versions/3.8/lib/python3.8/site-packages (from pandas->autokeras) (2.8.1)\n",
      "Requirement already satisfied: pytz>=2017.2 in /Library/Frameworks/Python.framework/Versions/3.8/lib/python3.8/site-packages (from pandas->autokeras) (2020.1)\n",
      "Requirement already satisfied: wheel<1.0,>=0.23.0 in /Library/Frameworks/Python.framework/Versions/3.8/lib/python3.8/site-packages (from astunparse>=1.6.0->tensorflow>=2.8.0->autokeras) (0.38.4)\n",
      "Requirement already satisfied: google-auth-oauthlib<0.5,>=0.4.1 in /Library/Frameworks/Python.framework/Versions/3.8/lib/python3.8/site-packages (from tensorboard<2.12,>=2.11->tensorflow>=2.8.0->autokeras) (0.4.6)\n",
      "Requirement already satisfied: markdown>=2.6.8 in /Library/Frameworks/Python.framework/Versions/3.8/lib/python3.8/site-packages (from tensorboard<2.12,>=2.11->tensorflow>=2.8.0->autokeras) (3.4.1)\n",
      "Requirement already satisfied: tensorboard-data-server<0.7.0,>=0.6.0 in /Library/Frameworks/Python.framework/Versions/3.8/lib/python3.8/site-packages (from tensorboard<2.12,>=2.11->tensorflow>=2.8.0->autokeras) (0.6.1)\n",
      "Requirement already satisfied: werkzeug>=1.0.1 in /Library/Frameworks/Python.framework/Versions/3.8/lib/python3.8/site-packages (from tensorboard<2.12,>=2.11->tensorflow>=2.8.0->autokeras) (2.2.3)\n",
      "Requirement already satisfied: google-auth<3,>=1.6.3 in /Library/Frameworks/Python.framework/Versions/3.8/lib/python3.8/site-packages (from tensorboard<2.12,>=2.11->tensorflow>=2.8.0->autokeras) (2.16.2)\n",
      "Requirement already satisfied: tensorboard-plugin-wit>=1.6.0 in /Library/Frameworks/Python.framework/Versions/3.8/lib/python3.8/site-packages (from tensorboard<2.12,>=2.11->tensorflow>=2.8.0->autokeras) (1.8.1)\n",
      "Requirement already satisfied: chardet<4,>=3.0.2 in /Library/Frameworks/Python.framework/Versions/3.8/lib/python3.8/site-packages (from requests->keras-tuner>=1.1.0->autokeras) (3.0.4)\n",
      "Requirement already satisfied: idna<3,>=2.5 in /Library/Frameworks/Python.framework/Versions/3.8/lib/python3.8/site-packages (from requests->keras-tuner>=1.1.0->autokeras) (2.9)\n",
      "Requirement already satisfied: urllib3!=1.25.0,!=1.25.1,<1.26,>=1.21.1 in /Library/Frameworks/Python.framework/Versions/3.8/lib/python3.8/site-packages (from requests->keras-tuner>=1.1.0->autokeras) (1.25.9)\n",
      "Requirement already satisfied: certifi>=2017.4.17 in /Library/Frameworks/Python.framework/Versions/3.8/lib/python3.8/site-packages (from requests->keras-tuner>=1.1.0->autokeras) (2020.4.5.1)\n",
      "Requirement already satisfied: jedi>=0.10 in /Library/Frameworks/Python.framework/Versions/3.8/lib/python3.8/site-packages (from ipython->keras-tuner>=1.1.0->autokeras) (0.17.0)\n",
      "Requirement already satisfied: backcall in /Library/Frameworks/Python.framework/Versions/3.8/lib/python3.8/site-packages (from ipython->keras-tuner>=1.1.0->autokeras) (0.1.0)\n",
      "Requirement already satisfied: pexpect in /Library/Frameworks/Python.framework/Versions/3.8/lib/python3.8/site-packages (from ipython->keras-tuner>=1.1.0->autokeras) (4.8.0)\n",
      "Requirement already satisfied: decorator in /Library/Frameworks/Python.framework/Versions/3.8/lib/python3.8/site-packages (from ipython->keras-tuner>=1.1.0->autokeras) (4.4.2)\n",
      "Requirement already satisfied: prompt-toolkit!=3.0.0,!=3.0.1,<3.1.0,>=2.0.0 in /Library/Frameworks/Python.framework/Versions/3.8/lib/python3.8/site-packages (from ipython->keras-tuner>=1.1.0->autokeras) (3.0.5)\n",
      "Requirement already satisfied: pickleshare in /Library/Frameworks/Python.framework/Versions/3.8/lib/python3.8/site-packages (from ipython->keras-tuner>=1.1.0->autokeras) (0.7.5)\n",
      "Requirement already satisfied: appnope in /Library/Frameworks/Python.framework/Versions/3.8/lib/python3.8/site-packages (from ipython->keras-tuner>=1.1.0->autokeras) (0.1.0)\n",
      "Requirement already satisfied: traitlets>=4.2 in /Library/Frameworks/Python.framework/Versions/3.8/lib/python3.8/site-packages (from ipython->keras-tuner>=1.1.0->autokeras) (4.3.3)\n",
      "Requirement already satisfied: pygments in /Library/Frameworks/Python.framework/Versions/3.8/lib/python3.8/site-packages (from ipython->keras-tuner>=1.1.0->autokeras) (2.6.1)\n"
     ]
    },
    {
     "name": "stdout",
     "output_type": "stream",
     "text": [
      "Requirement already satisfied: pyasn1-modules>=0.2.1 in /Library/Frameworks/Python.framework/Versions/3.8/lib/python3.8/site-packages (from google-auth<3,>=1.6.3->tensorboard<2.12,>=2.11->tensorflow>=2.8.0->autokeras) (0.2.8)\n",
      "Requirement already satisfied: cachetools<6.0,>=2.0.0 in /Library/Frameworks/Python.framework/Versions/3.8/lib/python3.8/site-packages (from google-auth<3,>=1.6.3->tensorboard<2.12,>=2.11->tensorflow>=2.8.0->autokeras) (5.3.0)\n",
      "Requirement already satisfied: rsa<5,>=3.1.4 in /Library/Frameworks/Python.framework/Versions/3.8/lib/python3.8/site-packages (from google-auth<3,>=1.6.3->tensorboard<2.12,>=2.11->tensorflow>=2.8.0->autokeras) (4.9)\n",
      "Requirement already satisfied: requests-oauthlib>=0.7.0 in /Library/Frameworks/Python.framework/Versions/3.8/lib/python3.8/site-packages (from google-auth-oauthlib<0.5,>=0.4.1->tensorboard<2.12,>=2.11->tensorflow>=2.8.0->autokeras) (1.3.1)\n",
      "Requirement already satisfied: parso>=0.7.0 in /Library/Frameworks/Python.framework/Versions/3.8/lib/python3.8/site-packages (from jedi>=0.10->ipython->keras-tuner>=1.1.0->autokeras) (0.7.0)\n",
      "Requirement already satisfied: importlib-metadata>=4.4 in /Library/Frameworks/Python.framework/Versions/3.8/lib/python3.8/site-packages (from markdown>=2.6.8->tensorboard<2.12,>=2.11->tensorflow>=2.8.0->autokeras) (6.0.0)\n",
      "Requirement already satisfied: wcwidth in /Library/Frameworks/Python.framework/Versions/3.8/lib/python3.8/site-packages (from prompt-toolkit!=3.0.0,!=3.0.1,<3.1.0,>=2.0.0->ipython->keras-tuner>=1.1.0->autokeras) (0.1.9)\n",
      "Requirement already satisfied: ipython-genutils in /Library/Frameworks/Python.framework/Versions/3.8/lib/python3.8/site-packages (from traitlets>=4.2->ipython->keras-tuner>=1.1.0->autokeras) (0.2.0)\n",
      "Requirement already satisfied: MarkupSafe>=2.1.1 in /Library/Frameworks/Python.framework/Versions/3.8/lib/python3.8/site-packages (from werkzeug>=1.0.1->tensorboard<2.12,>=2.11->tensorflow>=2.8.0->autokeras) (2.1.3)\n",
      "Requirement already satisfied: ptyprocess>=0.5 in /Library/Frameworks/Python.framework/Versions/3.8/lib/python3.8/site-packages (from pexpect->ipython->keras-tuner>=1.1.0->autokeras) (0.6.0)\n",
      "Requirement already satisfied: zipp>=0.5 in /Library/Frameworks/Python.framework/Versions/3.8/lib/python3.8/site-packages (from importlib-metadata>=4.4->markdown>=2.6.8->tensorboard<2.12,>=2.11->tensorflow>=2.8.0->autokeras) (3.15.0)\n",
      "Requirement already satisfied: pyasn1<0.5.0,>=0.4.6 in /Library/Frameworks/Python.framework/Versions/3.8/lib/python3.8/site-packages (from pyasn1-modules>=0.2.1->google-auth<3,>=1.6.3->tensorboard<2.12,>=2.11->tensorflow>=2.8.0->autokeras) (0.4.8)\n",
      "Requirement already satisfied: oauthlib>=3.0.0 in /Library/Frameworks/Python.framework/Versions/3.8/lib/python3.8/site-packages (from requests-oauthlib>=0.7.0->google-auth-oauthlib<0.5,>=0.4.1->tensorboard<2.12,>=2.11->tensorflow>=2.8.0->autokeras) (3.2.2)\n",
      "\n",
      "\u001b[1m[\u001b[0m\u001b[34;49mnotice\u001b[0m\u001b[1;39;49m]\u001b[0m\u001b[39;49m A new release of pip is available: \u001b[0m\u001b[31;49m23.0.1\u001b[0m\u001b[39;49m -> \u001b[0m\u001b[32;49m23.1.2\u001b[0m\n",
      "\u001b[1m[\u001b[0m\u001b[34;49mnotice\u001b[0m\u001b[1;39;49m]\u001b[0m\u001b[39;49m To update, run: \u001b[0m\u001b[32;49mpip install --upgrade pip\u001b[0m\n"
     ]
    }
   ],
   "source": [
    "!pip install autokeras"
   ]
  },
  {
   "cell_type": "code",
   "execution_count": 37,
   "metadata": {},
   "outputs": [],
   "source": [
    "import autokeras as ak"
   ]
  },
  {
   "cell_type": "code",
   "execution_count": 38,
   "metadata": {},
   "outputs": [
    {
     "name": "stdout",
     "output_type": "stream",
     "text": [
      "(529, 832, 280, 3)\n"
     ]
    }
   ],
   "source": [
    "#https://autokeras.com/image_classifier/\n",
    "#https://medium.com/analytics-vidhya/how-to-use-autokeras-to-build-image-classification-models-using-one-line-of-code-c35b0c36e66e\n",
    "\n",
    "X = np.empty([280,832], dtype=int)\n",
    "\n",
    "X = np.array([io.imread(\"images/\"+p) for p in shoes_train.X.values])\n",
    "\n",
    "print(X.shape)\n"
   ]
  },
  {
   "cell_type": "code",
   "execution_count": 39,
   "metadata": {},
   "outputs": [],
   "source": [
    "def executeModelAutoKeras(epoch, train, test2, val, df, n):\n",
    "    X = np.empty([280,832], dtype=int)\n",
    "    X = np.array([io.imread(\"images/\"+p) for p in train.X.values])\n",
    "    print(X.shape)\n",
    "    \n",
    "    clf = ak.ImageClassifier( num_classes=n, max_trials=1,loss = 'binary_crossentropy',\n",
    "     objective='val_accuracy')\n",
    "    autohistory = clf.fit(X, train['y'],epochs=epoch, validation_split = 0.2)\n",
    "    \n",
    "    model = clf.export_model()\n",
    "    # Capas que ha creado como mejor modelo:\n",
    "    model.summary()\n",
    "    plot_history_2(autohistory)\n",
    "    \n",
    "    \n",
    "    \n",
    "    return clf"
   ]
  },
  {
   "cell_type": "code",
   "execution_count": 50,
   "metadata": {},
   "outputs": [],
   "source": [
    "def evaluateAutoModel(model, test2,df, n):\n",
    "    # Predicción con el modelo escogido por autokeras.\n",
    "    t = np.empty([280,832], dtype=int)\n",
    "    t = np.array([io.imread(\"images/\"+p) for p in test2.X.values])\n",
    "    predicted_auto_y = model.predict(t)\n",
    "    \n",
    "    print(\"Test evaluation:\")\n",
    "    print(model.evaluate(t, test2['y']))\n",
    "    #print(model.evaluate(test2)) #first position\n",
    "    #print(\"% of correct brand in the first 3 positions:\")\n",
    "    #checkAccuracyFirstPositions(predicted_auto_y, test2,3)\n",
    "    \n",
    "    if n<=20:\n",
    "        print(\"Matriz de confusión:\") \n",
    "        printConfMatrix(predicted_auto_y,test2,n)"
   ]
  },
  {
   "cell_type": "code",
   "execution_count": 41,
   "metadata": {},
   "outputs": [],
   "source": [
    "def returnDataByMinSample ( minSample, deleteNone=True):\n",
    "    dfbrandMin, dfbrandoneMin = filterMinSamples(dfbrandall, minSample, deleteNone)\n",
    "    num_classesMin=len(dfbrandMin)\n",
    "    df_shoe_brandMin = filterBrands(df_shoe_brand_all,dfbrandoneMin, deleteNone)\n",
    "    print(df_shoe_brandMin)\n",
    "\n",
    "    shoes_trainMin, shoes_testMin, shoes_valMin = split_datafiles(df_shoe_brandMin)\n",
    "\n",
    "    while checkBalancedSample(shoes_trainMin, shoes_testMin, shoes_valMin) == False:\n",
    "        shoes_trainMin, shoes_testMin, shoes_valMin = split_datafiles(df_shoe_brandMin)\n",
    "    \n",
    "    return num_classesMin, df_shoe_brandMin, shoes_trainMin, shoes_testMin, shoes_valMin"
   ]
  },
  {
   "cell_type": "code",
   "execution_count": 42,
   "metadata": {},
   "outputs": [
    {
     "name": "stdout",
     "output_type": "stream",
     "text": [
      "Brands with at least 5 samples: 7\n",
      "Brands with only 1 register: 52\n",
      "                     X         y factor_brand\n",
      "3     009_08_R_05.jpeg     Asics          0.0\n",
      "8     010_01_L_01.jpeg  Skechers          1.0\n",
      "13    025_05_R_01.jpeg     Asics          0.0\n",
      "15    020_03_R_03.jpeg    Sperry          2.0\n",
      "17    011_03_L_04.jpeg    Adidas          3.0\n",
      "...                ...       ...          ...\n",
      "1490  020_02_L_01.jpeg  Skechers          1.0\n",
      "1493  011_01_R_04.jpeg    Adidas          3.0\n",
      "1494  026_07_L_03.jpeg   Saucony          6.0\n",
      "1496  018_04_R_02.jpeg    Sperry          2.0\n",
      "1499  025_03_L_04.jpeg      Nike          4.0\n",
      "\n",
      "[770 rows x 3 columns]\n"
     ]
    }
   ],
   "source": [
    "num_classes5, df_shoe_brand5,shoes_train5, shoes_test5, shoes_val5 = returnDataByMinSample(5)"
   ]
  },
  {
   "cell_type": "code",
   "execution_count": 137,
   "metadata": {
    "scrolled": false
   },
   "outputs": [
    {
     "name": "stdout",
     "output_type": "stream",
     "text": [
      "Brands with at least 5 samples: 7\n",
      "Brands with only 1 register: 52\n",
      "                     X         y factor_brand\n",
      "3     009_08_R_05.jpeg     Asics          0.0\n",
      "8     010_01_L_01.jpeg  Skechers          1.0\n",
      "13    025_05_R_01.jpeg     Asics          0.0\n",
      "15    020_03_R_03.jpeg    Sperry          2.0\n",
      "17    011_03_L_04.jpeg    Adidas          3.0\n",
      "...                ...       ...          ...\n",
      "1490  020_02_L_01.jpeg  Skechers          1.0\n",
      "1493  011_01_R_04.jpeg    Adidas          3.0\n",
      "1494  026_07_L_03.jpeg   Saucony          6.0\n",
      "1496  018_04_R_02.jpeg    Sperry          2.0\n",
      "1499  025_03_L_04.jpeg      Nike          4.0\n",
      "\n",
      "[770 rows x 3 columns]\n",
      "(529, 832, 280, 3)\n",
      "INFO:tensorflow:Reloading Tuner from ./image_classifier/tuner0.json\n"
     ]
    },
    {
     "name": "stderr",
     "output_type": "stream",
     "text": [
      "INFO:tensorflow:Reloading Tuner from ./image_classifier/tuner0.json\n"
     ]
    },
    {
     "name": "stdout",
     "output_type": "stream",
     "text": [
      "INFO:tensorflow:Oracle triggered exit\n"
     ]
    },
    {
     "name": "stderr",
     "output_type": "stream",
     "text": [
      "INFO:tensorflow:Oracle triggered exit\n"
     ]
    },
    {
     "name": "stdout",
     "output_type": "stream",
     "text": [
      "Epoch 1/10\n",
      "17/17 [==============================] - 193s 11s/step - loss: 69.7915 - accuracy: 0.1531\n",
      "Epoch 2/10\n",
      "17/17 [==============================] - 234s 14s/step - loss: 1.9212 - accuracy: 0.3157\n",
      "Epoch 3/10\n",
      "17/17 [==============================] - 223s 13s/step - loss: 1.8689 - accuracy: 0.3611\n",
      "Epoch 4/10\n",
      "17/17 [==============================] - 217s 13s/step - loss: 1.6407 - accuracy: 0.3403\n",
      "Epoch 5/10\n",
      "17/17 [==============================] - 222s 13s/step - loss: 0.9814 - accuracy: 0.8336\n",
      "Epoch 6/10\n",
      "17/17 [==============================] - 222s 13s/step - loss: 0.2169 - accuracy: 0.9698\n",
      "Epoch 7/10\n",
      "17/17 [==============================] - 234s 14s/step - loss: 0.0434 - accuracy: 0.9943\n",
      "Epoch 8/10\n",
      "17/17 [==============================] - 209s 12s/step - loss: 0.0092 - accuracy: 1.0000\n",
      "Epoch 9/10\n",
      "17/17 [==============================] - 213s 13s/step - loss: 0.0048 - accuracy: 1.0000\n",
      "Epoch 10/10\n",
      "17/17 [==============================] - 212s 12s/step - loss: 0.0027 - accuracy: 1.0000\n"
     ]
    },
    {
     "name": "stderr",
     "output_type": "stream",
     "text": [
      "WARNING:absl:Found untraced functions such as _jit_compiled_convolution_op, _jit_compiled_convolution_op, _update_step_xla while saving (showing 3 of 3). These functions will not be directly callable after loading.\n"
     ]
    },
    {
     "name": "stdout",
     "output_type": "stream",
     "text": [
      "INFO:tensorflow:Assets written to: ./image_classifier/best_model/assets\n"
     ]
    },
    {
     "name": "stderr",
     "output_type": "stream",
     "text": [
      "INFO:tensorflow:Assets written to: ./image_classifier/best_model/assets\n"
     ]
    },
    {
     "name": "stdout",
     "output_type": "stream",
     "text": [
      "Model: \"model\"\n",
      "_________________________________________________________________\n",
      " Layer (type)                Output Shape              Param #   \n",
      "=================================================================\n",
      " input_1 (InputLayer)        [(None, 832, 280, 3)]     0         \n",
      "                                                                 \n",
      " cast_to_float32 (CastToFloa  (None, 832, 280, 3)      0         \n",
      " t32)                                                            \n",
      "                                                                 \n",
      " normalization (Normalizatio  (None, 832, 280, 3)      7         \n",
      " n)                                                              \n",
      "                                                                 \n",
      " conv2d (Conv2D)             (None, 830, 278, 32)      896       \n",
      "                                                                 \n",
      " conv2d_1 (Conv2D)           (None, 828, 276, 64)      18496     \n",
      "                                                                 \n",
      " max_pooling2d (MaxPooling2D  (None, 414, 138, 64)     0         \n",
      " )                                                               \n",
      "                                                                 \n",
      " dropout (Dropout)           (None, 414, 138, 64)      0         \n",
      "                                                                 \n",
      " flatten (Flatten)           (None, 3656448)           0         \n",
      "                                                                 \n",
      " dropout_1 (Dropout)         (None, 3656448)           0         \n",
      "                                                                 \n",
      " dense (Dense)               (None, 7)                 25595143  \n",
      "                                                                 \n",
      " classification_head_1 (Soft  (None, 7)                0         \n",
      " max)                                                            \n",
      "                                                                 \n",
      "=================================================================\n",
      "Total params: 25,614,542\n",
      "Trainable params: 25,614,535\n",
      "Non-trainable params: 7\n",
      "_________________________________________________________________\n"
     ]
    },
    {
     "data": {
      "image/png": "[encoded data removed]",
      "text/plain": [
       "<Figure size 432x288 with 1 Axes>"
      ]
     },
     "metadata": {
      "needs_background": "light"
     },
     "output_type": "display_data"
    },
    {
     "data": {
      "image/png": "[encoded data removed]",
      "text/plain": [
       "<Figure size 432x288 with 1 Axes>"
      ]
     },
     "metadata": {
      "needs_background": "light"
     },
     "output_type": "display_data"
    }
   ],
   "source": [
    "model_10_5 = executeModelAutoKeras(10,shoes_train5, shoes_test5, shoes_val5, df_shoe_brand5,num_classes5 )"
   ]
  },
  {
   "cell_type": "code",
   "execution_count": 160,
   "metadata": {},
   "outputs": [
    {
     "name": "stdout",
     "output_type": "stream",
     "text": [
      "5/5 [==============================] - 13s 2s/step\n",
      "5/5 [==============================] - 12s 2s/step\n",
      "Test evaluation:\n",
      "5/5 [==============================] - 15s 3s/step - loss: 1.8039 - accuracy: 0.4545\n",
      "[1.8038644790649414, 0.4545454680919647]\n",
      "Matriz de confusión:\n"
     ]
    },
    {
     "data": {
      "image/png": "[encoded data removed]",
      "text/plain": [
       "<Figure size 432x288 with 2 Axes>"
      ]
     },
     "metadata": {
      "needs_background": "light"
     },
     "output_type": "display_data"
    }
   ],
   "source": [
    "evaluateAutoModel(model_10_5,shoes_test5,df_shoe_brand5,num_classes5 )"
   ]
  },
  {
   "cell_type": "code",
   "execution_count": 43,
   "metadata": {},
   "outputs": [
    {
     "name": "stdout",
     "output_type": "stream",
     "text": [
      "(529, 832, 280, 3)\n",
      "INFO:tensorflow:Reloading Tuner from ./image_classifier/tuner0.json\n",
      "WARNING:tensorflow:From /Library/Frameworks/Python.framework/Versions/3.8/lib/python3.8/site-packages/tensorflow/python/autograph/pyct/static_analysis/liveness.py:83: Analyzer.lamba_check (from tensorflow.python.autograph.pyct.static_analysis.liveness) is deprecated and will be removed after 2023-09-23.\n",
      "Instructions for updating:\n",
      "Lambda fuctions will be no more assumed to be used in the statement where they are used, or at least in the same block. https://github.com/tensorflow/tensorflow/issues/56089\n",
      "INFO:tensorflow:Oracle triggered exit\n",
      "Epoch 1/25\n",
      "17/17 [==============================] - 193s 11s/step - loss: 77.5774 - accuracy: 0.1361\n",
      "Epoch 2/25\n",
      "17/17 [==============================] - 243s 14s/step - loss: 1.9155 - accuracy: 0.3384\n",
      "Epoch 3/25\n",
      "17/17 [==============================] - 238s 14s/step - loss: 1.9270 - accuracy: 0.5425\n",
      "Epoch 4/25\n",
      "17/17 [==============================] - 204s 12s/step - loss: 1.7413 - accuracy: 0.4650\n",
      "Epoch 5/25\n",
      "17/17 [==============================] - 195s 11s/step - loss: 0.7695 - accuracy: 0.8091\n",
      "Epoch 6/25\n",
      "17/17 [==============================] - 157s 9s/step - loss: 0.0657 - accuracy: 0.9962\n",
      "Epoch 7/25\n",
      "17/17 [==============================] - 156s 9s/step - loss: 0.0147 - accuracy: 1.0000\n",
      "Epoch 8/25\n",
      "17/17 [==============================] - 154s 9s/step - loss: 0.0039 - accuracy: 1.0000\n",
      "Epoch 9/25\n",
      "17/17 [==============================] - 154s 9s/step - loss: 0.0024 - accuracy: 1.0000\n",
      "Epoch 10/25\n",
      "17/17 [==============================] - 153s 9s/step - loss: 0.0013 - accuracy: 1.0000\n",
      "Epoch 11/25\n",
      "17/17 [==============================] - 151s 9s/step - loss: 8.7374e-04 - accuracy: 1.0000\n",
      "Epoch 12/25\n",
      "17/17 [==============================] - 152s 9s/step - loss: 7.5630e-04 - accuracy: 1.0000\n",
      "Epoch 13/25\n",
      "17/17 [==============================] - 151s 9s/step - loss: 6.8024e-04 - accuracy: 1.0000\n",
      "Epoch 14/25\n",
      "17/17 [==============================] - 149s 9s/step - loss: 5.5525e-04 - accuracy: 1.0000\n",
      "Epoch 15/25\n",
      "17/17 [==============================] - 150s 9s/step - loss: 4.7360e-04 - accuracy: 1.0000\n",
      "Epoch 16/25\n",
      "17/17 [==============================] - 151s 9s/step - loss: 4.0872e-04 - accuracy: 1.0000\n",
      "Epoch 17/25\n",
      "17/17 [==============================] - 152s 9s/step - loss: 3.9472e-04 - accuracy: 1.0000\n",
      "Epoch 18/25\n",
      "17/17 [==============================] - 150s 9s/step - loss: 3.3750e-04 - accuracy: 1.0000\n",
      "Epoch 19/25\n",
      "17/17 [==============================] - 153s 9s/step - loss: 3.0469e-04 - accuracy: 1.0000\n",
      "Epoch 20/25\n",
      "17/17 [==============================] - 153s 9s/step - loss: 2.7503e-04 - accuracy: 1.0000\n",
      "Epoch 21/25\n",
      "17/17 [==============================] - 149s 9s/step - loss: 2.4288e-04 - accuracy: 1.0000\n",
      "Epoch 22/25\n",
      "17/17 [==============================] - 151s 9s/step - loss: 2.0961e-04 - accuracy: 1.0000\n",
      "Epoch 23/25\n",
      "17/17 [==============================] - 149s 9s/step - loss: 2.0753e-04 - accuracy: 1.0000\n",
      "Epoch 24/25\n",
      "17/17 [==============================] - 148s 9s/step - loss: 2.0901e-04 - accuracy: 1.0000\n",
      "Epoch 25/25\n",
      "17/17 [==============================] - 151s 9s/step - loss: 1.5189e-04 - accuracy: 1.0000\n"
     ]
    },
    {
     "name": "stderr",
     "output_type": "stream",
     "text": [
      "WARNING:absl:Found untraced functions such as _jit_compiled_convolution_op, _jit_compiled_convolution_op, _update_step_xla while saving (showing 3 of 3). These functions will not be directly callable after loading.\n"
     ]
    },
    {
     "name": "stdout",
     "output_type": "stream",
     "text": [
      "INFO:tensorflow:Assets written to: ./image_classifier/best_model/assets\n"
     ]
    },
    {
     "name": "stderr",
     "output_type": "stream",
     "text": [
      "INFO:tensorflow:Assets written to: ./image_classifier/best_model/assets\n"
     ]
    },
    {
     "name": "stdout",
     "output_type": "stream",
     "text": [
      "Model: \"model\"\n",
      "_________________________________________________________________\n",
      " Layer (type)                Output Shape              Param #   \n",
      "=================================================================\n",
      " input_1 (InputLayer)        [(None, 832, 280, 3)]     0         \n",
      "                                                                 \n",
      " cast_to_float32 (CastToFloa  (None, 832, 280, 3)      0         \n",
      " t32)                                                            \n",
      "                                                                 \n",
      " normalization (Normalizatio  (None, 832, 280, 3)      7         \n",
      " n)                                                              \n",
      "                                                                 \n",
      " conv2d (Conv2D)             (None, 830, 278, 32)      896       \n",
      "                                                                 \n",
      " conv2d_1 (Conv2D)           (None, 828, 276, 64)      18496     \n",
      "                                                                 \n",
      " max_pooling2d (MaxPooling2D  (None, 414, 138, 64)     0         \n",
      " )                                                               \n",
      "                                                                 \n",
      " dropout (Dropout)           (None, 414, 138, 64)      0         \n",
      "                                                                 \n",
      " flatten (Flatten)           (None, 3656448)           0         \n",
      "                                                                 \n",
      " dropout_1 (Dropout)         (None, 3656448)           0         \n",
      "                                                                 \n",
      " dense (Dense)               (None, 7)                 25595143  \n",
      "                                                                 \n",
      " classification_head_1 (Soft  (None, 7)                0         \n",
      " max)                                                            \n",
      "                                                                 \n",
      "=================================================================\n",
      "Total params: 25,614,542\n",
      "Trainable params: 25,614,535\n",
      "Non-trainable params: 7\n",
      "_________________________________________________________________\n"
     ]
    },
    {
     "data": {
      "image/png": "[encoded data removed]",
      "text/plain": [
       "<Figure size 432x288 with 1 Axes>"
      ]
     },
     "metadata": {
      "needs_background": "light"
     },
     "output_type": "display_data"
    },
    {
     "data": {
      "image/png": "[encoded data removed]",
      "text/plain": [
       "<Figure size 432x288 with 1 Axes>"
      ]
     },
     "metadata": {
      "needs_background": "light"
     },
     "output_type": "display_data"
    }
   ],
   "source": [
    "model_25_5 = executeModelAutoKeras(25,shoes_train5, shoes_test5, shoes_val5, df_shoe_brand5,num_classes5 )"
   ]
  },
  {
   "cell_type": "code",
   "execution_count": 46,
   "metadata": {},
   "outputs": [
    {
     "name": "stdout",
     "output_type": "stream",
     "text": [
      "5/5 [==============================] - 10s 2s/step\n",
      "5/5 [==============================] - 9s 2s/step\n",
      "Test evaluation:\n",
      "5/5 [==============================] - 10s 2s/step - loss: 1.5070 - accuracy: 0.5779\n",
      "[1.5070083141326904, 0.5779221057891846]\n",
      "Matriz de confusión:\n"
     ]
    },
    {
     "data": {
      "image/png": "[encoded data removed]",
      "text/plain": [
       "<Figure size 432x288 with 2 Axes>"
      ]
     },
     "metadata": {
      "needs_background": "light"
     },
     "output_type": "display_data"
    }
   ],
   "source": [
    "evaluateAutoModel(model_25_5,shoes_test5,df_shoe_brand5,num_classes5 )"
   ]
  },
  {
   "cell_type": "code",
   "execution_count": 47,
   "metadata": {},
   "outputs": [
    {
     "name": "stdout",
     "output_type": "stream",
     "text": [
      "Brands with at least 1 samples: 59\n",
      "Brands with only 1 register: 0\n",
      "                     X         y factor_brand\n",
      "0     021_05_R_03.jpeg  Champion          0.0\n",
      "1     005_10_R_05.jpeg    Cooeli          1.0\n",
      "2     026_06_R_01.jpeg      Keen          2.0\n",
      "3     009_08_R_05.jpeg     Asics          3.0\n",
      "4     020_04_R_04.jpeg      Soma          4.0\n",
      "...                ...       ...          ...\n",
      "1495  017_03_R_01.jpeg      Ofem         45.0\n",
      "1496  018_04_R_02.jpeg    Sperry         12.0\n",
      "1497  012_05_R_03.jpeg  Namuhana         42.0\n",
      "1498  009_12_L_03.jpeg     Sugar         56.0\n",
      "1499  025_03_L_04.jpeg      Nike         15.0\n",
      "\n",
      "[1470 rows x 3 columns]\n"
     ]
    }
   ],
   "source": [
    "num_classes1, df_shoe_brand1,shoes_train1, shoes_test1, shoes_val1 = returnDataByMinSample(1)\n"
   ]
  },
  {
   "cell_type": "code",
   "execution_count": 48,
   "metadata": {},
   "outputs": [
    {
     "name": "stdout",
     "output_type": "stream",
     "text": [
      "(1011, 832, 280, 3)\n",
      "INFO:tensorflow:Reloading Tuner from ./image_classifier/tuner0.json\n"
     ]
    },
    {
     "name": "stderr",
     "output_type": "stream",
     "text": [
      "INFO:tensorflow:Reloading Tuner from ./image_classifier/tuner0.json\n"
     ]
    },
    {
     "name": "stdout",
     "output_type": "stream",
     "text": [
      "INFO:tensorflow:Oracle triggered exit\n"
     ]
    },
    {
     "name": "stderr",
     "output_type": "stream",
     "text": [
      "INFO:tensorflow:Oracle triggered exit\n"
     ]
    },
    {
     "name": "stdout",
     "output_type": "stream",
     "text": [
      "Epoch 1/10\n",
      "32/32 [==============================] - 437s 13s/step - loss: 62.0615 - accuracy: 0.0959\n",
      "Epoch 2/10\n",
      "32/32 [==============================] - 455s 14s/step - loss: 3.5376 - accuracy: 0.2028\n",
      "Epoch 3/10\n",
      "32/32 [==============================] - 498s 16s/step - loss: 1.9029 - accuracy: 0.5005\n",
      "Epoch 4/10\n",
      "32/32 [==============================] - 492s 15s/step - loss: 0.3256 - accuracy: 0.9614\n",
      "Epoch 5/10\n",
      "32/32 [==============================] - 482s 15s/step - loss: 0.0266 - accuracy: 1.0000\n",
      "Epoch 6/10\n",
      "32/32 [==============================] - 688s 22s/step - loss: 0.0062 - accuracy: 1.0000\n",
      "Epoch 7/10\n",
      "32/32 [==============================] - 485s 15s/step - loss: 0.0031 - accuracy: 1.0000\n",
      "Epoch 8/10\n",
      "32/32 [==============================] - 547s 17s/step - loss: 0.0021 - accuracy: 1.0000\n",
      "Epoch 9/10\n",
      "32/32 [==============================] - 3769s 121s/step - loss: 0.0014 - accuracy: 1.0000\n",
      "Epoch 10/10\n",
      "32/32 [==============================] - 522s 16s/step - loss: 0.0011 - accuracy: 1.0000\n"
     ]
    },
    {
     "name": "stderr",
     "output_type": "stream",
     "text": [
      "WARNING:absl:Found untraced functions such as _jit_compiled_convolution_op, _jit_compiled_convolution_op, _update_step_xla while saving (showing 3 of 3). These functions will not be directly callable after loading.\n"
     ]
    },
    {
     "name": "stdout",
     "output_type": "stream",
     "text": [
      "INFO:tensorflow:Assets written to: ./image_classifier/best_model/assets\n"
     ]
    },
    {
     "name": "stderr",
     "output_type": "stream",
     "text": [
      "INFO:tensorflow:Assets written to: ./image_classifier/best_model/assets\n"
     ]
    },
    {
     "name": "stdout",
     "output_type": "stream",
     "text": [
      "Model: \"model\"\n",
      "_________________________________________________________________\n",
      " Layer (type)                Output Shape              Param #   \n",
      "=================================================================\n",
      " input_1 (InputLayer)        [(None, 832, 280, 3)]     0         \n",
      "                                                                 \n",
      " cast_to_float32 (CastToFloa  (None, 832, 280, 3)      0         \n",
      " t32)                                                            \n",
      "                                                                 \n",
      " normalization (Normalizatio  (None, 832, 280, 3)      7         \n",
      " n)                                                              \n",
      "                                                                 \n",
      " conv2d (Conv2D)             (None, 830, 278, 32)      896       \n",
      "                                                                 \n",
      " conv2d_1 (Conv2D)           (None, 828, 276, 64)      18496     \n",
      "                                                                 \n",
      " max_pooling2d (MaxPooling2D  (None, 414, 138, 64)     0         \n",
      " )                                                               \n",
      "                                                                 \n",
      " dropout (Dropout)           (None, 414, 138, 64)      0         \n",
      "                                                                 \n",
      " flatten (Flatten)           (None, 3656448)           0         \n",
      "                                                                 \n",
      " dropout_1 (Dropout)         (None, 3656448)           0         \n",
      "                                                                 \n",
      " dense (Dense)               (None, 59)                215730491 \n",
      "                                                                 \n",
      " classification_head_1 (Soft  (None, 59)               0         \n",
      " max)                                                            \n",
      "                                                                 \n",
      "=================================================================\n",
      "Total params: 215,749,890\n",
      "Trainable params: 215,749,883\n",
      "Non-trainable params: 7\n",
      "_________________________________________________________________\n"
     ]
    },
    {
     "data": {
      "image/png": "[encoded data removed]",
      "text/plain": [
       "<Figure size 432x288 with 1 Axes>"
      ]
     },
     "metadata": {
      "needs_background": "light"
     },
     "output_type": "display_data"
    },
    {
     "data": {
      "image/png": "[encoded data removed]",
      "text/plain": [
       "<Figure size 432x288 with 1 Axes>"
      ]
     },
     "metadata": {
      "needs_background": "light"
     },
     "output_type": "display_data"
    }
   ],
   "source": [
    "model_10_1 = executeModelAutoKeras(10,shoes_train1, shoes_test1, shoes_val1, df_shoe_brand1,num_classes1 )"
   ]
  },
  {
   "cell_type": "code",
   "execution_count": 51,
   "metadata": {},
   "outputs": [
    {
     "name": "stdout",
     "output_type": "stream",
     "text": [
      "10/10 [==============================] - 18s 2s/step\n",
      "10/10 [==============================] - 18s 2s/step\n",
      "Test evaluation:\n",
      "10/10 [==============================] - 19s 2s/step - loss: 4.8662 - accuracy: 0.2415\n",
      "[4.866211891174316, 0.24149659276008606]\n"
     ]
    }
   ],
   "source": [
    "evaluateAutoModel(model_10_1,shoes_test1,df_shoe_brand1,num_classes1 )"
   ]
  },
  {
   "cell_type": "code",
   "execution_count": 52,
   "metadata": {},
   "outputs": [
    {
     "name": "stdout",
     "output_type": "stream",
     "text": [
      "(1011, 832, 280, 3)\n",
      "INFO:tensorflow:Reloading Tuner from ./image_classifier/tuner0.json\n"
     ]
    },
    {
     "name": "stderr",
     "output_type": "stream",
     "text": [
      "INFO:tensorflow:Reloading Tuner from ./image_classifier/tuner0.json\n"
     ]
    },
    {
     "name": "stdout",
     "output_type": "stream",
     "text": [
      "INFO:tensorflow:Oracle triggered exit\n"
     ]
    },
    {
     "name": "stderr",
     "output_type": "stream",
     "text": [
      "INFO:tensorflow:Oracle triggered exit\n"
     ]
    },
    {
     "name": "stdout",
     "output_type": "stream",
     "text": [
      "Epoch 1/25\n",
      "32/32 [==============================] - 392s 12s/step - loss: 55.0381 - accuracy: 0.0613\n",
      "Epoch 2/25\n",
      "32/32 [==============================] - 404s 12s/step - loss: 3.8807 - accuracy: 0.1998\n",
      "Epoch 3/25\n",
      "32/32 [==============================] - 417s 13s/step - loss: 2.9283 - accuracy: 0.2542\n",
      "Epoch 4/25\n",
      "32/32 [==============================] - 469s 15s/step - loss: 1.4167 - accuracy: 0.6677\n",
      "Epoch 5/25\n",
      "32/32 [==============================] - 472s 15s/step - loss: 0.1990 - accuracy: 0.9832\n",
      "Epoch 6/25\n",
      "32/32 [==============================] - 450s 14s/step - loss: 0.0302 - accuracy: 0.9990\n",
      "Epoch 7/25\n",
      "32/32 [==============================] - 461s 14s/step - loss: 0.0092 - accuracy: 1.0000\n",
      "Epoch 8/25\n",
      "32/32 [==============================] - 454s 14s/step - loss: 0.0048 - accuracy: 1.0000\n",
      "Epoch 9/25\n",
      "32/32 [==============================] - 400s 12s/step - loss: 0.0030 - accuracy: 1.0000\n",
      "Epoch 10/25\n",
      "32/32 [==============================] - 476s 15s/step - loss: 0.0019 - accuracy: 1.0000\n",
      "Epoch 11/25\n",
      "32/32 [==============================] - 411s 13s/step - loss: 0.0017 - accuracy: 1.0000\n",
      "Epoch 12/25\n",
      "32/32 [==============================] - 410s 13s/step - loss: 0.0011 - accuracy: 1.0000\n",
      "Epoch 13/25\n",
      "32/32 [==============================] - 398s 12s/step - loss: 9.1976e-04 - accuracy: 1.0000\n",
      "Epoch 14/25\n",
      "32/32 [==============================] - 393s 12s/step - loss: 8.5472e-04 - accuracy: 1.0000\n",
      "Epoch 15/25\n",
      "32/32 [==============================] - 383s 12s/step - loss: 7.0538e-04 - accuracy: 1.0000\n",
      "Epoch 16/25\n",
      "32/32 [==============================] - 394s 12s/step - loss: 6.7856e-04 - accuracy: 1.0000\n",
      "Epoch 17/25\n",
      "32/32 [==============================] - 466s 15s/step - loss: 5.9489e-04 - accuracy: 1.0000\n",
      "Epoch 18/25\n",
      "32/32 [==============================] - 386s 12s/step - loss: 5.5598e-04 - accuracy: 1.0000\n",
      "Epoch 19/25\n",
      "32/32 [==============================] - 392s 12s/step - loss: 4.7414e-04 - accuracy: 1.0000\n",
      "Epoch 20/25\n",
      "32/32 [==============================] - 477s 15s/step - loss: 4.4539e-04 - accuracy: 1.0000\n",
      "Epoch 21/25\n",
      "32/32 [==============================] - 497s 15s/step - loss: 4.2356e-04 - accuracy: 1.0000\n",
      "Epoch 22/25\n",
      "32/32 [==============================] - 570s 18s/step - loss: 3.2111e-04 - accuracy: 1.0000\n",
      "Epoch 23/25\n",
      "32/32 [==============================] - 895s 28s/step - loss: 3.4202e-04 - accuracy: 1.0000\n",
      "Epoch 24/25\n",
      "32/32 [==============================] - 4353s 140s/step - loss: 2.8533e-04 - accuracy: 1.0000\n",
      "Epoch 25/25\n",
      "32/32 [==============================] - 624s 20s/step - loss: 2.6198e-04 - accuracy: 1.0000\n"
     ]
    },
    {
     "name": "stderr",
     "output_type": "stream",
     "text": [
      "WARNING:absl:Found untraced functions such as _jit_compiled_convolution_op, _jit_compiled_convolution_op, _update_step_xla while saving (showing 3 of 3). These functions will not be directly callable after loading.\n"
     ]
    },
    {
     "name": "stdout",
     "output_type": "stream",
     "text": [
      "INFO:tensorflow:Assets written to: ./image_classifier/best_model/assets\n"
     ]
    },
    {
     "name": "stderr",
     "output_type": "stream",
     "text": [
      "INFO:tensorflow:Assets written to: ./image_classifier/best_model/assets\n"
     ]
    },
    {
     "name": "stdout",
     "output_type": "stream",
     "text": [
      "Model: \"model\"\n",
      "_________________________________________________________________\n",
      " Layer (type)                Output Shape              Param #   \n",
      "=================================================================\n",
      " input_1 (InputLayer)        [(None, 832, 280, 3)]     0         \n",
      "                                                                 \n",
      " cast_to_float32 (CastToFloa  (None, 832, 280, 3)      0         \n",
      " t32)                                                            \n",
      "                                                                 \n",
      " normalization (Normalizatio  (None, 832, 280, 3)      7         \n",
      " n)                                                              \n",
      "                                                                 \n",
      " conv2d (Conv2D)             (None, 830, 278, 32)      896       \n",
      "                                                                 \n",
      " conv2d_1 (Conv2D)           (None, 828, 276, 64)      18496     \n",
      "                                                                 \n",
      " max_pooling2d (MaxPooling2D  (None, 414, 138, 64)     0         \n",
      " )                                                               \n",
      "                                                                 \n",
      " dropout (Dropout)           (None, 414, 138, 64)      0         \n",
      "                                                                 \n",
      " flatten (Flatten)           (None, 3656448)           0         \n",
      "                                                                 \n",
      " dropout_1 (Dropout)         (None, 3656448)           0         \n",
      "                                                                 \n",
      " dense (Dense)               (None, 59)                215730491 \n",
      "                                                                 \n",
      " classification_head_1 (Soft  (None, 59)               0         \n",
      " max)                                                            \n",
      "                                                                 \n",
      "=================================================================\n",
      "Total params: 215,749,890\n",
      "Trainable params: 215,749,883\n",
      "Non-trainable params: 7\n",
      "_________________________________________________________________\n"
     ]
    },
    {
     "data": {
      "image/png": "[encoded data removed]",
      "text/plain": [
       "<Figure size 432x288 with 1 Axes>"
      ]
     },
     "metadata": {
      "needs_background": "light"
     },
     "output_type": "display_data"
    },
    {
     "data": {
      "image/png": "[encoded data removed]",
      "text/plain": [
       "<Figure size 432x288 with 1 Axes>"
      ]
     },
     "metadata": {
      "needs_background": "light"
     },
     "output_type": "display_data"
    }
   ],
   "source": [
    "model_25_1 = executeModelAutoKeras(25,shoes_train1, shoes_test1, shoes_val1, df_shoe_brand1,num_classes1 )"
   ]
  },
  {
   "cell_type": "code",
   "execution_count": 53,
   "metadata": {},
   "outputs": [
    {
     "name": "stdout",
     "output_type": "stream",
     "text": [
      "10/10 [==============================] - 40s 3s/step\n",
      "10/10 [==============================] - 34s 3s/step\n",
      "Test evaluation:\n",
      "10/10 [==============================] - 58s 5s/step - loss: 5.5439 - accuracy: 0.2347\n",
      "[5.543888092041016, 0.23469388484954834]\n"
     ]
    }
   ],
   "source": [
    "evaluateAutoModel(model_25_1,shoes_test1,df_shoe_brand1,num_classes1 )"
   ]
  },
  {
   "cell_type": "markdown",
   "metadata": {},
   "source": [
    "## Uso de modelo pre-entrenado ImageNet"
   ]
  },
  {
   "cell_type": "code",
   "execution_count": 20,
   "metadata": {},
   "outputs": [],
   "source": [
    "#Se ha creado un generador para añadir la aumentación de las imágenes\n",
    "import torchvision.io\n",
    "import torch\n",
    "from tensorflow.keras.utils import Sequence\n",
    "import torchvision.transforms as T\n",
    "from torchvision.transforms import Resize\n",
    "from skimage.io import imread\n",
    "from skimage.util import img_as_float,random_noise\n",
    "from skimage.transform import rotate\n",
    "from skimage.color import rgb2gray\n",
    "import numpy as np\n",
    "import random\n",
    "import os\n",
    "from skimage import io\n",
    "from skimage import transform, util\n",
    "\n",
    "\n",
    "\n",
    "#función que elimina las filas y columnas en blanco:\n",
    "def crop_image(gray, pixel_value=220):\n",
    "    #gray = cv2.imread(filename, cv2.IMREAD_GRAYSCALE)\n",
    "    \n",
    "    crop_rows = gray[~np.all(gray > pixel_value, axis=1), :]\n",
    "    cropped_image = crop_rows[:, ~np.all(crop_rows > pixel_value, axis=0)]\n",
    "    return cropped_image\n",
    "\n",
    "def create_variation(theImage,doFlip,doNoise,doRotate):\n",
    "  image = img_as_float(theImage)\n",
    "  if doFlip==True:\n",
    "    image = np.fliplr(image)\n",
    "  if doNoise==True:\n",
    "    image = util.random_noise(image)\n",
    "  if doRotate==True:\n",
    "    image = transform.rotate(image, random.randint(-45, 45),mode='symmetric')\n",
    "  return image\n",
    "\n",
    "class DataGenerator2dFootwear(Sequence):\n",
    "    def __init__(self,data, df_shoe_brand,doRandomize=False,imgPath='images', doGray=True,doBin=True, doCrop = True,batchSize=10):\n",
    "        # Store parameters\n",
    "        self.imgPath=imgPath\n",
    "        self.fileNames=data.copy()\n",
    "        self.batchSize=batchSize\n",
    "        self.doRandomize=doRandomize\n",
    "        self.df_shoe_brand=df_shoe_brand\n",
    "        self.doGray=doGray\n",
    "        self.doBin=doBin\n",
    "        self.doCrop=doCrop\n",
    "        # Get number of files (to avoid computing them later)\n",
    "        self.numImages=len(data)\n",
    "        # Shuffle them if required\n",
    "        self.on_epoch_end()\n",
    "\n",
    "    # Shuffle data if required\n",
    "    def on_epoch_end(self):\n",
    "        if self.doRandomize:\n",
    "            random.shuffle(self.fileNames)\n",
    "\n",
    "    # Returns the number of total batches\n",
    "    def __len__(self):\n",
    "        return int(np.ceil(float(self.numImages)/float(self.batchSize)))\n",
    "\n",
    "    def _load_image_(self,theIndex):\n",
    "\n",
    "   \n",
    "        file = self.fileNames[theIndex]  \n",
    "        \n",
    "        \n",
    "        img = io.imread(self.imgPath+file)\n",
    "        img = cv2.resize(img, (244,244), interpolation = cv2.INTER_AREA)\n",
    "        h,w,c = img.shape #guardar el shape por si se hace crop poder hacer el resize \n",
    "     \n",
    "        if self.doGray:#escala de grises\n",
    "            img = rgb2gray(img)\n",
    "            #plot_image_grey(img)\n",
    "        if self.doBin: #blanco y negro\n",
    "            test_binary_high,img = cv.threshold(img,0, 255, cv2.THRESH_BINARY)\n",
    "        if self.doCrop: #quitar columnas/filas blancas\n",
    "            img = crop_image(img)\n",
    "        #plot_image_grey(newimg)\n",
    "            img = cv2.resize(img, (h,w), interpolation = cv2.INTER_AREA)\n",
    "        \n",
    "        theImage = img_as_float(img) \n",
    "        \n",
    "        theImage=theImage /255.0 \n",
    "        \n",
    "        if self.doRandomize:\n",
    "          theImage=create_variation(img,random.choice([True, False]),random.choice([True, False]),random.choice([True, False])) \n",
    "      \n",
    "        person = self.df_shoe_brand[self.df_shoe_brand['X'].str[:6]==file[:6]]  #persona+contador de calzado\n",
    "        theClass = person['factor_brand'].iloc[0]\n",
    "        return theImage,theClass\n",
    "\n",
    "    # Provides the images,class batch\n",
    "    # Batch format:\n",
    "    # - X : The data. Numpy array of shape (bs,nr,nc,3)\n",
    "    # - y : The ground truth. Numpy array of shape (bs,1)\n",
    "    # Where nb=batch size, nr=num rows, nc=num cols\n",
    "    def __getitem__(self,theIndex):\n",
    "        X=[]\n",
    "        y=[]\n",
    "        bStart=max(theIndex*self.batchSize,0)\n",
    "        bEnd=min((theIndex+1)*self.batchSize,self.numImages)\n",
    "        for i in range(bStart,bEnd):\n",
    "            [curImage,curGT]=self._load_image_(i)\n",
    "            X.append(curImage)\n",
    "            y.append(curGT)\n",
    "        return np.array(X),np.array(y)\n",
    "    \n",
    "    \n"
   ]
  },
  {
   "cell_type": "code",
   "execution_count": 21,
   "metadata": {},
   "outputs": [],
   "source": [
    "from keras.applications.vgg16 import VGG16\n",
    "from tensorflow.keras.applications.resnet50 import ResNet50\n",
    "from tensorflow.keras.layers import Input, BatchNormalization, Dropout, Flatten, Dense\n",
    "from tensorflow.keras import models\n",
    "import tensorflow as tf\n",
    "import ssl\n",
    "import cv2\n",
    "\n",
    "\n",
    "#se usa para evitar el error SSL que lanza VGG16\n",
    "ssl._create_default_https_context = ssl._create_unverified_context"
   ]
  },
  {
   "cell_type": "code",
   "execution_count": 22,
   "metadata": {},
   "outputs": [],
   "source": [
    "def create_model(n_classes,  fine_tune=0, type = 0, optimizer='adam'):\n",
    "    \n",
    "    if type == 0: #vgg16\n",
    "        conv_base = VGG16(include_top=False,\n",
    "                         weights='imagenet', input_shape=(224,224,3),\n",
    "                         classes=n_classes)\n",
    "    else: #preparado para futuro\n",
    "        conv_base = ResNet50(include_top=False, input_shape=(224,224,3),\n",
    "                         classes=n_classes,\n",
    "                   weights=\"imagenet\")\n",
    "        \n",
    "    \n",
    "    # Defines how many layers to freeze during training.\n",
    "    if fine_tune > 0:\n",
    "        for layer in conv_base.layers[:-fine_tune]:\n",
    "            layer.trainable = True\n",
    "    else:\n",
    "        for layer in conv_base.layers:\n",
    "            layer.trainable = False\n",
    "\n",
    "    top_model = models.Sequential()\n",
    "    top_model.add(conv_base)\n",
    "    top_model.add(Flatten())\n",
    "    top_model.add(Dense(n_classes,activation='softmax'))\n",
    "   \n",
    "    \n",
    "    return top_model\n"
   ]
  },
  {
   "cell_type": "code",
   "execution_count": 23,
   "metadata": {},
   "outputs": [],
   "source": [
    "def checkModel(modelTest, testGenerator, shoes_test, num_classes):\n",
    "    predicted_y = modelTest.predict(testGenerator)\n",
    "    print(\"Test evaluation:\")\n",
    "    print(modelTest.evaluate(testGenerator))\n",
    "    print(\"% of correct brand in the first 3 positions:\")\n",
    "    checkAccuracyFirstPositions(predicted_y, shoes_test,3)\n",
    "    print(\"% of brand predicted with percentage >= 0.25\") #independent from position\n",
    "    checkBrandPercent(predicted_y, shoes_test,0.25)\n",
    "    print(\"% of brand predicted with percentage >= 0.5\") \n",
    "    checkBrandPercent(predicted_y, shoes_test,0.5)\n",
    "    print(\"% of brand predicted with percentage >= 0.75\") \n",
    "    checkBrandPercent(predicted_y, shoes_test,0.75)\n",
    "    print(\"Matriz de confusión:\") \n",
    "    printConfMatrix(predicted_y,shoes_test, num_classes)"
   ]
  },
  {
   "cell_type": "code",
   "execution_count": 24,
   "metadata": {},
   "outputs": [],
   "source": [
    "\n",
    "from keras.models import Model\n",
    "from keras.layers import Dense,Flatten\n",
    "from keras import backend as K\n",
    "\n",
    "def executePreModel(train, test2, val, df, n, doAum = False,fine_tune=0, type = 0):\n",
    "\n",
    "    modelPre = create_model( n,fine_tune, type)\n",
    "    modelPre.compile(optimizer='adam',\n",
    "              loss=tf.keras.losses.SparseCategoricalCrossentropy(from_logits=False),\n",
    "              metrics=['accuracy'])   \n",
    "    \n",
    "    trainGeneratorPre=DataGenerator2dFootwear(train['X'].tolist(),df_shoe_brand,doAum, \"images/\", False, False, False)\n",
    "    testGeneratorPre=DataGenerator2dFootwear(test2['X'].tolist(),df_shoe_brand,False, \"images/\", False, False, False)\n",
    "    valGeneratorPre=DataGenerator2dFootwear(val['X'].tolist(),df_shoe_brand,False, \"images/\",False, False, False)\n",
    "\n",
    "    preHistory = modelPre.fit(trainGeneratorPre,validation_data=valGeneratorPre, epochs=10)    \n",
    "    plot_history(preHistory)\n",
    "    \n",
    "    checkModel(modelPre, testGeneratorPre, test2, n)\n",
    "    \n",
    "    return modelPre\n",
    "    "
   ]
  },
  {
   "cell_type": "code",
   "execution_count": 94,
   "metadata": {},
   "outputs": [
    {
     "name": "stdout",
     "output_type": "stream",
     "text": [
      "Epoch 1/10\n",
      "53/53 [==============================] - 86s 2s/step - loss: 2.3777 - accuracy: 0.2231 - val_loss: 1.9535 - val_accuracy: 0.1724\n",
      "Epoch 2/10\n",
      "53/53 [==============================] - 198s 4s/step - loss: 2.1387 - accuracy: 0.2609 - val_loss: 1.8394 - val_accuracy: 0.3563\n",
      "Epoch 3/10\n",
      "53/53 [==============================] - 163s 3s/step - loss: 2.0652 - accuracy: 0.2439 - val_loss: 1.8282 - val_accuracy: 0.3563\n",
      "Epoch 4/10\n",
      "53/53 [==============================] - 159s 3s/step - loss: 2.1087 - accuracy: 0.2609 - val_loss: 2.1588 - val_accuracy: 0.3563\n",
      "Epoch 5/10\n",
      "53/53 [==============================] - 166s 3s/step - loss: 2.1990 - accuracy: 0.2117 - val_loss: 2.3160 - val_accuracy: 0.1149\n",
      "Epoch 6/10\n",
      "53/53 [==============================] - 179s 3s/step - loss: 2.2477 - accuracy: 0.2287 - val_loss: 2.1522 - val_accuracy: 0.3563\n",
      "Epoch 7/10\n",
      "53/53 [==============================] - 177s 3s/step - loss: 2.1970 - accuracy: 0.2533 - val_loss: 2.3992 - val_accuracy: 0.1149\n",
      "Epoch 8/10\n",
      "53/53 [==============================] - 189s 4s/step - loss: 2.1358 - accuracy: 0.2571 - val_loss: 1.9320 - val_accuracy: 0.1149\n",
      "Epoch 9/10\n",
      "53/53 [==============================] - 175s 3s/step - loss: 2.1403 - accuracy: 0.2079 - val_loss: 1.9083 - val_accuracy: 0.3563\n",
      "Epoch 10/10\n",
      "53/53 [==============================] - 185s 4s/step - loss: 2.2647 - accuracy: 0.2325 - val_loss: 1.9962 - val_accuracy: 0.2069\n"
     ]
    },
    {
     "data": {
      "image/png": "[encoded data removed]",
      "text/plain": [
       "<Figure size 432x288 with 1 Axes>"
      ]
     },
     "metadata": {
      "needs_background": "light"
     },
     "output_type": "display_data"
    },
    {
     "data": {
      "image/png": "[encoded data removed]",
      "text/plain": [
       "<Figure size 432x288 with 1 Axes>"
      ]
     },
     "metadata": {
      "needs_background": "light"
     },
     "output_type": "display_data"
    },
    {
     "name": "stdout",
     "output_type": "stream",
     "text": [
      "16/16 [==============================] - 48s 3s/step\n",
      "Test evaluation:\n",
      "16/16 [==============================] - 47s 3s/step - loss: 2.1311 - accuracy: 0.1948\n",
      "[2.1310842037200928, 0.19480518996715546]\n",
      "% of correct brand in the first 3 positions:\n",
      "80\n",
      "0.5194805194805194\n",
      "% of brand predicted with percentage >= 0.25\n",
      "0.44805194805194803\n",
      "% of brand predicted with percentage >= 0.5\n",
      "0.0\n",
      "% of brand predicted with percentage >= 0.75\n",
      "0.0\n",
      "Matriz de confusión:\n"
     ]
    },
    {
     "data": {
      "image/png": "[encoded data removed]",
      "text/plain": [
       "<Figure size 432x288 with 2 Axes>"
      ]
     },
     "metadata": {
      "needs_background": "light"
     },
     "output_type": "display_data"
    }
   ],
   "source": [
    "#vgg16 aum=True fine=0\n",
    "model_pre_vgg16_no_aum_no_fine = executePreModel(shoes_train, shoes_test, shoes_val, df_shoe_brand,num_classes, False,  0, 0 )"
   ]
  },
  {
   "cell_type": "code",
   "execution_count": 95,
   "metadata": {},
   "outputs": [
    {
     "name": "stdout",
     "output_type": "stream",
     "text": [
      "Epoch 1/10\n",
      "53/53 [==============================] - 190s 4s/step - loss: 1.2029 - accuracy: 0.5955 - val_loss: 4.7278 - val_accuracy: 0.1149\n",
      "Epoch 2/10\n",
      "53/53 [==============================] - 190s 4s/step - loss: 0.2785 - accuracy: 0.9112 - val_loss: 5.2535 - val_accuracy: 0.1149\n",
      "Epoch 3/10\n",
      "53/53 [==============================] - 185s 3s/step - loss: 0.1979 - accuracy: 0.9433 - val_loss: 3.9035 - val_accuracy: 0.1149\n",
      "Epoch 4/10\n",
      "53/53 [==============================] - 166s 3s/step - loss: 0.1402 - accuracy: 0.9565 - val_loss: 3.7069 - val_accuracy: 0.1149\n",
      "Epoch 5/10\n",
      "53/53 [==============================] - 162s 3s/step - loss: 0.1194 - accuracy: 0.9641 - val_loss: 4.0561 - val_accuracy: 0.1149\n",
      "Epoch 6/10\n",
      "53/53 [==============================] - 165s 3s/step - loss: 0.0877 - accuracy: 0.9754 - val_loss: 4.8375 - val_accuracy: 0.1149\n",
      "Epoch 7/10\n",
      "53/53 [==============================] - 163s 3s/step - loss: 0.0534 - accuracy: 0.9868 - val_loss: 6.3262 - val_accuracy: 0.1149\n",
      "Epoch 8/10\n",
      "53/53 [==============================] - 175s 3s/step - loss: 0.0789 - accuracy: 0.9735 - val_loss: 5.8930 - val_accuracy: 0.1149\n",
      "Epoch 9/10\n",
      "53/53 [==============================] - 185s 3s/step - loss: 0.0753 - accuracy: 0.9735 - val_loss: 4.2675 - val_accuracy: 0.1149\n",
      "Epoch 10/10\n",
      "53/53 [==============================] - 181s 3s/step - loss: 0.0282 - accuracy: 0.9943 - val_loss: 5.9707 - val_accuracy: 0.1149\n"
     ]
    },
    {
     "data": {
      "image/png": "[encoded data removed]",
      "text/plain": [
       "<Figure size 432x288 with 1 Axes>"
      ]
     },
     "metadata": {
      "needs_background": "light"
     },
     "output_type": "display_data"
    },
    {
     "data": {
      "image/png": "[encoded data removed]",
      "text/plain": [
       "<Figure size 432x288 with 1 Axes>"
      ]
     },
     "metadata": {
      "needs_background": "light"
     },
     "output_type": "display_data"
    },
    {
     "name": "stdout",
     "output_type": "stream",
     "text": [
      "16/16 [==============================] - 41s 3s/step\n",
      "Test evaluation:\n",
      "16/16 [==============================] - 39s 2s/step - loss: 5.9193 - accuracy: 0.1558\n",
      "[5.919312000274658, 0.15584415197372437]\n",
      "% of correct brand in the first 3 positions:\n",
      "82\n",
      "0.5324675324675324\n",
      "% of brand predicted with percentage >= 0.25\n",
      "0.15584415584415584\n",
      "% of brand predicted with percentage >= 0.5\n",
      "0.15584415584415584\n",
      "% of brand predicted with percentage >= 0.75\n",
      "0.15584415584415584\n",
      "Matriz de confusión:\n"
     ]
    },
    {
     "data": {
      "image/png": "[encoded data removed]",
      "text/plain": [
       "<Figure size 432x288 with 2 Axes>"
      ]
     },
     "metadata": {
      "needs_background": "light"
     },
     "output_type": "display_data"
    }
   ],
   "source": [
    "#vgg16, aum = true, fine=0\n",
    "model_pre_vgg16_aum_no_fine = executePreModel(shoes_train, shoes_test, shoes_val, df_shoe_brand,num_classes, True,  0, 0 )"
   ]
  },
  {
   "cell_type": "code",
   "execution_count": 96,
   "metadata": {},
   "outputs": [
    {
     "name": "stdout",
     "output_type": "stream",
     "text": [
      "Epoch 1/10\n",
      "53/53 [==============================] - 548s 10s/step - loss: 2.1159 - accuracy: 0.2306 - val_loss: 1.9374 - val_accuracy: 0.3563\n",
      "Epoch 2/10\n",
      "53/53 [==============================] - 502s 9s/step - loss: 1.9323 - accuracy: 0.3176 - val_loss: 1.9249 - val_accuracy: 0.3563\n",
      "Epoch 3/10\n",
      "53/53 [==============================] - 590s 11s/step - loss: 1.9207 - accuracy: 0.3176 - val_loss: 1.9123 - val_accuracy: 0.3563\n",
      "Epoch 4/10\n",
      "53/53 [==============================] - 575s 11s/step - loss: 1.9096 - accuracy: 0.3176 - val_loss: 1.9015 - val_accuracy: 0.3563\n",
      "Epoch 5/10\n",
      "53/53 [==============================] - 601s 11s/step - loss: 1.8997 - accuracy: 0.3176 - val_loss: 1.8909 - val_accuracy: 0.3563\n",
      "Epoch 6/10\n",
      "53/53 [==============================] - 617s 12s/step - loss: 1.8905 - accuracy: 0.3176 - val_loss: 1.8807 - val_accuracy: 0.3563\n",
      "Epoch 7/10\n",
      "53/53 [==============================] - 599s 11s/step - loss: 1.8820 - accuracy: 0.3176 - val_loss: 1.8721 - val_accuracy: 0.3563\n",
      "Epoch 8/10\n",
      "53/53 [==============================] - 559s 11s/step - loss: 1.8745 - accuracy: 0.3176 - val_loss: 1.8636 - val_accuracy: 0.3563\n",
      "Epoch 9/10\n",
      "53/53 [==============================] - 523s 10s/step - loss: 1.8675 - accuracy: 0.3176 - val_loss: 1.8564 - val_accuracy: 0.3563\n",
      "Epoch 10/10\n",
      "53/53 [==============================] - 570s 11s/step - loss: 1.8614 - accuracy: 0.3176 - val_loss: 1.8494 - val_accuracy: 0.3563\n"
     ]
    },
    {
     "data": {
      "image/png": "[encoded data removed]",
      "text/plain": [
       "<Figure size 432x288 with 1 Axes>"
      ]
     },
     "metadata": {
      "needs_background": "light"
     },
     "output_type": "display_data"
    },
    {
     "data": {
      "image/png": "[encoded data removed]",
      "text/plain": [
       "<Figure size 432x288 with 1 Axes>"
      ]
     },
     "metadata": {
      "needs_background": "light"
     },
     "output_type": "display_data"
    },
    {
     "name": "stdout",
     "output_type": "stream",
     "text": [
      "16/16 [==============================] - 50s 3s/step\n",
      "Test evaluation:\n",
      "16/16 [==============================] - 47s 3s/step - loss: 1.8876 - accuracy: 0.2662\n",
      "[1.8875682353973389, 0.26623377203941345]\n",
      "% of correct brand in the first 3 positions:\n",
      "93\n",
      "0.6038961038961039\n",
      "% of brand predicted with percentage >= 0.25\n",
      "0.0\n",
      "% of brand predicted with percentage >= 0.5\n",
      "0.0\n",
      "% of brand predicted with percentage >= 0.75\n",
      "0.0\n",
      "Matriz de confusión:\n"
     ]
    },
    {
     "data": {
      "image/png": "[encoded data removed]",
      "text/plain": [
       "<Figure size 432x288 with 2 Axes>"
      ]
     },
     "metadata": {
      "needs_background": "light"
     },
     "output_type": "display_data"
    }
   ],
   "source": [
    "#vgg16, aum = false, fine=4\n",
    "model_pre_vgg16_no_aum_fine = executePreModel(shoes_train, shoes_test, shoes_val, df_shoe_brand,num_classes, False,  4, 0 )"
   ]
  },
  {
   "cell_type": "code",
   "execution_count": 97,
   "metadata": {},
   "outputs": [
    {
     "name": "stdout",
     "output_type": "stream",
     "text": [
      "Epoch 1/10\n",
      "53/53 [==============================] - 585s 11s/step - loss: 2.6669 - accuracy: 0.2684 - val_loss: 1.7942 - val_accuracy: 0.3563\n",
      "Epoch 2/10\n",
      "53/53 [==============================] - 609s 12s/step - loss: 1.8794 - accuracy: 0.3119 - val_loss: 1.8981 - val_accuracy: 0.3563\n",
      "Epoch 3/10\n",
      "53/53 [==============================] - 483s 9s/step - loss: 1.8649 - accuracy: 0.3119 - val_loss: 1.8758 - val_accuracy: 0.3563\n",
      "Epoch 4/10\n",
      "53/53 [==============================] - 416s 8s/step - loss: 1.8729 - accuracy: 0.2854 - val_loss: 1.8407 - val_accuracy: 0.3563\n",
      "Epoch 5/10\n",
      "53/53 [==============================] - 393s 7s/step - loss: 1.9455 - accuracy: 0.3081 - val_loss: 1.8500 - val_accuracy: 0.3563\n",
      "Epoch 6/10\n",
      "53/53 [==============================] - 423s 8s/step - loss: 1.8877 - accuracy: 0.3119 - val_loss: 1.8061 - val_accuracy: 0.3563\n",
      "Epoch 7/10\n",
      "53/53 [==============================] - 411s 8s/step - loss: 1.8190 - accuracy: 0.3176 - val_loss: 1.7968 - val_accuracy: 0.3563\n",
      "Epoch 8/10\n",
      "53/53 [==============================] - 393s 7s/step - loss: 1.8228 - accuracy: 0.3176 - val_loss: 1.8038 - val_accuracy: 0.3563\n",
      "Epoch 9/10\n",
      "53/53 [==============================] - 363s 7s/step - loss: 1.8192 - accuracy: 0.3176 - val_loss: 1.7934 - val_accuracy: 0.3563\n",
      "Epoch 10/10\n",
      "53/53 [==============================] - 384s 7s/step - loss: 1.8179 - accuracy: 0.3176 - val_loss: 1.7951 - val_accuracy: 0.3563\n"
     ]
    },
    {
     "data": {
      "image/png": "[encoded data removed]",
      "text/plain": [
       "<Figure size 432x288 with 1 Axes>"
      ]
     },
     "metadata": {
      "needs_background": "light"
     },
     "output_type": "display_data"
    },
    {
     "data": {
      "image/png": "[encoded data removed]",
      "text/plain": [
       "<Figure size 432x288 with 1 Axes>"
      ]
     },
     "metadata": {
      "needs_background": "light"
     },
     "output_type": "display_data"
    },
    {
     "name": "stdout",
     "output_type": "stream",
     "text": [
      "16/16 [==============================] - 39s 2s/step\n",
      "Test evaluation:\n",
      "16/16 [==============================] - 32s 2s/step - loss: 1.9147 - accuracy: 0.2662\n",
      "[1.9146512746810913, 0.26623377203941345]\n",
      "% of correct brand in the first 3 positions:\n",
      "93\n",
      "0.6038961038961039\n",
      "% of brand predicted with percentage >= 0.25\n",
      "0.2662337662337662\n",
      "% of brand predicted with percentage >= 0.5\n",
      "0.0\n",
      "% of brand predicted with percentage >= 0.75\n",
      "0.0\n",
      "Matriz de confusión:\n"
     ]
    },
    {
     "data": {
      "image/png": "[encoded data removed]",
      "text/plain": [
       "<Figure size 432x288 with 2 Axes>"
      ]
     },
     "metadata": {
      "needs_background": "light"
     },
     "output_type": "display_data"
    }
   ],
   "source": [
    "#vgg16, aum = true, fine=4\n",
    "model_pre_vgg16_aum_fine = executePreModel(shoes_train, shoes_test, shoes_val, df_shoe_brand,num_classes, True,  4, 0 )"
   ]
  },
  {
   "cell_type": "code",
   "execution_count": null,
   "metadata": {},
   "outputs": [],
   "source": [
    "#restnet aum=False fine=0\n",
    "model_pre_rest_no_aum_no_fine = executePreModel(shoes_train, shoes_test, shoes_val, df_shoe_brand,num_classes, False,  0, 1 )"
   ]
  },
  {
   "cell_type": "code",
   "execution_count": null,
   "metadata": {},
   "outputs": [],
   "source": [
    "#restnet aum=True fine=0\n",
    "model_pre_rest_aum_no_fine = executePreModel(shoes_train, shoes_test, shoes_val, df_shoe_brand,num_classes, False,  0, 1 )"
   ]
  },
  {
   "cell_type": "code",
   "execution_count": null,
   "metadata": {},
   "outputs": [],
   "source": [
    "#restnet aum=False fine=4\n",
    "model_pre_rest_no_aum_fine = executePreModel(shoes_train, shoes_test, shoes_val, df_shoe_brand,num_classes, False,  4, 1 )"
   ]
  },
  {
   "cell_type": "code",
   "execution_count": null,
   "metadata": {},
   "outputs": [],
   "source": [
    "#restnet aum=True fine=4\n",
    "model_pre_rest_aum_fine = executePreModel(shoes_train, shoes_test, shoes_val, df_shoe_brand,num_classes, True,  4, 1 )"
   ]
  }
 ],
 "metadata": {
  "kernelspec": {
   "display_name": "Python 3",
   "language": "python",
   "name": "python3"
  },
  "language_info": {
   "codemirror_mode": {
    "name": "ipython",
    "version": 3
   },
   "file_extension": ".py",
   "mimetype": "text/x-python",
   "name": "python",
   "nbconvert_exporter": "python",
   "pygments_lexer": "ipython3",
   "version": "3.8.2"
  }
 },
 "nbformat": 4,
 "nbformat_minor": 4
}
