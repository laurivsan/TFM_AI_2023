{
 "cells": [
  {
   "cell_type": "markdown",
   "metadata": {},
   "source": [
    "# Identificación de huellas de calzado a partir de imágenes con redes neuronales convolucionales \n",
    "\n",
    "## Validación cruzada\n",
    "\n",
    "El objetivo de este apartado entrenar la red neuronal con todos los datos de la base de datos 2dFootwear que contiene la etiqueta de la marca, para posteriormente hacer algúnas predicciones con la otra base de datos (FD300)\n",
    "\n",
    "¿Cómo valorar la eficacia?\n",
    "\n",
    "\n"
   ]
  },
  {
   "cell_type": "code",
   "execution_count": 51,
   "metadata": {},
   "outputs": [],
   "source": [
    "#librerias necesarias:\n",
    "import pandas as pd\n",
    "import numpy as np\n",
    "from zipfile import ZipFile\n",
    "import matplotlib.pyplot as plt\n",
    "from PIL import Image\n",
    "import os\n",
    "import random\n",
    "import skimage\n",
    "import cv2 \n"
   ]
  },
  {
   "cell_type": "markdown",
   "metadata": {},
   "source": [
    "## Lectura"
   ]
  },
  {
   "cell_type": "code",
   "execution_count": 52,
   "metadata": {},
   "outputs": [],
   "source": [
    "def unzipImages(folder='images'):\n",
    "    with ZipFile('data/2dFootwear/Part1.zip', 'r') as zipObj:\n",
    "      zipObj.extractall(folder)\n",
    "\n",
    "    with ZipFile('data/2dFootwear/Part2.zip', 'r') as zipObj:\n",
    "      zipObj.extractall(folder)\n",
    "    with ZipFile('data/2dFootwear/Part3.zip', 'r') as zipObj:\n",
    "      zipObj.extractall(folder)\n",
    "\n",
    "    with ZipFile('data/2dFootwear/Part4.zip', 'r') as zipObj:\n",
    "      zipObj.extractall(folder)\n",
    "\n",
    "    with ZipFile('data/2dFootwear/Part5.zip', 'r') as zipObj:\n",
    "      zipObj.extractall(folder)"
   ]
  },
  {
   "cell_type": "code",
   "execution_count": 53,
   "metadata": {},
   "outputs": [],
   "source": [
    "unzipImages()"
   ]
  },
  {
   "cell_type": "code",
   "execution_count": 54,
   "metadata": {},
   "outputs": [],
   "source": [
    "df = pd.read_csv('data/2dFootwear/Data-information.csv', delimiter=';')\n",
    "df['Brand'] = df['Brand'].str.strip() #eliminar espacios en blanco\n",
    "\n",
    "X_files = df['ID'].values.tolist()\n",
    "brands = df['Brand'].values.tolist()\n",
    "values_brand, counts_brand = np.unique(brands, return_counts=True)\n",
    "num_classes = len(values_brand) #se guarda porque será necesario para crear el modelo\n",
    "\n"
   ]
  },
  {
   "cell_type": "code",
   "execution_count": 55,
   "metadata": {},
   "outputs": [
    {
     "name": "stdout",
     "output_type": "stream",
     "text": [
      "Brands with at least 5 samples: 7\n",
      "Brands with only 1 register: 52\n"
     ]
    }
   ],
   "source": [
    "\n",
    "def filterMinSamples(data, minSamples, deleteNone=True):\n",
    "    if deleteNone == True:\n",
    "        data=data[data['x']!=\"None\"] #eliminar marca = \"None\"\n",
    "    dataone=data[data['y']<minSamples] #marcas con pocas muestras\n",
    "    data=data[data['y']>=minSamples] #marcas con minimo \"minSamples\" muestras\n",
    "    num_classes=len(data)\n",
    "    print('Brands with at least '+str(minSamples)+' samples: %d' %num_classes) \n",
    "    print('Brands with only 1 register: %d' %len(dataone)) \n",
    "    return data, dataone\n",
    "\n",
    "dfbrandall = pd.DataFrame({'x':values_brand, 'y':counts_brand}) \n",
    "\n",
    "dfbrand, dfbrandone = filterMinSamples(dfbrandall, 5)\n",
    "\n",
    "num_classes=len(dfbrand)\n",
    "dfbrand = dfbrand.sort_values('y', ascending = False) #ordenar descendientemente\n",
    "\n",
    "\n"
   ]
  },
  {
   "cell_type": "code",
   "execution_count": 56,
   "metadata": {},
   "outputs": [],
   "source": [
    "def crop_jpeg(crop_size, imgPath):\n",
    "    dir_list = os.listdir(\"./\"+imgPath)\n",
    "    for f in dir_list:\n",
    "        im = Image.open(\"./\"+imgPath+\"/\"+f)\n",
    "        h,w,c = im.shape\n",
    "        im3 = im2.crop((crop_size,crop_size,h-(crop_size*2),w-(crop_size*2))) #Quitar marco medidor\n",
    "\n",
    "def get_images_full_to_jpeg(imgPath):\n",
    "  dir_list = os.listdir(\"./\"+imgPath)\n",
    "  result = []\n",
    "\n",
    "  for f in dir_list:\n",
    "\n",
    "    im = Image.open(\"./\"+imgPath+\"/\"+f)\n",
    "    im.save(\"./\"+imgPath+\"/\"+f[0:-4]+'jpeg')\n",
    "    \n",
    "    result.append(f[0:-4]+'jpeg')\n",
    "    os.remove(\"./\"+imgPath+\"/\"+f)\n",
    "\n",
    "  print('Nº files:',len(result))\n",
    "  return result\n",
    "\n",
    "\n",
    "def get_images_to_jpeg(imgPath):\n",
    "  dir_list = os.listdir(\"./\"+imgPath)\n",
    "  result = []\n",
    "\n",
    "  for f in dir_list:\n",
    "\n",
    "    im = Image.open(\"./\"+imgPath+\"/\"+f)\n",
    "    im2=im.resize((400,912))\n",
    "    im3 = im2.crop((40,40,320,872)) #Quitar marco medidor\n",
    "    im3.save(\"./\"+imgPath+\"/\"+f[0:-4]+'jpeg')\n",
    "    \n",
    "    result.append(f[0:-4]+'jpeg')\n",
    "    os.remove(\"./\"+imgPath+\"/\"+f)\n",
    "\n",
    "  print('Nº files:',len(result))\n",
    "  return result\n",
    "\n",
    "def get_images(imgPath):\n",
    "  dir_list = os.listdir(\"./\"+imgPath)\n",
    "  result = []\n",
    "  for f in dir_list:  \n",
    "    result.append(f)\n",
    "\n",
    "\n",
    "  print('Nº files:',len(result))\n",
    "  return result"
   ]
  },
  {
   "cell_type": "code",
   "execution_count": 57,
   "metadata": {},
   "outputs": [
    {
     "name": "stdout",
     "output_type": "stream",
     "text": [
      "Nº files: 1500\n"
     ]
    }
   ],
   "source": [
    "shoeFiles = get_images_to_jpeg(\"images\")"
   ]
  },
  {
   "cell_type": "markdown",
   "metadata": {},
   "source": [
    "### Visualización de imágenes\n",
    "\n",
    "Se ha creado la función *plot_image* que permite la visualización de las imágenes de cualquiera de las dos bases de datos.\n",
    "\n",
    "Parámetros:\\\n",
    "*imgPath*: carpeta donde estan las imágenes \\\n",
    "*fileNames*: array con los nombres de los ficheros a mostrar"
   ]
  },
  {
   "cell_type": "code",
   "execution_count": 58,
   "metadata": {},
   "outputs": [],
   "source": [
    "\n",
    "import skimage\n",
    "def plot_image(imgPath, fileNames):\n",
    "  for i in range(len(fileNames)):\n",
    "    filename = fileNames[i]\n",
    "    img = skimage.io.imread(imgPath+filename)\n",
    "   \n",
    "    plt.figure()\n",
    "    plt.title(str(img.shape)+\" , \"+str(img.dtype))\n",
    "    plt.imshow(img)\n",
    "  print(fileNames)\n",
    "  plt.show()\n",
    "\n",
    "def plot_image2(img):\n",
    "\n",
    "    plt.figure()\n",
    "    plt.title(str(img.shape)+\" , \"+str(img.dtype))\n",
    "    plt.imshow(img)\n",
    "\n",
    "    plt.show()\n",
    "def plot_image_grey(img):\n",
    "\n",
    "    plt.figure()\n",
    "    plt.title(str(img.shape)+\" , \"+str(img.dtype))\n",
    "    plt.imshow(img, cmap='gray')\n",
    "\n",
    "    plt.show()"
   ]
  },
  {
   "cell_type": "code",
   "execution_count": 59,
   "metadata": {},
   "outputs": [
    {
     "name": "stdout",
     "output_type": "stream",
     "text": [
      "Nº of brands: 7\n"
     ]
    },
    {
     "data": {
      "text/html": [
       "<div>\n",
       "<style scoped>\n",
       "    .dataframe tbody tr th:only-of-type {\n",
       "        vertical-align: middle;\n",
       "    }\n",
       "\n",
       "    .dataframe tbody tr th {\n",
       "        vertical-align: top;\n",
       "    }\n",
       "\n",
       "    .dataframe thead th {\n",
       "        text-align: right;\n",
       "    }\n",
       "</style>\n",
       "<table border=\"1\" class=\"dataframe\">\n",
       "  <thead>\n",
       "    <tr style=\"text-align: right;\">\n",
       "      <th></th>\n",
       "      <th>y</th>\n",
       "      <th>factor_brand</th>\n",
       "    </tr>\n",
       "  </thead>\n",
       "  <tbody>\n",
       "    <tr>\n",
       "      <th>2</th>\n",
       "      <td>Nike</td>\n",
       "      <td>0.0</td>\n",
       "    </tr>\n",
       "    <tr>\n",
       "      <th>3</th>\n",
       "      <td>Adidas</td>\n",
       "      <td>1.0</td>\n",
       "    </tr>\n",
       "    <tr>\n",
       "      <th>4</th>\n",
       "      <td>Converse</td>\n",
       "      <td>2.0</td>\n",
       "    </tr>\n",
       "    <tr>\n",
       "      <th>14</th>\n",
       "      <td>Sperry</td>\n",
       "      <td>3.0</td>\n",
       "    </tr>\n",
       "    <tr>\n",
       "      <th>16</th>\n",
       "      <td>Saucony</td>\n",
       "      <td>4.0</td>\n",
       "    </tr>\n",
       "    <tr>\n",
       "      <th>20</th>\n",
       "      <td>Asics</td>\n",
       "      <td>5.0</td>\n",
       "    </tr>\n",
       "    <tr>\n",
       "      <th>36</th>\n",
       "      <td>Skechers</td>\n",
       "      <td>6.0</td>\n",
       "    </tr>\n",
       "  </tbody>\n",
       "</table>\n",
       "</div>"
      ],
      "text/plain": [
       "           y factor_brand\n",
       "2       Nike          0.0\n",
       "3     Adidas          1.0\n",
       "4   Converse          2.0\n",
       "14    Sperry          3.0\n",
       "16   Saucony          4.0\n",
       "20     Asics          5.0\n",
       "36  Skechers          6.0"
      ]
     },
     "execution_count": 59,
     "metadata": {},
     "output_type": "execute_result"
    }
   ],
   "source": [
    "def filesWithBrand(shoeFiles):\n",
    "  files = []\n",
    "  brands = []\n",
    "  for image in shoeFiles:\n",
    "    files.append(image) #filename\n",
    "    person = df[df['ID'].str[:6]==image[:6]]  #persona+contador de calzado\n",
    "    brands.append(person['Brand'].iloc[0])\n",
    "\n",
    "  return pd.DataFrame({'X':files, 'y':brands}) \n",
    "\n",
    "def filterBrands(data, one, deleteNone=True):\n",
    "    #dfbrandone creado antes con las marcas que no cumplen.\n",
    "    df_shoe_brand=data[~data['y'].isin(one['x'].to_numpy())]\n",
    "    \n",
    "    if deleteNone == True:\n",
    "        df_shoe_brand=df_shoe_brand[df_shoe_brand['y']!=\"None\"]\n",
    "    \n",
    "    \n",
    "    df_shoe_brand['factor_brand'] = pd.Categorical(pd.factorize(df_shoe_brand['y'])[0].astype(np.float32))\n",
    "    \n",
    "    return df_shoe_brand\n",
    "\n",
    "df_shoe_brand_all = filesWithBrand(shoeFiles) #contiene todas las muestras\n",
    "\n",
    "#eliminar aquellas marcas que no aparecen mínimo en \"minSample\" muestras \n",
    "df_shoe_brand = filterBrands(df_shoe_brand_all,dfbrandone)\n",
    "#número de marcas con 5 o más muestras:\n",
    "print('Nº of brands: %d' %num_classes)\n",
    "show_brands = df_shoe_brand.drop_duplicates(subset = \"y\")\n",
    "show_brands = show_brands[['y','factor_brand']]\n",
    "show_brands"
   ]
  },
  {
   "cell_type": "code",
   "execution_count": 60,
   "metadata": {},
   "outputs": [],
   "source": [
    "shoes_train = df_shoe_brand #todas las imágenes como TRAIN"
   ]
  },
  {
   "cell_type": "code",
   "execution_count": 61,
   "metadata": {},
   "outputs": [
    {
     "name": "stdout",
     "output_type": "stream",
     "text": [
      "Requirement already satisfied: opencv-contrib-python==4.4.0.44 in /Library/Frameworks/Python.framework/Versions/3.8/lib/python3.8/site-packages (4.4.0.44)\n",
      "Requirement already satisfied: numpy>=1.17.3 in /Library/Frameworks/Python.framework/Versions/3.8/lib/python3.8/site-packages (from opencv-contrib-python==4.4.0.44) (1.23.4)\n",
      "\n",
      "\u001b[1m[\u001b[0m\u001b[34;49mnotice\u001b[0m\u001b[1;39;49m]\u001b[0m\u001b[39;49m A new release of pip is available: \u001b[0m\u001b[31;49m23.0.1\u001b[0m\u001b[39;49m -> \u001b[0m\u001b[32;49m23.1.2\u001b[0m\n",
      "\u001b[1m[\u001b[0m\u001b[34;49mnotice\u001b[0m\u001b[1;39;49m]\u001b[0m\u001b[39;49m To update, run: \u001b[0m\u001b[32;49mpip install --upgrade pip\u001b[0m\n"
     ]
    }
   ],
   "source": [
    "!pip install opencv-contrib-python==4.4.0.44 "
   ]
  },
  {
   "cell_type": "markdown",
   "metadata": {},
   "source": [
    "## Entrenar el modelo con 100% de los datos en TRAIN"
   ]
  },
  {
   "cell_type": "code",
   "execution_count": null,
   "metadata": {},
   "outputs": [],
   "source": []
  },
  {
   "cell_type": "code",
   "execution_count": 105,
   "metadata": {},
   "outputs": [],
   "source": [
    "#Se ha creado un generador para añadir la aumentación de las imágenes\n",
    "import torchvision.io\n",
    "import torch\n",
    "from tensorflow.keras.utils import Sequence\n",
    "import torchvision.transforms as T\n",
    "from torchvision.transforms import Resize\n",
    "from skimage.io import imread\n",
    "from skimage.util import img_as_float,random_noise\n",
    "from skimage.transform import rotate\n",
    "from skimage.color import rgb2gray\n",
    "import numpy as np\n",
    "import random\n",
    "import os\n",
    "from skimage import io\n",
    "from skimage import transform, util\n",
    "import cv2  as cv\n",
    "\n",
    "\n",
    "\n",
    "#función que elimina las filas y columnas en blanco:\n",
    "def crop_image(gray, pixel_value=220):\n",
    "    #gray = cv2.imread(filename, cv2.IMREAD_GRAYSCALE)\n",
    "    \n",
    "    crop_rows = gray[~np.all(gray > pixel_value, axis=1), :]\n",
    "    cropped_image = crop_rows[:, ~np.all(crop_rows > pixel_value, axis=0)]\n",
    "    return cropped_image\n",
    "\n",
    "def create_variation(theImage,doFlip,doNoise,doRotate, doCrop = False):\n",
    "  image = img_as_float(theImage)\n",
    "  if doFlip==True:\n",
    "    image = np.fliplr(image)\n",
    "  if doNoise==True:\n",
    "    image = util.random_noise(image)\n",
    "  if doRotate==True:\n",
    "    image = transform.rotate(image, random.randint(-45, 45),mode='symmetric')\n",
    "  return image\n",
    "\n",
    "class DataGenerator2dFootwear(Sequence):\n",
    "    # Constructor. Input parameters are:\n",
    "    # * fileNames   : List of sample file names\n",
    "    # * doRandomize : If True, the provided file names are shuffled after each training epoch\n",
    "    #                 and each image can be left unchanged, flipped, corrupted with\n",
    "    #                 noise or rotated. 8 possible combinations is chosen randomly with equal probability.\n",
    "    #                 If False, file names are not shuffled and each image is provided unchanged.\n",
    "    # * imgPath     : Path to the images \n",
    "    # * batchSize   : Number of sample images and ground truth items in each batch\n",
    "    def __init__(self,data, df_shoe_brand,doRandomize=False,imgPath='images', doGray=True,doBin=True, doCrop = True,batchSize=10):\n",
    "        # Store parameters\n",
    "        self.imgPath=imgPath\n",
    "        self.fileNames=data.copy()\n",
    "        self.batchSize=batchSize\n",
    "        self.doRandomize=doRandomize\n",
    "        self.df_shoe_brand=df_shoe_brand\n",
    "        self.doGray=doGray\n",
    "        self.doBin=doBin\n",
    "        self.doCrop=doCrop\n",
    "        # Get number of files (to avoid computing them later)\n",
    "        self.numImages=len(data)\n",
    "        # Shuffle them if required\n",
    "        self.on_epoch_end()\n",
    "\n",
    "    # Shuffle data if required\n",
    "    def on_epoch_end(self):\n",
    "        if self.doRandomize:\n",
    "            random.shuffle(self.fileNames)\n",
    "\n",
    "    # Returns the number of total batches\n",
    "    def __len__(self):\n",
    "        return int(np.ceil(float(self.numImages)/float(self.batchSize)))\n",
    "\n",
    "    \n",
    "    # Input  : theIndex - Index of the image to load within self.fileNames.\n",
    "    # Output : theImage - Loaded (and possibly transformed) image. Must be\n",
    "    #                     of float type with values within [0,1]\n",
    "    #          theClass - Shoe brand\n",
    "    def _load_image_(self,theIndex):\n",
    "\n",
    "   \n",
    "        file = self.fileNames[theIndex]  \n",
    "        \n",
    "        \n",
    "        img = io.imread(self.imgPath+file)\n",
    "        h,w,c = img.shape #guardar el shape por si se hace crop poder hacer el resize \n",
    "        if self.doGray:#escala de grises\n",
    "            img = rgb2gray(img)\n",
    "            #plot_image_grey(img)\n",
    "        if self.doBin: #blanco y negro\n",
    "            test_binary_high,img = cv.threshold(img,0, 255, cv2.THRESH_BINARY)\n",
    "        if self.doCrop: #quitar columnas/filas blancas\n",
    "            img = crop_image(img)\n",
    "        #plot_image_grey(newimg)\n",
    "            img = cv2.resize(img, (h,w), interpolation = cv2.INTER_AREA)\n",
    "        \n",
    "        theImage = img_as_float(img) \n",
    "        \n",
    "        theImage=theImage /255.0 #normalizar (quito rescaling del modelo)\n",
    "\n",
    "        #añadir aumentación a las imágenes:\n",
    "        if self.doRandomize:\n",
    "          theImage=create_variation(img,random.choice([True, False]),random.choice([True, False]),random.choice([True, False])) \n",
    "        #else:\n",
    "         # theImage=create_variation(img,False, False, False)\n",
    "\n",
    "        #Buscar la imagen en el csv para extraer la Marca:\n",
    "        person = self.df_shoe_brand[self.df_shoe_brand['X'].str[:6]==file[:6]]  #persona+contador de calzado\n",
    "        theClass = person['factor_brand'].iloc[0]#self.classes[theIndex] #¿debe ser numérico o podría ser la etiqueta?\n",
    "        return theImage,theClass\n",
    "\n",
    "    # Provides the images,class batch\n",
    "    # Batch format:\n",
    "    # - X : The data. Numpy array of shape (bs,nr,nc,3)\n",
    "    # - y : The ground truth. Numpy array of shape (bs,1)\n",
    "    # Where nb=batch size, nr=num rows, nc=num cols\n",
    "    def __getitem__(self,theIndex):\n",
    "        X=[]\n",
    "        y=[]\n",
    "        bStart=max(theIndex*self.batchSize,0)\n",
    "        bEnd=min((theIndex+1)*self.batchSize,self.numImages)\n",
    "        for i in range(bStart,bEnd):\n",
    "            [curImage,curGT]=self._load_image_(i)\n",
    "            X.append(curImage)\n",
    "            y.append(curGT)\n",
    "        return np.array(X),np.array(y)\n",
    "    \n",
    "    \n"
   ]
  },
  {
   "cell_type": "code",
   "execution_count": 106,
   "metadata": {},
   "outputs": [],
   "source": [
    "#Modelo con dropout:\n",
    "from tensorflow.keras import models\n",
    "from tensorflow.keras import optimizers\n",
    "from tensorflow.keras.layers import Conv2D, MaxPooling2D, UpSampling2D, Dense, Flatten, Softmax, Rescaling, Dropout\n",
    "import tensorflow as tf\n",
    "def createModelTest(color):\n",
    "    if color == True:\n",
    "        shape = (280,832,3)\n",
    "    else:\n",
    "        shape = (280,832,1)\n",
    "    model_test = models.Sequential([\n",
    "      #Rescaling(1./255, input_shape=(280,832,3)),\n",
    "      Conv2D(16, 3, padding='same', activation='relu', input_shape=shape),\n",
    "      MaxPooling2D(),\n",
    "      Conv2D(32, 3, padding='same', activation='relu'),\n",
    "      MaxPooling2D(),\n",
    "      Conv2D(64, 3, padding='same', activation='relu'),\n",
    "      MaxPooling2D(),\n",
    "      Flatten(),\n",
    "      Dense(128, activation='relu'),\n",
    "      Dropout(0.5),\n",
    "      Dense(num_classes, activation='softmax'),\n",
    "      Flatten()\n",
    "      #Dense(num_classes,activation='softmax')\n",
    "      # ,Flatten()\n",
    "    ])\n",
    "    return model_test"
   ]
  },
  {
   "cell_type": "code",
   "execution_count": 107,
   "metadata": {},
   "outputs": [],
   "source": [
    "\n",
    "def plot_history(history):\n",
    "# summarize history for accuracy\n",
    "    plt.plot(history.history['accuracy'])\n",
    "    plt.plot(history.history['val_accuracy'])\n",
    "    plt.title('model accuracy')\n",
    "    plt.ylabel('accuracy')\n",
    "    plt.xlabel('epoch')\n",
    "    plt.legend(['train', 'test'], loc='upper left')\n",
    "    plt.show()\n",
    "    # summarize history for loss\n",
    "    plt.plot(history.history['loss'])\n",
    "    plt.plot(history.history['val_loss'])\n",
    "    plt.title('model loss')\n",
    "    plt.ylabel('loss')\n",
    "    plt.xlabel('epoch')\n",
    "    plt.legend(['train', 'test'], loc='upper left')\n",
    "    plt.show()\n",
    "\n",
    "def plot_history_2(history):\n",
    "    plt.plot(history.history['accuracy'])\n",
    "    plt.title('model accuracy')\n",
    "    plt.ylabel('accuracy')\n",
    "    plt.xlabel('epoch')\n",
    "    plt.legend(['train', 'test'], loc='upper left')\n",
    "    plt.show()\n",
    "    # summarize history for loss\n",
    "    plt.plot(history.history['loss'])\n",
    "    plt.title('model loss')\n",
    "    plt.ylabel('loss')\n",
    "    plt.xlabel('epoch')\n",
    "    plt.legend(['train', 'test'], loc='upper left')\n",
    "    plt.show()"
   ]
  },
  {
   "cell_type": "code",
   "execution_count": 108,
   "metadata": {},
   "outputs": [],
   "source": [
    "def showResult(predicted, test, array):\n",
    "    filename = test['X']\n",
    "    img = skimage.io.imread(\"images/\"+filename)\n",
    "   \n",
    "    plt.figure()\n",
    "    plt.title(test['y']+\" \"+str(test['factor_brand']))\n",
    "    plt.imshow(img)\n",
    "    if array == True:\n",
    "        print(predicted)\n",
    "        sort_index = np.argsort(-predicted)\n",
    "        print(sort_index)\n",
    "    else:\n",
    "        print(predicted)"
   ]
  },
  {
   "cell_type": "code",
   "execution_count": 109,
   "metadata": {},
   "outputs": [],
   "source": [
    "def fitModelCross(aumentation, gray, binary, crop, epoch):\n",
    "   \n",
    "    modelTest = createModelTest(not gray)\n",
    "    \n",
    "    modelTest.compile(optimizer='adam',\n",
    "              loss=tf.keras.losses.SparseCategoricalCrossentropy(from_logits=False),\n",
    "              metrics=['accuracy'])\n",
    "    \n",
    "    #Configurar el preprocesado que se hará en las imágenes desntro del Generator.\n",
    "    trainGenerator=DataGenerator2dFootwear(shoes_train['X'].tolist(),df_shoe_brand,aumentation, \"images/\", gray, binary, crop)\n",
    "    #testGenerator=DataGenerator2dFootwear(shoes_test['X'].tolist(),df_shoe_brand,aumentation, \"images/\", gray, binary, crop)\n",
    "    #valGenerator=DataGenerator2dFootwear(shoes_val['X'].tolist(),df_shoe_brand,aumentation, \"images/\", gray, binary, crop)\n",
    "    print(\" \")\n",
    "    print('Training model with aumentation:'+str(aumentation)+', gray:'+str(gray)+', binary:'+str(binary)+', crop:'+str(crop)+' and epochs = '+str(epoch))\n",
    "    trainHistory = modelTest.fit(trainGenerator, epochs=epoch)\n",
    "    \n",
    "    \n",
    "    return trainHistory, modelTest\n",
    "    \n",
    "    "
   ]
  },
  {
   "cell_type": "code",
   "execution_count": 110,
   "metadata": {},
   "outputs": [
    {
     "name": "stdout",
     "output_type": "stream",
     "text": [
      " \n",
      "Training model with aumentation:False, gray:True, binary:True, crop:True and epochs = 10\n",
      "Epoch 1/10\n",
      "77/77 [==============================] - 99s 1s/step - loss: 3.2194 - accuracy: 0.2870\n",
      "Epoch 2/10\n",
      "77/77 [==============================] - 79s 1s/step - loss: 1.3696 - accuracy: 0.4442\n",
      "Epoch 3/10\n",
      "77/77 [==============================] - 86s 1s/step - loss: 0.8993 - accuracy: 0.6870\n",
      "Epoch 4/10\n",
      "77/77 [==============================] - 86s 1s/step - loss: 0.5585 - accuracy: 0.8234\n",
      "Epoch 5/10\n",
      "77/77 [==============================] - 85s 1s/step - loss: 0.3797 - accuracy: 0.8727\n",
      "Epoch 6/10\n",
      "77/77 [==============================] - 82s 1s/step - loss: 0.2884 - accuracy: 0.9195\n",
      "Epoch 7/10\n",
      "77/77 [==============================] - 81s 1s/step - loss: 0.2114 - accuracy: 0.9351\n",
      "Epoch 8/10\n",
      "77/77 [==============================] - 80s 1s/step - loss: 0.1919 - accuracy: 0.9610\n",
      "Epoch 9/10\n",
      "77/77 [==============================] - 80s 1s/step - loss: 0.1291 - accuracy: 0.9649\n",
      "Epoch 10/10\n",
      "77/77 [==============================] - 80s 1s/step - loss: 0.1424 - accuracy: 0.9649\n"
     ]
    }
   ],
   "source": [
    "history, model = fitModelCross(False, True, True, True, 10)"
   ]
  },
  {
   "cell_type": "code",
   "execution_count": 111,
   "metadata": {},
   "outputs": [
    {
     "data": {
      "image/png": "[encoded data removed]",
      "text/plain": [
       "<Figure size 432x288 with 1 Axes>"
      ]
     },
     "metadata": {
      "needs_background": "light"
     },
     "output_type": "display_data"
    },
    {
     "data": {
      "image/png": "[encoded data removed]",
      "text/plain": [
       "<Figure size 432x288 with 1 Axes>"
      ]
     },
     "metadata": {
      "needs_background": "light"
     },
     "output_type": "display_data"
    }
   ],
   "source": [
    "plot_history_2(history)\n",
    "    \n",
    "    "
   ]
  },
  {
   "cell_type": "code",
   "execution_count": 112,
   "metadata": {},
   "outputs": [
    {
     "name": "stdout",
     "output_type": "stream",
     "text": [
      "Nº files: 1175\n",
      "Nº files: 300\n",
      "300\n",
      "00481.png\n",
      "Nº of references: 130\n"
     ]
    },
    {
     "data": {
      "text/html": [
       "<div>\n",
       "<style scoped>\n",
       "    .dataframe tbody tr th:only-of-type {\n",
       "        vertical-align: middle;\n",
       "    }\n",
       "\n",
       "    .dataframe tbody tr th {\n",
       "        vertical-align: top;\n",
       "    }\n",
       "\n",
       "    .dataframe thead th {\n",
       "        text-align: right;\n",
       "    }\n",
       "</style>\n",
       "<table border=\"1\" class=\"dataframe\">\n",
       "  <thead>\n",
       "    <tr style=\"text-align: right;\">\n",
       "      <th></th>\n",
       "      <th>x</th>\n",
       "      <th>y</th>\n",
       "    </tr>\n",
       "  </thead>\n",
       "  <tbody>\n",
       "    <tr>\n",
       "      <th>32</th>\n",
       "      <td>37</td>\n",
       "      <td>7</td>\n",
       "    </tr>\n",
       "    <tr>\n",
       "      <th>19</th>\n",
       "      <td>22</td>\n",
       "      <td>6</td>\n",
       "    </tr>\n",
       "    <tr>\n",
       "      <th>2</th>\n",
       "      <td>3</td>\n",
       "      <td>6</td>\n",
       "    </tr>\n",
       "    <tr>\n",
       "      <th>4</th>\n",
       "      <td>5</td>\n",
       "      <td>6</td>\n",
       "    </tr>\n",
       "    <tr>\n",
       "      <th>44</th>\n",
       "      <td>49</td>\n",
       "      <td>6</td>\n",
       "    </tr>\n",
       "    <tr>\n",
       "      <th>12</th>\n",
       "      <td>14</td>\n",
       "      <td>6</td>\n",
       "    </tr>\n",
       "    <tr>\n",
       "      <th>89</th>\n",
       "      <td>1055</td>\n",
       "      <td>6</td>\n",
       "    </tr>\n",
       "    <tr>\n",
       "      <th>79</th>\n",
       "      <td>1041</td>\n",
       "      <td>5</td>\n",
       "    </tr>\n",
       "    <tr>\n",
       "      <th>55</th>\n",
       "      <td>60</td>\n",
       "      <td>5</td>\n",
       "    </tr>\n",
       "    <tr>\n",
       "      <th>9</th>\n",
       "      <td>11</td>\n",
       "      <td>5</td>\n",
       "    </tr>\n",
       "  </tbody>\n",
       "</table>\n",
       "</div>"
      ],
      "text/plain": [
       "       x  y\n",
       "32    37  7\n",
       "19    22  6\n",
       "2      3  6\n",
       "4      5  6\n",
       "44    49  6\n",
       "12    14  6\n",
       "89  1055  6\n",
       "79  1041  5\n",
       "55    60  5\n",
       "9     11  5"
      ]
     },
     "execution_count": 112,
     "metadata": {},
     "output_type": "execute_result"
    }
   ],
   "source": [
    "#cargar imágenes del otro conjunto de datos\n",
    "\n",
    "df_fid300 = pd.read_csv('data/FID300/label_table.csv', delimiter=',')\n",
    "\n",
    "fid300ref = get_images(\"fid300/references\")\n",
    "fid300crop = get_images(\"fid300/tracks_cropped\")\n",
    "\n",
    "print(len(df_fid300)) #lineas en el csv\n",
    "print(fid300ref[0])\n",
    "\n",
    "X_files = df_fid300['X'].values.tolist()\n",
    "y = df_fid300['y'].values.tolist()\n",
    "\n",
    "values_y, counts_y = np.unique(y, return_counts=True)\n",
    "\n",
    "print('Nº of references: %d' %len(values_y))\n",
    "\n",
    "dfref = pd.DataFrame({'x':values_y, 'y':counts_y}) \n",
    "dfref = dfref.sort_values('y', ascending = False) \n",
    "dfref.head(10) # coger los 5 primeros"
   ]
  },
  {
   "cell_type": "code",
   "execution_count": 113,
   "metadata": {},
   "outputs": [],
   "source": [
    "from tensorflow.keras.preprocessing.image import  load_img, img_to_array\n",
    "import cv2\n",
    "\n",
    "\n",
    "def predict_image(image_dir, model, doGray, doBin, doCrop):\n",
    "    #print(image_dir)\n",
    "    raw_img = cv2.imread(image_dir)\n",
    "    img = cv2.imread(image_dir)\n",
    "\n",
    "    #img = io.imread(image_dir)\n",
    "    #h,w = img.shape #guardar el shape por si se hace crop poder hacer el resize \n",
    "    if doGray:#escala de grises\n",
    "        #img = rgb2gray(img)\n",
    "        img = cv2.cvtColor(img, cv2.COLOR_BGR2GRAY)\n",
    "    if doBin: #blanco y negro\n",
    "        test_binary_high,img = cv.threshold(img,0, 255, cv2.THRESH_BINARY)\n",
    "    if doCrop: #quitar columnas/filas blancas\n",
    "        img = crop_image(img)\n",
    "    img = cv2.resize(img, (832,280), interpolation = cv2.INTER_AREA)\n",
    "    img = img_as_float(img) \n",
    "    img=img /255.0\n",
    "    img = np.expand_dims(img, axis=0)\n",
    "    #print(img.shape)\n",
    "    #raw_image = load_img(image_dir, target_size=(832,280), color_mode = \"grayscale\")\n",
    "    #image = img_to_array(raw_image)\n",
    "    #image = np.expand_dims(image, axis=0)\n",
    "    #image = image / 255.0\n",
    "    pred = model.predict(img)\n",
    "  \n",
    "    return raw_img, pred"
   ]
  },
  {
   "cell_type": "code",
   "execution_count": null,
   "metadata": {},
   "outputs": [],
   "source": []
  },
  {
   "cell_type": "code",
   "execution_count": null,
   "metadata": {},
   "outputs": [],
   "source": [
    "\n",
    "for i,ax in zip(random_sample, axes.ravel()):\n",
    "    img, pred = predict_image(\"fid300/tracks_cropped/\"+i, model, True, True, False)\n",
    "    # Show original image\n",
    "    #print(pred)\n",
    "    sort_index = np.argsort(-pred)\n",
    "    #print(sort_index)\n",
    "    brand= show_brands[show_brands['factor_brand'] == sort_index[0][0]]['y'].iloc[0]\n",
    "    #print(brand)\n",
    "    ax.imshow(img)\n",
    "    ax.set_title('img:'+i+\" predicted:\"+brand)"
   ]
  },
  {
   "cell_type": "markdown",
   "metadata": {},
   "source": [
    "Al utilizar imágenes de otro conjunto de datos, que además estan tomadas con otras técnicas, se observa (mediante análisi qualitativo visual) que no parece acertar la marca. Seguramente esto se debe porque el modelo es demasiado especializado en el tipo de datos.\n",
    "\n",
    "A continuación "
   ]
  },
  {
   "cell_type": "code",
   "execution_count": 69,
   "metadata": {},
   "outputs": [
    {
     "name": "stdout",
     "output_type": "stream",
     "text": [
      " \n",
      "Training model with aumentation:True, gray:True, binary:True, crop:True and epochs = 30\n",
      "Epoch 1/30\n",
      "77/77 [==============================] - 99s 1s/step - loss: 11.3702 - accuracy: 0.2818\n",
      "Epoch 2/30\n",
      "77/77 [==============================] - 86s 1s/step - loss: 7.9942 - accuracy: 0.2571\n",
      "Epoch 3/30\n",
      "77/77 [==============================] - 85s 1s/step - loss: 6.5962 - accuracy: 0.3026\n",
      "Epoch 4/30\n",
      "77/77 [==============================] - 93s 1s/step - loss: 6.4285 - accuracy: 0.3208\n",
      "Epoch 5/30\n",
      "77/77 [==============================] - 88s 1s/step - loss: 6.8190 - accuracy: 0.3208\n",
      "Epoch 6/30\n",
      "77/77 [==============================] - 92s 1s/step - loss: 6.3838 - accuracy: 0.3429\n",
      "Epoch 7/30\n",
      "77/77 [==============================] - 97s 1s/step - loss: 7.0899 - accuracy: 0.3455\n",
      "Epoch 8/30\n",
      "77/77 [==============================] - 94s 1s/step - loss: 6.2533 - accuracy: 0.3597\n",
      "Epoch 9/30\n",
      "77/77 [==============================] - 93s 1s/step - loss: 6.6679 - accuracy: 0.3714\n",
      "Epoch 10/30\n",
      "77/77 [==============================] - 93s 1s/step - loss: 6.3650 - accuracy: 0.3727\n",
      "Epoch 11/30\n",
      "77/77 [==============================] - 102s 1s/step - loss: 6.4496 - accuracy: 0.3727\n",
      "Epoch 12/30\n",
      "77/77 [==============================] - 91s 1s/step - loss: 6.6897 - accuracy: 0.3753\n",
      "Epoch 13/30\n",
      "77/77 [==============================] - 96s 1s/step - loss: 6.3352 - accuracy: 0.3974\n",
      "Epoch 14/30\n",
      "77/77 [==============================] - 91s 1s/step - loss: 6.1312 - accuracy: 0.4130\n",
      "Epoch 15/30\n",
      "77/77 [==============================] - 91s 1s/step - loss: 5.7475 - accuracy: 0.4571\n",
      "Epoch 16/30\n",
      "77/77 [==============================] - 85s 1s/step - loss: 5.9580 - accuracy: 0.4494\n",
      "Epoch 17/30\n",
      "77/77 [==============================] - 87s 1s/step - loss: 6.0938 - accuracy: 0.4299\n",
      "Epoch 18/30\n",
      "77/77 [==============================] - 89s 1s/step - loss: 6.3193 - accuracy: 0.4442\n",
      "Epoch 19/30\n",
      "77/77 [==============================] - 89s 1s/step - loss: 6.1816 - accuracy: 0.4260\n",
      "Epoch 20/30\n",
      "77/77 [==============================] - 90s 1s/step - loss: 6.9983 - accuracy: 0.3000\n",
      "Epoch 21/30\n",
      "77/77 [==============================] - 91s 1s/step - loss: 7.2493 - accuracy: 0.3104\n",
      "Epoch 22/30\n",
      "77/77 [==============================] - 103s 1s/step - loss: 7.3574 - accuracy: 0.3260\n",
      "Epoch 23/30\n",
      "77/77 [==============================] - 92s 1s/step - loss: 7.2877 - accuracy: 0.3156\n",
      "Epoch 24/30\n",
      "77/77 [==============================] - 88s 1s/step - loss: 6.8484 - accuracy: 0.3961\n",
      "Epoch 25/30\n",
      "77/77 [==============================] - 94s 1s/step - loss: 7.1102 - accuracy: 0.3649\n",
      "Epoch 26/30\n",
      "77/77 [==============================] - 97s 1s/step - loss: 6.8790 - accuracy: 0.4195\n",
      "Epoch 27/30\n",
      "77/77 [==============================] - 94s 1s/step - loss: 6.6230 - accuracy: 0.4052\n",
      "Epoch 28/30\n",
      "77/77 [==============================] - 97s 1s/step - loss: 6.7720 - accuracy: 0.4390\n",
      "Epoch 29/30\n",
      "77/77 [==============================] - 97s 1s/step - loss: 7.4972 - accuracy: 0.4169\n",
      "Epoch 30/30\n",
      "77/77 [==============================] - 90s 1s/step - loss: 7.1995 - accuracy: 0.4026\n"
     ]
    }
   ],
   "source": [
    "history_a, model_a = fitModelCross(True, True, True, True, 30)"
   ]
  },
  {
   "cell_type": "code",
   "execution_count": 70,
   "metadata": {},
   "outputs": [
    {
     "data": {
      "image/png": "[encoded data removed]",
      "text/plain": [
       "<Figure size 432x288 with 1 Axes>"
      ]
     },
     "metadata": {
      "needs_background": "light"
     },
     "output_type": "display_data"
    },
    {
     "data": {
      "image/png": "[encoded data removed]",
      "text/plain": [
       "<Figure size 432x288 with 1 Axes>"
      ]
     },
     "metadata": {
      "needs_background": "light"
     },
     "output_type": "display_data"
    }
   ],
   "source": [
    "plot_history_2(history_a)"
   ]
  },
  {
   "cell_type": "code",
   "execution_count": 97,
   "metadata": {},
   "outputs": [],
   "source": [
    " \n",
    "\n",
    "def testImage(file, model):\n",
    "    img, pred = predict_image(\"fid300/references/\"+file, model, True, True, False)\n",
    "    sort_index = np.argsort(-pred)\n",
    "    result = pd.DataFrame({\"brand\":show_brands['y'], \"pred\":pred[0]})\n",
    "    display(result)\n",
    "    #print(-pred)\n",
    "    brand= show_brands[show_brands['factor_brand'] == sort_index[0][0]]['y'].iloc[0]\n",
    "    plt.figure()\n",
    "    plt.title('img:'+i+\" predicted:\"+brand)\n",
    "    plt.imshow(img)\n",
    "    plt.show()\n",
    "    return brand\n",
    "\n",
    "   "
   ]
  },
  {
   "cell_type": "code",
   "execution_count": 99,
   "metadata": {},
   "outputs": [],
   "source": [
    "def showBrandExample(brand):\n",
    "    print(\"TODO\")"
   ]
  },
  {
   "cell_type": "markdown",
   "metadata": {},
   "source": [
    "# Analisis de resultados\n",
    "\n",
    "\n",
    "Para analizar los resultados se han seleccionado 3 imágenes diferentes y con suelas facilmente identificables por marca disponible en el conjunto de datos de entrenamiento o no.\n",
    "\n",
    "La selección se ha realizado de manera visual, priorizando aquellas facilmente reconocibles y añadiendo alguna de marcas desconocidas.\n",
    "\n",
    "00011 Nike\n",
    "00012 Nike\n",
    "00025 Nike\n",
    "00033 Puma (None)\n",
    "00082 Lacoste (None)\n",
    "00109 Adidas\n",
    "00114 Adidas\n",
    "00116 Adidas\n",
    "00119 Adidas\n",
    "00121 Adidas\n",
    "00252 Converse\n",
    "\n"
   ]
  },
  {
   "cell_type": "code",
   "execution_count": null,
   "metadata": {},
   "outputs": [],
   "source": [
    "#Muestra 3 imágenes de Nike, Adidas y Converse.\n",
    "showBrandExample(\"Nike\")"
   ]
  },
  {
   "cell_type": "code",
   "execution_count": null,
   "metadata": {},
   "outputs": [],
   "source": [
    "showBrandExample(\"Adidas\")"
   ]
  },
  {
   "cell_type": "code",
   "execution_count": null,
   "metadata": {},
   "outputs": [],
   "source": [
    "showBrandExample(\"Converse\")\n",
    "\n"
   ]
  },
  {
   "cell_type": "markdown",
   "metadata": {},
   "source": [
    "### Pruebas sin aumentación\n"
   ]
  },
  {
   "cell_type": "code",
   "execution_count": 114,
   "metadata": {},
   "outputs": [
    {
     "name": "stdout",
     "output_type": "stream",
     "text": [
      "1/1 [==============================] - 0s 164ms/step\n"
     ]
    },
    {
     "data": {
      "text/html": [
       "<div>\n",
       "<style scoped>\n",
       "    .dataframe tbody tr th:only-of-type {\n",
       "        vertical-align: middle;\n",
       "    }\n",
       "\n",
       "    .dataframe tbody tr th {\n",
       "        vertical-align: top;\n",
       "    }\n",
       "\n",
       "    .dataframe thead th {\n",
       "        text-align: right;\n",
       "    }\n",
       "</style>\n",
       "<table border=\"1\" class=\"dataframe\">\n",
       "  <thead>\n",
       "    <tr style=\"text-align: right;\">\n",
       "      <th></th>\n",
       "      <th>brand</th>\n",
       "      <th>pred</th>\n",
       "    </tr>\n",
       "  </thead>\n",
       "  <tbody>\n",
       "    <tr>\n",
       "      <th>2</th>\n",
       "      <td>Nike</td>\n",
       "      <td>1.000000e+00</td>\n",
       "    </tr>\n",
       "    <tr>\n",
       "      <th>3</th>\n",
       "      <td>Adidas</td>\n",
       "      <td>9.357464e-25</td>\n",
       "    </tr>\n",
       "    <tr>\n",
       "      <th>4</th>\n",
       "      <td>Converse</td>\n",
       "      <td>2.932246e-35</td>\n",
       "    </tr>\n",
       "    <tr>\n",
       "      <th>14</th>\n",
       "      <td>Sperry</td>\n",
       "      <td>5.310403e-27</td>\n",
       "    </tr>\n",
       "    <tr>\n",
       "      <th>16</th>\n",
       "      <td>Saucony</td>\n",
       "      <td>0.000000e+00</td>\n",
       "    </tr>\n",
       "    <tr>\n",
       "      <th>20</th>\n",
       "      <td>Asics</td>\n",
       "      <td>4.151550e-36</td>\n",
       "    </tr>\n",
       "    <tr>\n",
       "      <th>36</th>\n",
       "      <td>Skechers</td>\n",
       "      <td>6.931504e-38</td>\n",
       "    </tr>\n",
       "  </tbody>\n",
       "</table>\n",
       "</div>"
      ],
      "text/plain": [
       "       brand          pred\n",
       "2       Nike  1.000000e+00\n",
       "3     Adidas  9.357464e-25\n",
       "4   Converse  2.932246e-35\n",
       "14    Sperry  5.310403e-27\n",
       "16   Saucony  0.000000e+00\n",
       "20     Asics  4.151550e-36\n",
       "36  Skechers  6.931504e-38"
      ]
     },
     "metadata": {},
     "output_type": "display_data"
    },
    {
     "data": {
      "image/png": "[encoded data removed]",
      "text/plain": [
       "<Figure size 432x288 with 1 Axes>"
      ]
     },
     "metadata": {
      "needs_background": "light"
     },
     "output_type": "display_data"
    },
    {
     "name": "stdout",
     "output_type": "stream",
     "text": [
      "TODO\n"
     ]
    }
   ],
   "source": [
    "\n",
    "brand = testImage(\"00011.png\", model)\n",
    "\n"
   ]
  },
  {
   "cell_type": "markdown",
   "metadata": {},
   "source": [
    "### Pruebas con aumentación"
   ]
  },
  {
   "cell_type": "code",
   "execution_count": 101,
   "metadata": {},
   "outputs": [
    {
     "name": "stdout",
     "output_type": "stream",
     "text": [
      "1/1 [==============================] - 0s 63ms/step\n"
     ]
    },
    {
     "data": {
      "text/html": [
       "<div>\n",
       "<style scoped>\n",
       "    .dataframe tbody tr th:only-of-type {\n",
       "        vertical-align: middle;\n",
       "    }\n",
       "\n",
       "    .dataframe tbody tr th {\n",
       "        vertical-align: top;\n",
       "    }\n",
       "\n",
       "    .dataframe thead th {\n",
       "        text-align: right;\n",
       "    }\n",
       "</style>\n",
       "<table border=\"1\" class=\"dataframe\">\n",
       "  <thead>\n",
       "    <tr style=\"text-align: right;\">\n",
       "      <th></th>\n",
       "      <th>brand</th>\n",
       "      <th>pred</th>\n",
       "    </tr>\n",
       "  </thead>\n",
       "  <tbody>\n",
       "    <tr>\n",
       "      <th>2</th>\n",
       "      <td>Nike</td>\n",
       "      <td>1.000000e+00</td>\n",
       "    </tr>\n",
       "    <tr>\n",
       "      <th>3</th>\n",
       "      <td>Adidas</td>\n",
       "      <td>1.176959e-13</td>\n",
       "    </tr>\n",
       "    <tr>\n",
       "      <th>4</th>\n",
       "      <td>Converse</td>\n",
       "      <td>0.000000e+00</td>\n",
       "    </tr>\n",
       "    <tr>\n",
       "      <th>14</th>\n",
       "      <td>Sperry</td>\n",
       "      <td>1.112007e-23</td>\n",
       "    </tr>\n",
       "    <tr>\n",
       "      <th>16</th>\n",
       "      <td>Saucony</td>\n",
       "      <td>0.000000e+00</td>\n",
       "    </tr>\n",
       "    <tr>\n",
       "      <th>20</th>\n",
       "      <td>Asics</td>\n",
       "      <td>3.418390e-34</td>\n",
       "    </tr>\n",
       "    <tr>\n",
       "      <th>36</th>\n",
       "      <td>Skechers</td>\n",
       "      <td>4.673505e-28</td>\n",
       "    </tr>\n",
       "  </tbody>\n",
       "</table>\n",
       "</div>"
      ],
      "text/plain": [
       "       brand          pred\n",
       "2       Nike  1.000000e+00\n",
       "3     Adidas  1.176959e-13\n",
       "4   Converse  0.000000e+00\n",
       "14    Sperry  1.112007e-23\n",
       "16   Saucony  0.000000e+00\n",
       "20     Asics  3.418390e-34\n",
       "36  Skechers  4.673505e-28"
      ]
     },
     "metadata": {},
     "output_type": "display_data"
    },
    {
     "data": {
      "image/png": "[encoded data removed]",
      "text/plain": [
       "<Figure size 432x288 with 1 Axes>"
      ]
     },
     "metadata": {
      "needs_background": "light"
     },
     "output_type": "display_data"
    },
    {
     "name": "stdout",
     "output_type": "stream",
     "text": [
      "TODO\n"
     ]
    }
   ],
   "source": [
    "#test1 Nike:\n",
    "brand = testImage(\"00011.png\", model_a)\n"
   ]
  },
  {
   "cell_type": "code",
   "execution_count": null,
   "metadata": {},
   "outputs": [],
   "source": [
    "#test2 Nike:\n",
    "brand = testImage(\"00012.png\", model_a)\n"
   ]
  },
  {
   "cell_type": "code",
   "execution_count": 98,
   "metadata": {},
   "outputs": [
    {
     "name": "stdout",
     "output_type": "stream",
     "text": [
      "1/1 [==============================] - 0s 58ms/step\n"
     ]
    },
    {
     "data": {
      "text/html": [
       "<div>\n",
       "<style scoped>\n",
       "    .dataframe tbody tr th:only-of-type {\n",
       "        vertical-align: middle;\n",
       "    }\n",
       "\n",
       "    .dataframe tbody tr th {\n",
       "        vertical-align: top;\n",
       "    }\n",
       "\n",
       "    .dataframe thead th {\n",
       "        text-align: right;\n",
       "    }\n",
       "</style>\n",
       "<table border=\"1\" class=\"dataframe\">\n",
       "  <thead>\n",
       "    <tr style=\"text-align: right;\">\n",
       "      <th></th>\n",
       "      <th>brand</th>\n",
       "      <th>pred</th>\n",
       "    </tr>\n",
       "  </thead>\n",
       "  <tbody>\n",
       "    <tr>\n",
       "      <th>2</th>\n",
       "      <td>Nike</td>\n",
       "      <td>1.000000e+00</td>\n",
       "    </tr>\n",
       "    <tr>\n",
       "      <th>3</th>\n",
       "      <td>Adidas</td>\n",
       "      <td>1.181699e-13</td>\n",
       "    </tr>\n",
       "    <tr>\n",
       "      <th>4</th>\n",
       "      <td>Converse</td>\n",
       "      <td>0.000000e+00</td>\n",
       "    </tr>\n",
       "    <tr>\n",
       "      <th>14</th>\n",
       "      <td>Sperry</td>\n",
       "      <td>1.122312e-23</td>\n",
       "    </tr>\n",
       "    <tr>\n",
       "      <th>16</th>\n",
       "      <td>Saucony</td>\n",
       "      <td>0.000000e+00</td>\n",
       "    </tr>\n",
       "    <tr>\n",
       "      <th>20</th>\n",
       "      <td>Asics</td>\n",
       "      <td>3.455546e-34</td>\n",
       "    </tr>\n",
       "    <tr>\n",
       "      <th>36</th>\n",
       "      <td>Skechers</td>\n",
       "      <td>4.694750e-28</td>\n",
       "    </tr>\n",
       "  </tbody>\n",
       "</table>\n",
       "</div>"
      ],
      "text/plain": [
       "       brand          pred\n",
       "2       Nike  1.000000e+00\n",
       "3     Adidas  1.181699e-13\n",
       "4   Converse  0.000000e+00\n",
       "14    Sperry  1.122312e-23\n",
       "16   Saucony  0.000000e+00\n",
       "20     Asics  3.455546e-34\n",
       "36  Skechers  4.694750e-28"
      ]
     },
     "metadata": {},
     "output_type": "display_data"
    },
    {
     "data": {
      "image/png": "[encoded data removed]",
      "text/plain": [
       "<Figure size 432x288 with 1 Axes>"
      ]
     },
     "metadata": {
      "needs_background": "light"
     },
     "output_type": "display_data"
    },
    {
     "ename": "NameError",
     "evalue": "name 'showBrandExample' is not defined",
     "output_type": "error",
     "traceback": [
      "\u001b[0;31m---------------------------------------------------------------------------\u001b[0m",
      "\u001b[0;31mNameError\u001b[0m                                 Traceback (most recent call last)",
      "\u001b[0;32m<ipython-input-98-2c0773a91b82>\u001b[0m in \u001b[0;36m<module>\u001b[0;34m\u001b[0m\n\u001b[1;32m      1\u001b[0m \u001b[0;31m#test3 Puma (None):\u001b[0m\u001b[0;34m\u001b[0m\u001b[0;34m\u001b[0m\u001b[0;34m\u001b[0m\u001b[0m\n\u001b[1;32m      2\u001b[0m \u001b[0mbrand\u001b[0m \u001b[0;34m=\u001b[0m \u001b[0mtestImage\u001b[0m\u001b[0;34m(\u001b[0m\u001b[0;34m\"00033.png\"\u001b[0m\u001b[0;34m,\u001b[0m \u001b[0mmodel_a\u001b[0m\u001b[0;34m)\u001b[0m\u001b[0;34m\u001b[0m\u001b[0;34m\u001b[0m\u001b[0m\n\u001b[0;32m----> 3\u001b[0;31m \u001b[0mshowBrandExample\u001b[0m\u001b[0;34m(\u001b[0m\u001b[0mbrand\u001b[0m\u001b[0;34m)\u001b[0m\u001b[0;34m\u001b[0m\u001b[0;34m\u001b[0m\u001b[0m\n\u001b[0m",
      "\u001b[0;31mNameError\u001b[0m: name 'showBrandExample' is not defined"
     ]
    }
   ],
   "source": [
    "#test3 Puma (None):\n",
    "brand = testImage(\"00033.png\", model_a)\n"
   ]
  },
  {
   "cell_type": "code",
   "execution_count": 100,
   "metadata": {},
   "outputs": [
    {
     "name": "stdout",
     "output_type": "stream",
     "text": [
      "1/1 [==============================] - 0s 62ms/step\n"
     ]
    },
    {
     "data": {
      "text/html": [
       "<div>\n",
       "<style scoped>\n",
       "    .dataframe tbody tr th:only-of-type {\n",
       "        vertical-align: middle;\n",
       "    }\n",
       "\n",
       "    .dataframe tbody tr th {\n",
       "        vertical-align: top;\n",
       "    }\n",
       "\n",
       "    .dataframe thead th {\n",
       "        text-align: right;\n",
       "    }\n",
       "</style>\n",
       "<table border=\"1\" class=\"dataframe\">\n",
       "  <thead>\n",
       "    <tr style=\"text-align: right;\">\n",
       "      <th></th>\n",
       "      <th>brand</th>\n",
       "      <th>pred</th>\n",
       "    </tr>\n",
       "  </thead>\n",
       "  <tbody>\n",
       "    <tr>\n",
       "      <th>2</th>\n",
       "      <td>Nike</td>\n",
       "      <td>1.000000e+00</td>\n",
       "    </tr>\n",
       "    <tr>\n",
       "      <th>3</th>\n",
       "      <td>Adidas</td>\n",
       "      <td>1.183998e-13</td>\n",
       "    </tr>\n",
       "    <tr>\n",
       "      <th>4</th>\n",
       "      <td>Converse</td>\n",
       "      <td>0.000000e+00</td>\n",
       "    </tr>\n",
       "    <tr>\n",
       "      <th>14</th>\n",
       "      <td>Sperry</td>\n",
       "      <td>1.122487e-23</td>\n",
       "    </tr>\n",
       "    <tr>\n",
       "      <th>16</th>\n",
       "      <td>Saucony</td>\n",
       "      <td>0.000000e+00</td>\n",
       "    </tr>\n",
       "    <tr>\n",
       "      <th>20</th>\n",
       "      <td>Asics</td>\n",
       "      <td>3.443335e-34</td>\n",
       "    </tr>\n",
       "    <tr>\n",
       "      <th>36</th>\n",
       "      <td>Skechers</td>\n",
       "      <td>4.699248e-28</td>\n",
       "    </tr>\n",
       "  </tbody>\n",
       "</table>\n",
       "</div>"
      ],
      "text/plain": [
       "       brand          pred\n",
       "2       Nike  1.000000e+00\n",
       "3     Adidas  1.183998e-13\n",
       "4   Converse  0.000000e+00\n",
       "14    Sperry  1.122487e-23\n",
       "16   Saucony  0.000000e+00\n",
       "20     Asics  3.443335e-34\n",
       "36  Skechers  4.699248e-28"
      ]
     },
     "metadata": {},
     "output_type": "display_data"
    },
    {
     "data": {
      "image/png": "[encoded data removed]",
      "text/plain": [
       "<Figure size 432x288 with 1 Axes>"
      ]
     },
     "metadata": {
      "needs_background": "light"
     },
     "output_type": "display_data"
    },
    {
     "name": "stdout",
     "output_type": "stream",
     "text": [
      "TODO\n"
     ]
    }
   ],
   "source": [
    "#test4 Lacoste (None):\n",
    "brand = testImage(\"00082.png\", model_a)\n"
   ]
  },
  {
   "cell_type": "code",
   "execution_count": 102,
   "metadata": {},
   "outputs": [
    {
     "name": "stdout",
     "output_type": "stream",
     "text": [
      "1/1 [==============================] - 0s 55ms/step\n"
     ]
    },
    {
     "data": {
      "text/html": [
       "<div>\n",
       "<style scoped>\n",
       "    .dataframe tbody tr th:only-of-type {\n",
       "        vertical-align: middle;\n",
       "    }\n",
       "\n",
       "    .dataframe tbody tr th {\n",
       "        vertical-align: top;\n",
       "    }\n",
       "\n",
       "    .dataframe thead th {\n",
       "        text-align: right;\n",
       "    }\n",
       "</style>\n",
       "<table border=\"1\" class=\"dataframe\">\n",
       "  <thead>\n",
       "    <tr style=\"text-align: right;\">\n",
       "      <th></th>\n",
       "      <th>brand</th>\n",
       "      <th>pred</th>\n",
       "    </tr>\n",
       "  </thead>\n",
       "  <tbody>\n",
       "    <tr>\n",
       "      <th>2</th>\n",
       "      <td>Nike</td>\n",
       "      <td>1.000000e+00</td>\n",
       "    </tr>\n",
       "    <tr>\n",
       "      <th>3</th>\n",
       "      <td>Adidas</td>\n",
       "      <td>1.171247e-13</td>\n",
       "    </tr>\n",
       "    <tr>\n",
       "      <th>4</th>\n",
       "      <td>Converse</td>\n",
       "      <td>0.000000e+00</td>\n",
       "    </tr>\n",
       "    <tr>\n",
       "      <th>14</th>\n",
       "      <td>Sperry</td>\n",
       "      <td>1.120109e-23</td>\n",
       "    </tr>\n",
       "    <tr>\n",
       "      <th>16</th>\n",
       "      <td>Saucony</td>\n",
       "      <td>0.000000e+00</td>\n",
       "    </tr>\n",
       "    <tr>\n",
       "      <th>20</th>\n",
       "      <td>Asics</td>\n",
       "      <td>3.414089e-34</td>\n",
       "    </tr>\n",
       "    <tr>\n",
       "      <th>36</th>\n",
       "      <td>Skechers</td>\n",
       "      <td>4.685804e-28</td>\n",
       "    </tr>\n",
       "  </tbody>\n",
       "</table>\n",
       "</div>"
      ],
      "text/plain": [
       "       brand          pred\n",
       "2       Nike  1.000000e+00\n",
       "3     Adidas  1.171247e-13\n",
       "4   Converse  0.000000e+00\n",
       "14    Sperry  1.120109e-23\n",
       "16   Saucony  0.000000e+00\n",
       "20     Asics  3.414089e-34\n",
       "36  Skechers  4.685804e-28"
      ]
     },
     "metadata": {},
     "output_type": "display_data"
    },
    {
     "data": {
      "image/png": "[encoded data removed]",
      "text/plain": [
       "<Figure size 432x288 with 1 Axes>"
      ]
     },
     "metadata": {
      "needs_background": "light"
     },
     "output_type": "display_data"
    },
    {
     "name": "stdout",
     "output_type": "stream",
     "text": [
      "TODO\n"
     ]
    }
   ],
   "source": [
    "#test5 Adidas (None):\n",
    "brand = testImage(\"00109.png\", model_a)\n"
   ]
  },
  {
   "cell_type": "markdown",
   "metadata": {},
   "source": [
    "## Conclusiones"
   ]
  },
  {
   "cell_type": "code",
   "execution_count": null,
   "metadata": {},
   "outputs": [],
   "source": []
  }
 ],
 "metadata": {
  "kernelspec": {
   "display_name": "Python 3",
   "language": "python",
   "name": "python3"
  },
  "language_info": {
   "codemirror_mode": {
    "name": "ipython",
    "version": 3
   },
   "file_extension": ".py",
   "mimetype": "text/x-python",
   "name": "python",
   "nbconvert_exporter": "python",
   "pygments_lexer": "ipython3",
   "version": "3.8.2"
  }
 },
 "nbformat": 4,
 "nbformat_minor": 4
}
