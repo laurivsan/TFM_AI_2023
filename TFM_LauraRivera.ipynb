{
 "cells": [
  {
   "cell_type": "markdown",
   "metadata": {
    "id": "MB2ACKO0E1y0"
   },
   "source": [
    "<div style=\"width: 100%; clear: both;\">\n",
    "<div style=\"float: left; width: 50%;\">\n",
    "<img src=\"http://www.uoc.edu/portal/_resources/common/imatges/marca_UOC/UOC_Masterbrand.jpg\", align=\"left\">\n",
    "</div>\n",
    "<div style=\"float: right; width: 50%;\">\n",
    "<p style=\"margin: 0; padding-top: 22px; text-align:right;\">Identificación de huellas de calzado a partir de imágenes con redes neuronales convolucionales </p>\n",
    "<p style=\"margin: 0; text-align:right;\">MU Ingeniería Computacional y Matemática / Área de Inteligencia Artificial</p>\n",
    "<p style=\"margin: 0; text-align:right; padding-button: 100px;\">Laura Rivera Sanchez</p>\n",
    "</div>\n",
    "</div>\n",
    "<div style=\"width:100%;\">&nbsp;</div>"
   ]
  },
  {
   "cell_type": "markdown",
   "metadata": {
    "id": "mgKomQZDqBE3"
   },
   "source": [
    "\n",
    "\n",
    "# Identificación de huellas de calzado a partir de imágenes con redes neuronales convolucionales \n",
    "\n",
    "Falta resumen"
   ]
  },
  {
   "cell_type": "code",
   "execution_count": null,
   "metadata": {
    "id": "NDeUR1PzJb6-"
   },
   "outputs": [],
   "source": [
    "import pandas as pd\n",
    "import numpy as np\n",
    "from zipfile import ZipFile\n",
    "import matplotlib.pyplot as plt\n",
    "from PIL import Image\n",
    "import os\n",
    "import cv2\n",
    "import random"
   ]
  },
  {
   "cell_type": "code",
   "execution_count": null,
   "metadata": {
    "colab": {
     "base_uri": "https://localhost:8080/"
    },
    "id": "awo-goP3wGj6",
    "outputId": "55b30c32-e137-46ac-d5f9-2826b633a8ea"
   },
   "outputs": [],
   "source": [
    "#from google.colab import drive\n",
    "#drive.mount('/content/gdrive')"
   ]
  },
  {
   "cell_type": "markdown",
   "metadata": {
    "id": "-dFTQYW3wfj_"
   },
   "source": [
    "# Lectura y análisis de los conjuntos de datos\n",
    "\n",
    "\n",
    "\n",
    "\n"
   ]
  },
  {
   "cell_type": "markdown",
   "metadata": {
    "id": "BJioTU1k8KR9"
   },
   "source": [
    "## Base de datos 2d FootWear con información de marca"
   ]
  },
  {
   "cell_type": "code",
   "execution_count": null,
   "metadata": {
    "id": "b-cezL12Twjk"
   },
   "outputs": [],
   "source": [
    "#df_2dfootwear = pd.read_csv('data/2dFootwear/Data-information.csv', delimiter=';')\n",
    "\n",
    "with ZipFile('data/2dFootwear/Part1.zip', 'r') as zipObj:\n",
    "  zipObj.extractall('images')\n",
    "\n",
    "with ZipFile('data/2dFootwear/Part2.zip', 'r') as zipObj:\n",
    "  zipObj.extractall('images')\n",
    "\n"
   ]
  },
  {
   "cell_type": "code",
   "execution_count": null,
   "metadata": {},
   "outputs": [],
   "source": [
    "with ZipFile('data/2dFootwear/Part3.zip', 'r') as zipObj:\n",
    "  zipObj.extractall('images')\n",
    "\n",
    "with ZipFile('data/2dFootwear/Part4.zip', 'r') as zipObj:\n",
    "  zipObj.extractall('images')\n",
    "\n",
    "with ZipFile('data/2dFootwear/Part5.zip', 'r') as zipObj:\n",
    "  zipObj.extractall('images')"
   ]
  },
  {
   "cell_type": "markdown",
   "metadata": {
    "id": "QMWhP-7iqoGT"
   },
   "source": [
    "**Análisis de los datos 2d Footwear**\n",
    "(Explicar)"
   ]
  },
  {
   "cell_type": "code",
   "execution_count": 3,
   "metadata": {
    "colab": {
     "base_uri": "https://localhost:8080/"
    },
    "id": "IM03QnMIRlyZ",
    "outputId": "b70eb7a0-7595-475c-d831-ef3295e1958f"
   },
   "outputs": [
    {
     "name": "stdout",
     "output_type": "stream",
     "text": [
      "Tag example: 001_01\n",
      "Nº lines: 150\n",
      "Nº different people: 28\n",
      "Nº of different brands: 60\n",
      "['Adidas' 'Airspeed' 'Airwalk' 'Aldo' 'American Eagle' 'Arizona' 'Asics'\n",
      " 'BAGO' 'BASS' 'Birkenstock' 'Brooks' 'CalvinKlain' 'Champion' 'Clarks'\n",
      " 'Columbus' 'Converse' 'Cooeli' 'Court classic' 'Dansko' 'Deer Stags'\n",
      " 'Dockers' 'Ecco' 'Elcanto' 'Fadedglory' 'Feiyue' 'Fila' 'G.H.Bass&Co'\n",
      " 'Guho' 'HeyBear' 'K-swiss' 'Keen' 'Landya' 'Namuhana' 'Newbalance' 'Nike'\n",
      " 'Ninewest' 'None' 'OP' 'Ofem' 'Prospecs' 'Puma' 'Robin' 'Saucony'\n",
      " 'Shoedy' 'Shoopen' 'Simply vera' 'Skechers' 'Soma' 'Sonoma' 'Sorel'\n",
      " 'Sperry' 'Stone' 'Sugar' 'T2R' 'Teva' 'Truesoft' 'Under Amour' 'Vans'\n",
      " 'Vibram' 'Yonex']\n"
     ]
    }
   ],
   "source": [
    "df = pd.read_csv('data/2dFootwear/Data-information.csv', delimiter=';')\n",
    "df['Brand'] = df['Brand'].str.strip() #eliminar espacios en blanco\n",
    "X_files = df['ID'].values.tolist()\n",
    "brands = df['Brand'].values.tolist()\n",
    "\n",
    "values_brand, counts_brand = np.unique(brands, return_counts=True)\n",
    "print('Tag example:',X_files[0]) #nomenclatura \n",
    "print('Nº lines:',len(X_files)) #lineas en el csv\n",
    "individuals, count_ind = np.unique(df['ID'].str[:3], return_counts=True)\n",
    "print('Nº different people:',len(individuals)) #diferentes individuos de la muestra\n",
    "num_classes = len(values_brand) #se guarda porque será necesario para crear el modelo\n",
    "print('Nº of different brands: %d' %num_classes) #marcas diferentes\n",
    "print(values_brand) #Listado de marcas únicas\n",
    "\n"
   ]
  },
  {
   "cell_type": "markdown",
   "metadata": {
    "id": "C6iKuscWnqcw"
   },
   "source": [
    "A continuación, el histograma con el número de muestras según género, en este caso hay 70 muestras de mujeres y 80 de hombres."
   ]
  },
  {
   "cell_type": "code",
   "execution_count": 4,
   "metadata": {
    "colab": {
     "base_uri": "https://localhost:8080/",
     "height": 320
    },
    "id": "0uXbUZRSjNlJ",
    "outputId": "95d48de5-2e4b-49ab-acc7-fe197b743f9c"
   },
   "outputs": [
    {
     "data": {
      "text/plain": [
       "(array([71.,  0.,  0.,  0.,  0.,  0.,  0.,  0.,  0., 79.]),\n",
       " array([0. , 0.1, 0.2, 0.3, 0.4, 0.5, 0.6, 0.7, 0.8, 0.9, 1. ]),\n",
       " <BarContainer object of 10 artists>)"
      ]
     },
     "execution_count": 4,
     "metadata": {},
     "output_type": "execute_result"
    },
    {
     "data": {
      "image/png": "[encoded data removed]",
      "text/plain": [
       "<Figure size 432x288 with 1 Axes>"
      ]
     },
     "metadata": {
      "needs_background": "light"
     },
     "output_type": "display_data"
    }
   ],
   "source": [
    "plt.hist(df['Gender'])"
   ]
  },
  {
   "cell_type": "markdown",
   "metadata": {
    "id": "OX2cF_1cnitd"
   },
   "source": [
    "Por último, se muestran las cinco marcas que más aparecen en el conjunto de datos. \\\n",
    "Además se seleccionan esas marcas que aparecen minimo 2 veces en la muestra, para crear un subconjunto de datos que elimine las marcas con una única muestra y comprobar en los siguientes casos si influye en el resultado.\n"
   ]
  },
  {
   "cell_type": "code",
   "execution_count": 5,
   "metadata": {
    "colab": {
     "base_uri": "https://localhost:8080/",
     "height": 758
    },
    "id": "n8Mp-8yejNyz",
    "outputId": "731178a9-f80a-4e27-e05e-159f494c9615"
   },
   "outputs": [
    {
     "name": "stdout",
     "output_type": "stream",
     "text": [
      "Brands with more than 1 register: 20\n",
      "Brands with only 1 register: 40\n"
     ]
    },
    {
     "data": {
      "text/plain": [
       "<AxesSubplot: xlabel='x'>"
      ]
     },
     "execution_count": 5,
     "metadata": {},
     "output_type": "execute_result"
    },
    {
     "data": {
      "image/png": "[encoded data removed]",
      "text/plain": [
       "<Figure size 432x288 with 1 Axes>"
      ]
     },
     "metadata": {
      "needs_background": "light"
     },
     "output_type": "display_data"
    }
   ],
   "source": [
    "dfbrand = pd.DataFrame({'x':values_brand, 'y':counts_brand}) \n",
    "dfbrand = dfbrand.sort_values('y', ascending = False) #ordenar descendientemente\n",
    "\n",
    "\n",
    "#eliminar los que tengan menos de 2 muestras:\n",
    "dfbrandone=dfbrand[dfbrand['y']<2]\n",
    "dfbrand=dfbrand[dfbrand['y']>=2]\n",
    "print('Brands with more than 1 register: %d' %len(dfbrand)) #quedan 20 marcas\n",
    "print('Brands with only 1 register: %d' %len(dfbrandone)) #quedan 20 marcas\n",
    "dfbrand = dfbrand.head(5) # mostrar las 5 marcas que más aparecen en el conjunto de datos\n",
    "dfbrand.plot('x', 'y', kind='bar') #mostrar gráfica\n",
    "\n"
   ]
  },
  {
   "cell_type": "code",
   "execution_count": 6,
   "metadata": {
    "id": "K_8VvbTzxcRe"
   },
   "outputs": [],
   "source": [
    "\n",
    "\n",
    "\n",
    "def get_images_to_jpeg(imgPath):\n",
    "  dir_list = os.listdir(\"./\"+imgPath)\n",
    "  result = []\n",
    "\n",
    "  for f in dir_list:\n",
    "\n",
    "    im = Image.open(\"./\"+imgPath+\"/\"+f)\n",
    "    im2=im.resize((400,912))\n",
    "    im3 = im2.crop((40,40,320,872)) #Quitar marco medidor\n",
    "    im3.save(\"./\"+imgPath+\"/\"+f[0:-4]+'jpeg')\n",
    "    \n",
    "    result.append(f[0:-4]+'jpeg')\n",
    "    os.remove(\"./\"+imgPath+\"/\"+f)\n",
    "\n",
    "  print('Nº files:',len(result))\n",
    "  return result\n",
    "\n",
    "def get_images(imgPath):\n",
    "  dir_list = os.listdir(\"./\"+imgPath)\n",
    "  result = []\n",
    "  for f in dir_list:  \n",
    "    result.append(f)\n",
    "\n",
    "\n",
    "  print('Nº files:',len(result))\n",
    "  return result"
   ]
  },
  {
   "cell_type": "code",
   "execution_count": 7,
   "metadata": {
    "colab": {
     "base_uri": "https://localhost:8080/"
    },
    "id": "Smywtw4MVBQA",
    "outputId": "a4800045-7267-4ae2-8ead-e501b6761eaa"
   },
   "outputs": [
    {
     "name": "stdout",
     "output_type": "stream",
     "text": [
      "Nº files: 1500\n"
     ]
    }
   ],
   "source": [
    "# Get the list of all files in /images and convert to jpeg\n",
    "#shoeFiles = get_images_to_jpeg(\"images\") #la primera vez para convertir las imágenes\n",
    "shoeFiles = get_images(\"images\")"
   ]
  },
  {
   "cell_type": "markdown",
   "metadata": {
    "id": "5CFzFHyUJxn3"
   },
   "source": [
    "## Base de datos Datos FD-300\n"
   ]
  },
  {
   "cell_type": "code",
   "execution_count": null,
   "metadata": {
    "id": "gvC-lKKtxIwE"
   },
   "outputs": [],
   "source": [
    "#Extracción de los ficheros del zip\n",
    "with ZipFile('data/FID300/images.zip', 'r') as zipObj:\n",
    "  zipObj.extractall('fid300')\n",
    "\n",
    "\n"
   ]
  },
  {
   "cell_type": "code",
   "execution_count": null,
   "metadata": {
    "scrolled": true
   },
   "outputs": [],
   "source": [
    "#Lectura de la tabla de resultados\n",
    "df_fid300 = pd.read_csv('data/FID300/label_table.csv', delimiter=',')"
   ]
  },
  {
   "cell_type": "markdown",
   "metadata": {
    "id": "zy-P1CjBwcau"
   },
   "source": [
    "En este caso, las imágenes estan divididas en 3 carpetas:\n",
    "\n",
    "*   *tracks_original*: Conteine las 300 imágenes originales extraidas de la escena del crimen, incluyendo la plantilla de medición.\n",
    "*   *tracks_cropped*: Contiene las imágenes originales pero ya recortadas.\n",
    "*  *references*: Contiene las 1175 imágenes de las huellas de referencia, obtenidas de diferentes calzados.\n",
    "\n",
    "Para el proyecto se decide utilizar las dos últimas categorias, guardandolas en 2 datasets diferenciados: *fid300ref* y *fid300crop*.\n"
   ]
  },
  {
   "cell_type": "markdown",
   "metadata": {
    "id": "UaodzSQT1RWD"
   },
   "source": [
    "**Análisis de los datos FD-300**\n",
    "\n"
   ]
  },
  {
   "cell_type": "code",
   "execution_count": null,
   "metadata": {
    "colab": {
     "base_uri": "https://localhost:8080/"
    },
    "id": "Q194Hci3qXNc",
    "outputId": "f46aae71-1e7c-4002-c9b3-f1a43e143527"
   },
   "outputs": [],
   "source": [
    "fid300ref = get_images(\"fid300/references\")\n",
    "fid300crop = get_images(\"fid300/tracks_cropped\")\n",
    "\n",
    "print(len(df_fid300)) #lineas en el csv\n",
    "print(fid300ref[0])"
   ]
  },
  {
   "cell_type": "code",
   "execution_count": null,
   "metadata": {
    "colab": {
     "base_uri": "https://localhost:8080/",
     "height": 381
    },
    "id": "mAcb1nLuJDmT",
    "outputId": "a8071680-0767-4a9b-e478-20e58883df14"
   },
   "outputs": [],
   "source": [
    "\n",
    "X_files = df_fid300['X'].values.tolist()\n",
    "y = df_fid300['y'].values.tolist()\n",
    "\n",
    "values_y, counts_y = np.unique(y, return_counts=True)\n",
    "\n",
    "print('Nº of references: %d' %len(values_y))\n",
    "\n",
    "dfref = pd.DataFrame({'x':values_y, 'y':counts_y}) \n",
    "dfref = dfref.sort_values('y', ascending = False) \n",
    "dfref.head(10) # coger los 5 primeros\n",
    "\n"
   ]
  },
  {
   "cell_type": "markdown",
   "metadata": {
    "id": "_0simRcEVYVq"
   },
   "source": [
    "**Visualización de imágenes**\\\n",
    "Se ha creado la función *plot_image* que permite la visualización de las imágenes de cualquiera de las dos bases de datos.\n",
    "\n",
    "Parámetros:\\\n",
    "*imgPath*: carpeta donde estan las imágenes \\\n",
    "*fileNames*: array con los nombres de los ficheros a mostrar\n"
   ]
  },
  {
   "cell_type": "code",
   "execution_count": null,
   "metadata": {
    "id": "jA9G3FNAVaoE"
   },
   "outputs": [],
   "source": [
    "\n",
    "import skimage\n",
    "def plot_image(imgPath, fileNames):\n",
    "  for i in range(len(fileNames)):\n",
    "    filename = fileNames[i]\n",
    "    img = skimage.io.imread(imgPath+filename)\n",
    "   \n",
    "    plt.figure()\n",
    "    plt.title(str(img.shape)+\" , \"+str(img.dtype))\n",
    "    plt.imshow(img)\n",
    "  print(fileNames)\n",
    "  plt.show()\n"
   ]
  },
  {
   "cell_type": "markdown",
   "metadata": {
    "id": "UNwsUX5bYEuw"
   },
   "source": [
    "A continuación, se muestra una imagen aleatória de cada uno de los 3 datasets del proyecto:"
   ]
  },
  {
   "cell_type": "code",
   "execution_count": null,
   "metadata": {},
   "outputs": [],
   "source": [
    "plot_image(\"images/\",random.choices(shoeFiles,k=1))"
   ]
  },
  {
   "cell_type": "code",
   "execution_count": null,
   "metadata": {
    "colab": {
     "base_uri": "https://localhost:8080/",
     "height": 245
    },
    "id": "I2IAYZmerA-w",
    "outputId": "5b646a35-84fe-4a8f-828a-f11c93ab7d1d"
   },
   "outputs": [],
   "source": [
    "\n",
    "\n",
    "\n",
    "plot_image(\"fid300/references/\",random.choices(fid300ref,k=1))\n",
    "plot_image(\"fid300/tracks_cropped/\",random.choices(fid300crop,k=1))\n",
    "\n",
    "#import cv2 as cv\n",
    "#from google.colab.patches import cv2_imshow \n",
    "#image = cv.imread(\"images/\"+shoeFiles[0]) #leo la primera imagen de train\n",
    "#cv2_imshow(image) #mostrar\n"
   ]
  },
  {
   "cell_type": "markdown",
   "metadata": {
    "id": "sNveDqoHnIAq"
   },
   "source": [
    "## División de los datos\n",
    "\n",
    "Para la división de los datos se ha utilizado la funcióon train_test_split dos veces, primero para dividir entre el 80% de train y el 20% de test y después para extraer el equivalente al 10% para la validación. \n",
    "\n",
    "De esta manera se dispone de 70% train, 20% test y 10% validación.\n"
   ]
  },
  {
   "cell_type": "markdown",
   "metadata": {},
   "source": [
    "Antes de dividir los datos de la base de datos 2d Footwear, se ha formateado la tabla ya que actualmente solo muestra la información de marca según el calzado del usuario, pero no contiene el nombre de la imagen, se ha creado la siguiente función para que el conjunto de datos contenga dos columnas (X:fichero, y:marca)"
   ]
  },
  {
   "cell_type": "code",
   "execution_count": 8,
   "metadata": {},
   "outputs": [
    {
     "name": "stdout",
     "output_type": "stream",
     "text": [
      "                     X         y factor_brand\n",
      "0     021_05_R_03.jpeg  Champion          0.0\n",
      "1     005_10_R_05.jpeg      None          1.0\n",
      "2     026_06_R_01.jpeg      Keen          2.0\n",
      "3     009_08_R_05.jpeg     Asics          3.0\n",
      "4     020_04_R_04.jpeg      None          1.0\n",
      "...                ...       ...          ...\n",
      "1495  017_03_R_01.jpeg      None          1.0\n",
      "1496  018_04_R_02.jpeg    Sperry          7.0\n",
      "1497  012_05_R_03.jpeg  Namuhana         17.0\n",
      "1498  009_12_L_03.jpeg      None          1.0\n",
      "1499  025_03_L_04.jpeg      Nike         10.0\n",
      "\n",
      "[1500 rows x 3 columns]\n"
     ]
    }
   ],
   "source": [
    "def filesWithBrand(shoeFiles):\n",
    "  files = []\n",
    "  brands = []\n",
    "  for image in shoeFiles:\n",
    "    files.append(image) #filename\n",
    "    person = df[df['ID'].str[:6]==image[:6]]  #persona+contador de calzado\n",
    "    brands.append(person['Brand'].iloc[0])\n",
    "\n",
    "  return pd.DataFrame({'X':files, 'y':brands}) \n",
    "\n",
    "\n",
    "df_shoe_brand = filesWithBrand(shoeFiles)\n",
    "#modificar aquellas marcas que no aparecen mínimo en 2 muestras por \"None\"\n",
    "df_shoe_brand['y'] = df_shoe_brand['y'].replace(dfbrandone['x'].to_numpy(),'None')\n",
    "df_shoe_brand['factor_brand'] = pd.Categorical(pd.factorize(df_shoe_brand.y)[0].astype(np.float32))\n",
    "print(df_shoe_brand)\n",
    "#número de marcas con 2 o más muestras:\n",
    "num_classes = int(max(df_shoe_brand['factor_brand'])+1)"
   ]
  },
  {
   "cell_type": "code",
   "execution_count": 9,
   "metadata": {
    "id": "lkZuDJGPnG4r"
   },
   "outputs": [],
   "source": [
    "from sklearn.model_selection import train_test_split\n",
    "def  split_datafiles(df):\n",
    "  X_train, X_test = train_test_split(df, test_size=0.2 , random_state=random.randint(0,32),shuffle=True)\n",
    "\n",
    "  X_train, X_val = train_test_split(X_train, test_size=0.14, random_state=random.randint(0,32),shuffle=True) # 0.14 x 0.7 = 0.1\n",
    "  return X_train,  X_test ,X_val\n",
    "\n",
    "#Dividir conjunto de datos:\n",
    "#shoes_train, shoes_test, shoes_val = split_datafiles(df)\n",
    "shoes_train, shoes_test, shoes_val = split_datafiles(df_shoe_brand)"
   ]
  },
  {
   "cell_type": "code",
   "execution_count": null,
   "metadata": {},
   "outputs": [],
   "source": [
    "#división de los datos FD300\n",
    "\n"
   ]
  },
  {
   "cell_type": "markdown",
   "metadata": {
    "id": "I5b4bh2pwMAY"
   },
   "source": [
    "# Objetivo 1: Predicción de la marca de calzado \n",
    "\n",
    "Para este apartado se van a utilizar diferentes clasificadores para comparar su resultado.\n",
    "Además de crear una red neuronal para el mismo objetivo, y así podem comparar qué método obtiene mejores resultados.\n",
    "\n",
    "En el caso de la red neuronal, además, se añadiran diferentes procesos para ver si mejoran el modelo:\n",
    "\n",
    "- Augmentación en los datos.\n",
    "- Uso del modelo preentrenado RestNet.\n",
    "- Uso de autokeras para determinar si encuentra mejor modelo que el propuesto.\n",
    "\n"
   ]
  },
  {
   "cell_type": "markdown",
   "metadata": {
    "id": "ckfXWvNLrxh1"
   },
   "source": [
    "## Extracción de características\n",
    "\n",
    "La extracción de características es el proceso de recuperar los datos más importantes de los datos sin procesar. La extracción de características es encontrar el conjunto de parámetros que definen la forma de una imagen de manera precisa y única.\n",
    "\n",
    "Para la extracción de características se utiliza la técnica Bag of Features, que extrae N características de las imágenes utilizando los descriptores SIFT (Scale Invariant Feature Transform).\n",
    "\n",
    "Existen diferentes algoritmos de extracción de caraterísticas: \n",
    "- **SIFT (Scale Invariant Feature Transform)**\n",
    "- SURF https://docs.opencv.org/3.4/df/dd2/tutorial_py_surf_intro.html, \n",
    "- KAZE, \n",
    "- ORB.\n",
    "\n",
    "Todos ellos estan disponibles en la librería openCV y para este proyecto se escoge utilizar SIFT ya que KAZE y ORB tienen cuenta las rotaciones y en este caso no sería necesario, ya que todas las muestras se toman con la misma metodologia.\n",
    "\n",
    "\n",
    "Aqui nombre diferentes descriptores, además de SIFT:\n",
    "https://www.sciencedirect.com/science/article/pii/S0379073821004461"
   ]
  },
  {
   "cell_type": "code",
   "execution_count": 10,
   "metadata": {
    "colab": {
     "base_uri": "https://localhost:8080/"
    },
    "id": "5jrM9PZEjsdQ",
    "outputId": "35b406db-b196-479a-8cde-6bd4cde5fb47"
   },
   "outputs": [
    {
     "name": "stdout",
     "output_type": "stream",
     "text": [
      "Requirement already satisfied: opencv-contrib-python==4.4.0.44 in /Library/Frameworks/Python.framework/Versions/3.8/lib/python3.8/site-packages (4.4.0.44)\r\n",
      "Requirement already satisfied: numpy>=1.17.3 in /Library/Frameworks/Python.framework/Versions/3.8/lib/python3.8/site-packages (from opencv-contrib-python==4.4.0.44) (1.23.4)\r\n"
     ]
    }
   ],
   "source": [
    "!pip install opencv-contrib-python==4.4.0.44 "
   ]
  },
  {
   "cell_type": "code",
   "execution_count": 11,
   "metadata": {
    "id": "H9CuFUFPqkaO"
   },
   "outputs": [],
   "source": [
    "#extrae y calcula los descriptores SIFT para el conjunto de imágenes enviado\n",
    "def extractSIFT(input_files):\n",
    "    all_features_dict = {}\n",
    "    feature_extractor = cv.SIFT.create()\n",
    "    for i, fname in enumerate(input_files):\n",
    "        rgb = cv.cvtColor(cv.imread(\"images/\"+fname), cv2.COLOR_BGR2RGB)\n",
    "        gray = cv.cvtColor(rgb, cv.COLOR_RGB2GRAY)\n",
    "        kp, desc = feature_extractor.detectAndCompute(gray, None)\n",
    "        all_features_dict[fname] = desc\n",
    "    return all_features_dict"
   ]
  },
  {
   "cell_type": "code",
   "execution_count": 12,
   "metadata": {
    "id": "lJoAFHphKEKA"
   },
   "outputs": [],
   "source": [
    "#Esta función extrae las características de cada categoria (marca)\n",
    "#input: listado de categorias (marcas), listado de ficheros, marca de cada fichero\n",
    "#output: lista ficheros, lista categorias, lista de características\n",
    "def getFiles(cat_list, X_files, y_values):\n",
    "  all_files = []\n",
    "  all_files_labels = {}\n",
    "  all_features = {}\n",
    "  cat_indexes= []\n",
    "  cat_files = []\n",
    "  cat_features = []\n",
    "\n",
    "  #values_train contiene el listado de categorias sin repeticiones \n",
    "  for cat, label in zip(cat_list, range(len(cat_list))):\n",
    "      \n",
    "      #primero buscar los indices en el listado de cada categoria (dentro bucle)\n",
    "      cat_indexes = [i for i,x in enumerate(y_values) if x == cat]\n",
    "      \n",
    "      #como se saben las posiciones, se cogen esas imagenes de esa categoria:\n",
    "      cat_files = [X_files.iloc[i] for i in cat_indexes]\n",
    "      cat_features = extractSIFT(cat_files)\n",
    "      all_files = all_files + cat_files\n",
    "      all_features.update(cat_features)\n",
    "      for i in cat_files:\n",
    "          all_files_labels[i] = label\n",
    "  return all_files, all_files_labels, all_features"
   ]
  },
  {
   "cell_type": "markdown",
   "metadata": {
    "id": "VrFlU5q_Mxjs"
   },
   "source": [
    "Bag of features\n",
    "\n",
    "https://www.researchgate.net/publication/260952140_A_Detailed_Review_of_Feature_Extraction_in_Image_Processing_Systems\n",
    "\n",
    "https://www.sciencedirect.com/topics/engineering/feature-extraction\n",
    "\n",
    "https://www.naun.org/main/NAUN/bio/bio-2.pdf"
   ]
  },
  {
   "cell_type": "code",
   "execution_count": 13,
   "metadata": {},
   "outputs": [],
   "source": [
    "import cv2 as cv\n",
    "import pickle\n",
    "\n",
    "def getFilesBySubset(subset, tipo):\n",
    "    #values_brand= np.unique(subset['y']) #listado marcas únicas que aparecen en subconjunto TRAIN\n",
    "\n",
    "    if os.path.exists(\"saved/all_files_\"+tipo+\".pkl\"):\n",
    "        with open('saved/all_files_'+tipo+'.pkl', 'rb') as fp:\n",
    "            all_files = pickle.load(fp)\n",
    "        with open('saved/all_files_labels_'+tipo+'.pkl', 'rb') as fp:\n",
    "            all_files_labels = pickle.load(fp)\n",
    "        with open('saved/all_features_'+tipo+'.pkl', 'rb') as fp:\n",
    "            all_features = pickle.load(fp)\n",
    "        #all_files_train = np.loadtxt('saved/all_files_train.txt')\n",
    "        #all_files_labels_train = np.loadtxt('saved/all_files_labels_train.txt')\n",
    "        #all_features_train = np.loadtxt('saved/all_features_train.txt')\n",
    "    else:\n",
    "        all_files, all_files_labels, all_features=getFiles(values_brand,subset['X'],subset['y'])\n",
    "\n",
    "    return all_files, all_files_labels, all_features\n"
   ]
  },
  {
   "cell_type": "code",
   "execution_count": 14,
   "metadata": {
    "id": "UvYVMG1IKvlq"
   },
   "outputs": [],
   "source": [
    "values_brand= np.unique(df_shoe_brand['y']) #listado marcas únicas que aparecen en subconjunto TRAIN\n",
    "\n",
    "all_files_train, all_files_labels_train, all_features_train=getFilesBySubset(shoes_train, \"train\")\n",
    "#Este proceso tarda 40 minutos aproximadamente, por eso se guarda en un fichero para agilizar las pruebas"
   ]
  },
  {
   "cell_type": "code",
   "execution_count": 15,
   "metadata": {},
   "outputs": [],
   "source": [
    "\n",
    "if not os.path.exists(\"saved/all_files_train.pkl\"):\n",
    "    with open('saved/all_files_train.pkl', 'wb') as fp:\n",
    "        pickle.dump(all_files_train, fp)\n",
    "    with open('saved/all_files_labels_train.pkl', 'wb') as fp:\n",
    "        pickle.dump(all_files_labels_train, fp)\n",
    "    with open('saved/all_features_train.pkl', 'wb') as fp:\n",
    "        pickle.dump(all_features_train, fp)\n",
    "        "
   ]
  },
  {
   "cell_type": "markdown",
   "metadata": {},
   "source": [
    "A continuación un ejemplo de la matriz de características y la impresión de la imagen con los puntos puntos de interés detectados.\n",
    "\n",
    "TODO: recortar la imagen, ya que los medidores de alrededor no aportan información de marca."
   ]
  },
  {
   "cell_type": "code",
   "execution_count": 16,
   "metadata": {
    "id": "oIkl-7H91wPV"
   },
   "outputs": [
    {
     "data": {
      "text/plain": [
       "True"
      ]
     },
     "execution_count": 16,
     "metadata": {},
     "output_type": "execute_result"
    }
   ],
   "source": [
    "#guarda la primera imagen  con los puntos de interés\n",
    "img = cv.imread(\"images/\"+all_files_train[0])\n",
    "gray = cv.cvtColor(img, cv.COLOR_BGR2GRAY)\n",
    "\n",
    "features = cv2.SIFT_create()\n",
    "keypoints = features.detect(gray, None)\n",
    "\n",
    "img2=cv.drawKeypoints(gray,keypoints,0,(0,0,255), flags=cv2.DRAW_MATCHES_FLAGS_DRAW_RICH_KEYPOINTS)\n",
    "cv.imwrite('results/'+all_files_train[0], img2)\n",
    "\n"
   ]
  },
  {
   "cell_type": "code",
   "execution_count": 21,
   "metadata": {
    "id": "eggcU01c8AnD"
   },
   "outputs": [
    {
     "name": "stdout",
     "output_type": "stream",
     "text": [
      "(75, 128)\n",
      "(845, 128)\n"
     ]
    }
   ],
   "source": [
    "#Se crea el Bag of Features con un diccionario de tamaño 75:\n",
    "dictionarySize =75\n",
    "if not os.path.exists(\"saved/bow_dict.pkl\"):\n",
    "    \n",
    "    BOW = cv.BOWKMeansTrainer(dictionarySize)\n",
    "\n",
    "    for feat in all_features_train:\n",
    "        BOW.add(all_features_train[feat])\n",
    "    dictionary = BOW.cluster()\n",
    "else:\n",
    "    with open('saved/bow_dict.pkl', 'rb') as fp:\n",
    "        dictionary = pickle.load(fp)\n",
    "print(dictionary.shape)\n",
    "print(all_features_train[all_files_train[0]].shape) #subdivisión de train: shoes_train"
   ]
  },
  {
   "cell_type": "code",
   "execution_count": 22,
   "metadata": {},
   "outputs": [],
   "source": [
    "import pickle\n",
    "if not os.path.exists(\"saved/bow_dict.pkl\"):\n",
    "    with open('saved/bow_dict.pkl', 'wb') as fp:\n",
    "        pickle.dump(dictionary, fp)\n",
    "        print('BOW dictionary saved successfully to file')\n",
    "        \n",
    "#Como se trata de un proceso que toma bastante tiempo, también se ha decidido guardar el resultado en un fichero para futuras ejecuciones"
   ]
  },
  {
   "cell_type": "code",
   "execution_count": 23,
   "metadata": {
    "id": "T4sCiH1J8NDF"
   },
   "outputs": [],
   "source": [
    "def getFeatures(all_files, all_features, all_files_labels):\n",
    "  X = np.empty((len(all_files),dictionarySize))\n",
    "  y = np.empty((len(all_files),))\n",
    "  all_features_BOW = {}\n",
    "\n",
    "  count = 0\n",
    "  for filename in all_files:\n",
    "      desc_query = all_features[filename]\n",
    "      matches = matcher.match(desc_query,dictionary)\n",
    "      train_idxs = []\n",
    "      for j in range(len(matches)):\n",
    "        train_idxs.append(matches[j].trainIdx)\n",
    "      hist, bin_edges = histogram(train_idxs, bins=range(dictionarySize+1))\n",
    "      all_features_BOW[filename] = hist\n",
    "      X[count,:] = hist\n",
    "      y[count] = all_files_labels[filename]\n",
    "      count = count + 1\n",
    "  return X,y"
   ]
  },
  {
   "cell_type": "code",
   "execution_count": 24,
   "metadata": {
    "id": "LZNg6uMB8RpD"
   },
   "outputs": [],
   "source": [
    "from numpy import histogram\n",
    "import numpy as np\n",
    "\n",
    "#Comentario: A continuación se normaliza el numero de caracteristicas para que todas tengan la misma cantidad,\n",
    "#ya que con el proceso anterior (BOW) es muy probable que las imagenes tengan numero de caracteristicas diferentes.\n",
    "\n",
    "matcher = cv.BFMatcher(normType=cv.NORM_L2)\n",
    "\n",
    "X, y = getFeatures(all_files_train, all_features_train, all_files_labels_train)\n"
   ]
  },
  {
   "cell_type": "markdown",
   "metadata": {
    "id": "uwrFAcxLA-lF"
   },
   "source": [
    "### Support Vector Machines (SVM)\n",
    "\n",
    "TODO: Descripción"
   ]
  },
  {
   "cell_type": "code",
   "execution_count": 25,
   "metadata": {
    "id": "HbNIiDfl8ShT"
   },
   "outputs": [
    {
     "name": "stdout",
     "output_type": "stream",
     "text": [
      "Mejor configuración kernel=rbf, c= 20 con un score de 0.944530651340996\n"
     ]
    }
   ],
   "source": [
    "\n",
    "from sklearn.model_selection import train_test_split\n",
    "from sklearn import svm\n",
    "from sklearn.model_selection import GridSearchCV\n",
    "\n",
    "X_train, X_test_t, y_train, y_test_t = train_test_split(X, y, test_size=0.3, random_state=0)\n",
    "\n",
    "# Set the parameters by cross-validation\n",
    "kernels =  [\"rbf\", \"linear\", \"poly\", \"sigmoid\"]\n",
    "Cs= [1, 2,3,4, 5, 10, 20]\n",
    "\n",
    "\n",
    "#Se utiliza GridSearchCV para identificar la mejor configuración de entre los diferentes kernel con diferentes\n",
    "#valores de C.\n",
    "clf = GridSearchCV(estimator=svm.SVC(), param_grid=dict(C=Cs, kernel=kernels),n_jobs=-1)\n",
    "clf.fit(X_train, y_train)\n",
    "\n",
    "print('Mejor configuración kernel=%s, c= %s con un score de %s' %(clf.best_estimator_.kernel, clf.best_estimator_.C, clf.best_score_))"
   ]
  },
  {
   "cell_type": "code",
   "execution_count": 26,
   "metadata": {
    "id": "o9P4GcpM8brQ"
   },
   "outputs": [
    {
     "data": {
      "text/plain": [
       "0.9612903225806452"
      ]
     },
     "execution_count": 26,
     "metadata": {},
     "output_type": "execute_result"
    }
   ],
   "source": [
    "#Ejecuto la configuración con mejor resultado kernel=rbf, c=20:\n",
    "\n",
    "clf_train = svm.SVC(kernel='rbf', C=20).fit(X_train, y_train)\n",
    "clf_train.score(X_test_t, y_test_t)"
   ]
  },
  {
   "cell_type": "code",
   "execution_count": 64,
   "metadata": {},
   "outputs": [
    {
     "data": {
      "text/plain": [
       "0.9766666666666667"
      ]
     },
     "execution_count": 64,
     "metadata": {},
     "output_type": "execute_result"
    }
   ],
   "source": [
    "all_files_test, all_files_labels_test, all_features_test=getFilesBySubset(shoes_test, \"test\")\n",
    "X, y = getFeatures(all_files_test, all_features_test, all_files_labels_test)\n",
    "\n",
    "clf_train.score(X,y)\n"
   ]
  },
  {
   "cell_type": "code",
   "execution_count": 65,
   "metadata": {},
   "outputs": [
    {
     "name": "stdout",
     "output_type": "stream",
     "text": [
      "0.9766666666666667\n"
     ]
    }
   ],
   "source": [
    "#Resultado de la predicción:\n",
    "from sklearn.metrics import accuracy_score\n",
    "print(accuracy_score(y, result))\n",
    "#print(confusion_matrix(y,result))"
   ]
  },
  {
   "cell_type": "code",
   "execution_count": null,
   "metadata": {},
   "outputs": [],
   "source": [
    "#print(shoes_test.iloc[3])\n",
    "#print(prediction[3])"
   ]
  },
  {
   "cell_type": "markdown",
   "metadata": {
    "id": "u_NBsSq1M9fd"
   },
   "source": [
    "### KNeighborsClassifier\n",
    "\n",
    "TODO: Descripción"
   ]
  },
  {
   "cell_type": "code",
   "execution_count": 67,
   "metadata": {},
   "outputs": [
    {
     "name": "stderr",
     "output_type": "stream",
     "text": [
      "/Library/Frameworks/Python.framework/Versions/3.8/lib/python3.8/site-packages/sklearn/neighbors/_classification.py:189: FutureWarning: Unlike other reduction functions (e.g. `skew`, `kurtosis`), the default behavior of `mode` typically preserves the axis it acts along. In SciPy 1.11.0, this behavior will change: the default value of `keepdims` will become False, the `axis` over which the statistic is taken will be eliminated, and the value None will no longer be accepted. Set `keepdims` to True or False to avoid this warning.\n",
      "  mode, _ = stats.mode(_y[neigh_ind, k], axis=1)\n"
     ]
    },
    {
     "data": {
      "text/plain": [
       "0.6"
      ]
     },
     "execution_count": 67,
     "metadata": {},
     "output_type": "execute_result"
    }
   ],
   "source": [
    "from sklearn.neighbors import KNeighborsClassifier\n",
    "model = KNeighborsClassifier(n_neighbors=num_classes)\n",
    "model.fit(X_train, y_train)\n",
    "model.score(X_test_t, y_test_t)\n"
   ]
  },
  {
   "cell_type": "code",
   "execution_count": 68,
   "metadata": {},
   "outputs": [
    {
     "name": "stderr",
     "output_type": "stream",
     "text": [
      "/Library/Frameworks/Python.framework/Versions/3.8/lib/python3.8/site-packages/sklearn/neighbors/_classification.py:189: FutureWarning: Unlike other reduction functions (e.g. `skew`, `kurtosis`), the default behavior of `mode` typically preserves the axis it acts along. In SciPy 1.11.0, this behavior will change: the default value of `keepdims` will become False, the `axis` over which the statistic is taken will be eliminated, and the value None will no longer be accepted. Set `keepdims` to True or False to avoid this warning.\n",
      "  mode, _ = stats.mode(_y[neigh_ind, k], axis=1)\n"
     ]
    },
    {
     "data": {
      "text/plain": [
       "0.6"
      ]
     },
     "execution_count": 68,
     "metadata": {},
     "output_type": "execute_result"
    }
   ],
   "source": [
    "#partición de test\n",
    "model.score(X,y)"
   ]
  },
  {
   "cell_type": "markdown",
   "metadata": {},
   "source": [
    "### DecisionTreeClassifier\n",
    "\n",
    "Explicación\n",
    "TODO: Descripción"
   ]
  },
  {
   "cell_type": "code",
   "execution_count": 69,
   "metadata": {
    "id": "rZSrrIGnMuj8"
   },
   "outputs": [
    {
     "data": {
      "text/plain": [
       "0.7290322580645161"
      ]
     },
     "execution_count": 69,
     "metadata": {},
     "output_type": "execute_result"
    }
   ],
   "source": [
    "from sklearn.tree import DecisionTreeClassifier\n",
    "model = DecisionTreeClassifier()\n",
    "model.fit(X_train, y_train)\n",
    "model.score(X_test_t, y_test_t)"
   ]
  },
  {
   "cell_type": "code",
   "execution_count": 70,
   "metadata": {},
   "outputs": [
    {
     "data": {
      "text/plain": [
       "0.8466666666666667"
      ]
     },
     "execution_count": 70,
     "metadata": {},
     "output_type": "execute_result"
    }
   ],
   "source": [
    "#partición de test\n",
    "model.score(X,y)"
   ]
  },
  {
   "cell_type": "markdown",
   "metadata": {
    "id": "0us6XzO6MzNQ"
   },
   "source": [
    "\n",
    "\n",
    "\n",
    "\n",
    "## Red neuronal de clasificación de imágenes por Marca (2d Footwear)\n",
    "\n",
    "En este caso los datos ya estan etiquetados, por lo que se puede crear un modelo para que entrene según esa etiqueta. \n",
    "\n",
    "\n",
    "*Es necesario transformar las etiquetas de marcas a numérico para el correcto funcionamiento del modelo. Paso realizado en los primeros pasos*\n",
    "\n",
    "\n",
    "\n"
   ]
  },
  {
   "cell_type": "code",
   "execution_count": 34,
   "metadata": {
    "id": "5qsXNN4PuRbp"
   },
   "outputs": [],
   "source": [
    "#Se ha creado un generador para añadir la aumentación de las imágenes\n",
    "import torchvision.io\n",
    "import torch\n",
    "from tensorflow.keras.utils import Sequence\n",
    "import torchvision.transforms as T\n",
    "from torchvision.transforms import Resize\n",
    "from skimage.io import imread\n",
    "from skimage.util import img_as_float,random_noise\n",
    "from skimage.transform import rotate\n",
    "import numpy as np\n",
    "import random\n",
    "import os\n",
    "from skimage import io\n",
    "from skimage import transform, util\n",
    "\n",
    "\n",
    "def create_variation(theImage,doFlip,doNoise,doRotate):\n",
    "  image = img_as_float(theImage)\n",
    "  if doFlip==True:\n",
    "    image = np.fliplr(image)\n",
    "  if doNoise==True:\n",
    "    image = util.random_noise(image)\n",
    "  if doRotate==True:\n",
    "    image = transform.rotate(image, random.randint(-45, 45),mode='symmetric')\n",
    "  return image\n",
    "\n",
    "class DataGenerator2dFootwear(Sequence):\n",
    "    # Constructor. Input parameters are:\n",
    "    # * fileNames   : List of sample file names\n",
    "    # * doRandomize : If True, the provided file names are shuffled after each training epoch\n",
    "    #                 and each image can be left unchanged, flipped, corrupted with\n",
    "    #                 noise or rotated. 8 possible combinations is chosen randomly with equal probability.\n",
    "    #                 If False, file names are not shuffled and each image is provided unchanged.\n",
    "    # * imgPath     : Path to the images \n",
    "    # * batchSize   : Number of sample images and ground truth items in each batch\n",
    "    def __init__(self,data,doRandomize=False,imgPath='images',batchSize=10):\n",
    "        # Store parameters\n",
    "        self.imgPath=imgPath\n",
    "        self.fileNames=data.copy()\n",
    "        self.batchSize=batchSize\n",
    "        self.doRandomize=doRandomize\n",
    "        # Get number of files (to avoid computing them later)\n",
    "        self.numImages=len(data)\n",
    "        # Shuffle them if required\n",
    "        self.on_epoch_end()\n",
    "\n",
    "    # Shuffle data if required\n",
    "    def on_epoch_end(self):\n",
    "        if self.doRandomize:\n",
    "            random.shuffle(self.fileNames)\n",
    "\n",
    "    # Returns the number of total batches\n",
    "    def __len__(self):\n",
    "        return int(np.ceil(float(self.numImages)/float(self.batchSize)))\n",
    "\n",
    "    \n",
    "    # Input  : theIndex - Index of the image to load within self.fileNames.\n",
    "    # Output : theImage - Loaded (and possibly transformed) image. Must be\n",
    "    #                     of float type with values within [0,1]\n",
    "    #          theClass - Shoe brand\n",
    "    def _load_image_(self,theIndex):\n",
    "\n",
    "   \n",
    "        file = self.fileNames[theIndex]  \n",
    "        \n",
    "        img = io.imread(self.imgPath+file)\n",
    "\n",
    "        image = torchvision.io.read_image(self.imgPath+file, torchvision.io.ImageReadMode.GRAY)\n",
    "        #image = torchvision.transforms.CenterCrop(image,[832, 280]) No need\n",
    "        \n",
    "        #scale = T.ConvertImageDtype(torch.float32)\n",
    "        #theImage = scale(img)\n",
    "        theImage = img_as_float(img) #dos maneras de hacer el float32, ¿alguna mejor que la otra?\n",
    "\n",
    "        #añadir aumentación a las imágenes:\n",
    "        if self.doRandomize:\n",
    "          theImage=create_variation(img,random.choice([True, False]),random.choice([True, False]),random.choice([True, False])) \n",
    "        #else:\n",
    "         # theImage=create_variation(img,False, False, False)\n",
    "\n",
    "        #Buscar la imagen en el csv para extraer la Marca:\n",
    "        person = df_shoe_brand[df_shoe_brand['X'].str[:6]==file[:6]]  #persona+contador de calzado\n",
    "        theClass = person['factor_brand'].iloc[0]#self.classes[theIndex] #¿debe ser numérico o podría ser la etiqueta?\n",
    "\n",
    "        return theImage,theClass\n",
    "\n",
    "    # Provides the images,class batch\n",
    "    # Batch format:\n",
    "    # - X : The data. Numpy array of shape (bs,nr,nc,3)\n",
    "    # - y : The ground truth. Numpy array of shape (bs,1)\n",
    "    # Where nb=batch size, nr=num rows, nc=num cols\n",
    "    def __getitem__(self,theIndex):\n",
    "        X=[]\n",
    "        y=[]\n",
    "        bStart=max(theIndex*self.batchSize,0)\n",
    "        bEnd=min((theIndex+1)*self.batchSize,self.numImages)\n",
    "        for i in range(bStart,bEnd):\n",
    "            [curImage,curGT]=self._load_image_(i)\n",
    "            X.append(curImage)\n",
    "            y.append(curGT)\n",
    "        return np.array(X),np.array(y)\n"
   ]
  },
  {
   "cell_type": "code",
   "execution_count": null,
   "metadata": {
    "id": "8uAv0pkVmQmU"
   },
   "outputs": [],
   "source": [
    "from tensorflow.keras import models\n",
    "from tensorflow.keras.layers import Conv2D, MaxPooling2D, UpSampling2D, Dense, Flatten, Softmax\n",
    "from tensorflow.keras import optimizers\n",
    "\n",
    "# Función que crea el modelo:\n",
    "def create_2dfootwear_model1():\n",
    "    theModel=models.Sequential([\n",
    "        Conv2D(32,(3,3),activation='relu',input_shape=(832, 280,3)), #tamaño imagen reducida antes\n",
    "        MaxPooling2D((2,2),padding='same'),\n",
    "        \n",
    "        Conv2D(32,(3,3),activation='relu'),\n",
    "        MaxPooling2D((2,2),padding='same'),   \n",
    "        Flatten(),\n",
    "        Dense(128, activation=\"relu\"),\n",
    "        \n",
    "\n",
    "        Dense(num_classes,activation='relu'),\n",
    "        Dense(activation='softmax')\n",
    "        Flatten()\n",
    "    ])\n",
    "          \n",
    "\n",
    "\n",
    "    return theModel\n",
    "\n",
    "theModel=create_2d_footwear_model1()\n",
    "theModel.summary()\n",
    "\n",
    "#Este modelo no se utiliza, se utiliza el siguiente"
   ]
  },
  {
   "cell_type": "code",
   "execution_count": 30,
   "metadata": {},
   "outputs": [
    {
     "name": "stdout",
     "output_type": "stream",
     "text": [
      "Model: \"sequential\"\n",
      "_________________________________________________________________\n",
      " Layer (type)                Output Shape              Param #   \n",
      "=================================================================\n",
      " rescaling (Rescaling)       (None, 280, 832, 3)       0         \n",
      "                                                                 \n",
      " conv2d (Conv2D)             (None, 280, 832, 16)      448       \n",
      "                                                                 \n",
      " max_pooling2d (MaxPooling2D  (None, 140, 416, 16)     0         \n",
      " )                                                               \n",
      "                                                                 \n",
      " conv2d_1 (Conv2D)           (None, 140, 416, 32)      4640      \n",
      "                                                                 \n",
      " max_pooling2d_1 (MaxPooling  (None, 70, 208, 32)      0         \n",
      " 2D)                                                             \n",
      "                                                                 \n",
      " conv2d_2 (Conv2D)           (None, 70, 208, 64)       18496     \n",
      "                                                                 \n",
      " max_pooling2d_2 (MaxPooling  (None, 35, 104, 64)      0         \n",
      " 2D)                                                             \n",
      "                                                                 \n",
      " flatten (Flatten)           (None, 232960)            0         \n",
      "                                                                 \n",
      " dense (Dense)               (None, 128)               29819008  \n",
      "                                                                 \n",
      " dense_1 (Dense)             (None, 20)                2580      \n",
      "                                                                 \n",
      " flatten_1 (Flatten)         (None, 20)                0         \n",
      "                                                                 \n",
      "=================================================================\n",
      "Total params: 29,845,172\n",
      "Trainable params: 29,845,172\n",
      "Non-trainable params: 0\n",
      "_________________________________________________________________\n"
     ]
    }
   ],
   "source": [
    "#Modelo utilizado:\n",
    "\n",
    "from tensorflow.keras import models\n",
    "from tensorflow.keras.layers import Conv2D, MaxPooling2D, UpSampling2D, Dense, Flatten, Softmax, Rescaling\n",
    "import tensorflow as tf\n",
    "model_test = models.Sequential([\n",
    "  Rescaling(1./255, input_shape=(280,832,3)),\n",
    "  Conv2D(16, 3, padding='same', activation='relu'),\n",
    "  MaxPooling2D(),\n",
    "  Conv2D(32, 3, padding='same', activation='relu'),\n",
    "  MaxPooling2D(),\n",
    "  Conv2D(64, 3, padding='same', activation='relu'),\n",
    "  MaxPooling2D(),\n",
    "  Flatten(),\n",
    "  Dense(128, activation='relu'),\n",
    "  Dense(num_classes),\n",
    "  Flatten()\n",
    "])\n",
    "\n",
    "model_test.summary()"
   ]
  },
  {
   "cell_type": "code",
   "execution_count": 31,
   "metadata": {},
   "outputs": [],
   "source": [
    "#Modelo mejorado (TODO):\n"
   ]
  },
  {
   "cell_type": "code",
   "execution_count": 32,
   "metadata": {},
   "outputs": [],
   "source": [
    "#Se han testeado diferentes optimizadores, se escoge ADAM.\n",
    "#Optimizador ADAM\n",
    "model_test.compile(optimizer='adam',\n",
    "              loss=tf.keras.losses.SparseCategoricalCrossentropy(from_logits=True),\n",
    "              metrics=['accuracy'])"
   ]
  },
  {
   "cell_type": "code",
   "execution_count": null,
   "metadata": {},
   "outputs": [],
   "source": [
    "#Optimizador SGD\n",
    "from keras.optimizers import SGD\n",
    "opt = SGD(learning_rate=0.01)\n",
    "model_test.compile(loss = tf.keras.losses.SparseCategoricalCrossentropy(from_logits=True), \n",
    "              metrics=['accuracy'],optimizer = opt)"
   ]
  },
  {
   "cell_type": "code",
   "execution_count": null,
   "metadata": {},
   "outputs": [],
   "source": [
    "#RMSprop\n",
    "opt = optimizers.RMSprop(learning_rate=0.0001)\n",
    "model_test.compile(optimizer=opt, loss='binary_crossentropy', metrics=['accuracy'])"
   ]
  },
  {
   "cell_type": "code",
   "execution_count": null,
   "metadata": {},
   "outputs": [],
   "source": [
    "print(shoes_train)"
   ]
  },
  {
   "cell_type": "code",
   "execution_count": 35,
   "metadata": {
    "id": "DVT_rj-P4iqT",
    "scrolled": true
   },
   "outputs": [
    {
     "data": {
      "text/plain": [
       "(10, 832, 280, 3)"
      ]
     },
     "execution_count": 35,
     "metadata": {},
     "output_type": "execute_result"
    }
   ],
   "source": [
    "trainGenerator=DataGenerator2dFootwear(shoes_train['X'].tolist(),True, \"images/\")\n",
    "testGenerator=DataGenerator2dFootwear(shoes_test['X'].tolist(),False, \"images/\")\n",
    "valGenerator=DataGenerator2dFootwear(shoes_val['X'].tolist(),False, \"images/\")\n",
    "\n",
    "trainGenerator.__getitem__(0)[0].shape\n",
    "\n"
   ]
  },
  {
   "cell_type": "code",
   "execution_count": 36,
   "metadata": {
    "id": "LCF7BxMopt6W"
   },
   "outputs": [
    {
     "name": "stdout",
     "output_type": "stream",
     "text": [
      "Epoch 1/10\n",
      "104/104 [==============================] - 129s 1s/step - loss: 2.5452 - accuracy: 0.2784 - val_loss: 2.5381 - val_accuracy: 0.2544\n",
      "Epoch 2/10\n",
      "104/104 [==============================] - 133s 1s/step - loss: 2.5066 - accuracy: 0.2871 - val_loss: 2.5478 - val_accuracy: 0.2544\n",
      "Epoch 3/10\n",
      "104/104 [==============================] - 141s 1s/step - loss: 2.4827 - accuracy: 0.2871 - val_loss: 2.5419 - val_accuracy: 0.2544\n",
      "Epoch 4/10\n",
      "104/104 [==============================] - 141s 1s/step - loss: 2.4645 - accuracy: 0.2871 - val_loss: 2.5185 - val_accuracy: 0.2544\n",
      "Epoch 5/10\n",
      "104/104 [==============================] - 128s 1s/step - loss: 2.4785 - accuracy: 0.2871 - val_loss: 2.5590 - val_accuracy: 0.2544\n",
      "Epoch 6/10\n",
      "104/104 [==============================] - 129s 1s/step - loss: 2.4720 - accuracy: 0.2871 - val_loss: 2.5206 - val_accuracy: 0.2544\n",
      "Epoch 7/10\n",
      "104/104 [==============================] - 121s 1s/step - loss: 2.4840 - accuracy: 0.2871 - val_loss: 2.5464 - val_accuracy: 0.2544\n",
      "Epoch 8/10\n",
      "104/104 [==============================] - 126s 1s/step - loss: 2.4973 - accuracy: 0.2871 - val_loss: 2.5755 - val_accuracy: 0.2544\n",
      "Epoch 9/10\n",
      "104/104 [==============================] - 128s 1s/step - loss: 2.4762 - accuracy: 0.2871 - val_loss: 2.5506 - val_accuracy: 0.2544\n",
      "Epoch 10/10\n",
      "104/104 [==============================] - 120s 1s/step - loss: 2.4696 - accuracy: 0.2871 - val_loss: 2.5292 - val_accuracy: 0.2544\n"
     ]
    }
   ],
   "source": [
    "trainHistory = model_test.fit(trainGenerator,validation_data=valGenerator, epochs=10)"
   ]
  },
  {
   "cell_type": "code",
   "execution_count": 37,
   "metadata": {},
   "outputs": [],
   "source": [
    "\n",
    "def plot_history(history):\n",
    "# summarize history for accuracy\n",
    "    plt.plot(history.history['accuracy'])\n",
    "    plt.plot(history.history['val_accuracy'])\n",
    "    plt.title('model accuracy')\n",
    "    plt.ylabel('accuracy')\n",
    "    plt.xlabel('epoch')\n",
    "    plt.legend(['train', 'test'], loc='upper left')\n",
    "    plt.show()\n",
    "    # summarize history for loss\n",
    "    plt.plot(history.history['loss'])\n",
    "    plt.plot(history.history['val_loss'])\n",
    "    plt.title('model loss')\n",
    "    plt.ylabel('loss')\n",
    "    plt.xlabel('epoch')\n",
    "    plt.legend(['train', 'test'], loc='upper left')\n",
    "    plt.show()\n",
    "\n",
    "def plot_history_2(history):\n",
    "    plt.plot(history.history['accuracy'])\n",
    "    plt.title('model accuracy')\n",
    "    plt.ylabel('accuracy')\n",
    "    plt.xlabel('epoch')\n",
    "    plt.legend(['train', 'test'], loc='upper left')\n",
    "    plt.show()\n",
    "    # summarize history for loss\n",
    "    plt.plot(history.history['loss'])\n",
    "    plt.title('model loss')\n",
    "    plt.ylabel('loss')\n",
    "    plt.xlabel('epoch')\n",
    "    plt.legend(['train', 'test'], loc='upper left')\n",
    "    plt.show()"
   ]
  },
  {
   "cell_type": "code",
   "execution_count": 38,
   "metadata": {},
   "outputs": [
    {
     "data": {
      "image/png": "[encoded data removed]",
      "text/plain": [
       "<Figure size 432x288 with 1 Axes>"
      ]
     },
     "metadata": {
      "needs_background": "light"
     },
     "output_type": "display_data"
    },
    {
     "data": {
      "image/png": "[encoded data removed]",
      "text/plain": [
       "<Figure size 432x288 with 1 Axes>"
      ]
     },
     "metadata": {
      "needs_background": "light"
     },
     "output_type": "display_data"
    }
   ],
   "source": [
    "plot_history(trainHistory)"
   ]
  },
  {
   "cell_type": "code",
   "execution_count": 43,
   "metadata": {},
   "outputs": [
    {
     "name": "stdout",
     "output_type": "stream",
     "text": [
      "30/30 [==============================] - 8s 258ms/step\n"
     ]
    }
   ],
   "source": [
    "from sklearn.metrics import confusion_matrix, plot_confusion_matrix\n",
    "predicted_y = model_test.predict(testGenerator)\n",
    "# Evaluate the best model with testing data.\n",
    "#print(confusion_matrix(shoes_test['y'],predicted_y))"
   ]
  },
  {
   "cell_type": "code",
   "execution_count": 60,
   "metadata": {},
   "outputs": [
    {
     "name": "stdout",
     "output_type": "stream",
     "text": [
      "30/30 [==============================] - 9s 273ms/step - loss: 2.4942 - accuracy: 0.3033\n"
     ]
    },
    {
     "data": {
      "text/plain": [
       "[2.4941654205322266, 0.3033333420753479]"
      ]
     },
     "execution_count": 60,
     "metadata": {},
     "output_type": "execute_result"
    }
   ],
   "source": [
    "model_test.evaluate(testGenerator)"
   ]
  },
  {
   "cell_type": "markdown",
   "metadata": {},
   "source": [
    "### Uso de autokeras\n",
    "La librería autokeras se encarga de buscar la combinación de Layers del modelo que puede obtener mejor resultado.\n"
   ]
  },
  {
   "cell_type": "code",
   "execution_count": 44,
   "metadata": {},
   "outputs": [
    {
     "name": "stdout",
     "output_type": "stream",
     "text": [
      "Requirement already satisfied: autokeras in /Library/Frameworks/Python.framework/Versions/3.8/lib/python3.8/site-packages (1.1.0)\n",
      "Requirement already satisfied: tensorflow>=2.8.0 in /Library/Frameworks/Python.framework/Versions/3.8/lib/python3.8/site-packages (from autokeras) (2.11.0)\n",
      "Requirement already satisfied: packaging in /Library/Frameworks/Python.framework/Versions/3.8/lib/python3.8/site-packages (from autokeras) (21.3)\n",
      "Requirement already satisfied: keras-nlp>=0.4.0 in /Library/Frameworks/Python.framework/Versions/3.8/lib/python3.8/site-packages (from autokeras) (0.4.1)\n",
      "Requirement already satisfied: keras-tuner>=1.1.0 in /Library/Frameworks/Python.framework/Versions/3.8/lib/python3.8/site-packages (from autokeras) (1.3.0)\n",
      "Requirement already satisfied: pandas in /Library/Frameworks/Python.framework/Versions/3.8/lib/python3.8/site-packages (from autokeras) (1.0.3)\n",
      "Requirement already satisfied: numpy in /Library/Frameworks/Python.framework/Versions/3.8/lib/python3.8/site-packages (from keras-nlp>=0.4.0->autokeras) (1.23.4)\n",
      "Requirement already satisfied: absl-py in /Library/Frameworks/Python.framework/Versions/3.8/lib/python3.8/site-packages (from keras-nlp>=0.4.0->autokeras) (1.4.0)\n",
      "Requirement already satisfied: ipython in /Library/Frameworks/Python.framework/Versions/3.8/lib/python3.8/site-packages (from keras-tuner>=1.1.0->autokeras) (7.13.0)\n",
      "Requirement already satisfied: requests in /Library/Frameworks/Python.framework/Versions/3.8/lib/python3.8/site-packages (from keras-tuner>=1.1.0->autokeras) (2.23.0)\n",
      "Requirement already satisfied: kt-legacy in /Library/Frameworks/Python.framework/Versions/3.8/lib/python3.8/site-packages (from keras-tuner>=1.1.0->autokeras) (1.0.4)\n",
      "Requirement already satisfied: typing-extensions>=3.6.6 in /Library/Frameworks/Python.framework/Versions/3.8/lib/python3.8/site-packages (from tensorflow>=2.8.0->autokeras) (4.5.0)\n",
      "Requirement already satisfied: h5py>=2.9.0 in /Library/Frameworks/Python.framework/Versions/3.8/lib/python3.8/site-packages (from tensorflow>=2.8.0->autokeras) (3.8.0)\n",
      "Requirement already satisfied: google-pasta>=0.1.1 in /Library/Frameworks/Python.framework/Versions/3.8/lib/python3.8/site-packages (from tensorflow>=2.8.0->autokeras) (0.2.0)\n",
      "Requirement already satisfied: astunparse>=1.6.0 in /Library/Frameworks/Python.framework/Versions/3.8/lib/python3.8/site-packages (from tensorflow>=2.8.0->autokeras) (1.6.3)\n",
      "Requirement already satisfied: setuptools in /Library/Frameworks/Python.framework/Versions/3.8/lib/python3.8/site-packages (from tensorflow>=2.8.0->autokeras) (41.2.0)\n",
      "Requirement already satisfied: gast<=0.4.0,>=0.2.1 in /Library/Frameworks/Python.framework/Versions/3.8/lib/python3.8/site-packages (from tensorflow>=2.8.0->autokeras) (0.4.0)\n",
      "Requirement already satisfied: protobuf<3.20,>=3.9.2 in /Library/Frameworks/Python.framework/Versions/3.8/lib/python3.8/site-packages (from tensorflow>=2.8.0->autokeras) (3.19.6)\n",
      "Requirement already satisfied: wrapt>=1.11.0 in /Library/Frameworks/Python.framework/Versions/3.8/lib/python3.8/site-packages (from tensorflow>=2.8.0->autokeras) (1.15.0)\n",
      "Requirement already satisfied: tensorflow-io-gcs-filesystem>=0.23.1 in /Library/Frameworks/Python.framework/Versions/3.8/lib/python3.8/site-packages (from tensorflow>=2.8.0->autokeras) (0.31.0)\n",
      "Requirement already satisfied: grpcio<2.0,>=1.24.3 in /Library/Frameworks/Python.framework/Versions/3.8/lib/python3.8/site-packages (from tensorflow>=2.8.0->autokeras) (1.51.3)\n",
      "Requirement already satisfied: libclang>=13.0.0 in /Library/Frameworks/Python.framework/Versions/3.8/lib/python3.8/site-packages (from tensorflow>=2.8.0->autokeras) (15.0.6.1)\n",
      "Requirement already satisfied: six>=1.12.0 in /Library/Frameworks/Python.framework/Versions/3.8/lib/python3.8/site-packages (from tensorflow>=2.8.0->autokeras) (1.14.0)\n",
      "Requirement already satisfied: tensorboard<2.12,>=2.11 in /Library/Frameworks/Python.framework/Versions/3.8/lib/python3.8/site-packages (from tensorflow>=2.8.0->autokeras) (2.11.2)\n",
      "Requirement already satisfied: flatbuffers>=2.0 in /Library/Frameworks/Python.framework/Versions/3.8/lib/python3.8/site-packages (from tensorflow>=2.8.0->autokeras) (23.3.3)\n",
      "Requirement already satisfied: termcolor>=1.1.0 in /Library/Frameworks/Python.framework/Versions/3.8/lib/python3.8/site-packages (from tensorflow>=2.8.0->autokeras) (2.2.0)\n",
      "Requirement already satisfied: tensorflow-estimator<2.12,>=2.11.0 in /Library/Frameworks/Python.framework/Versions/3.8/lib/python3.8/site-packages (from tensorflow>=2.8.0->autokeras) (2.11.0)\n",
      "Requirement already satisfied: opt-einsum>=2.3.2 in /Library/Frameworks/Python.framework/Versions/3.8/lib/python3.8/site-packages (from tensorflow>=2.8.0->autokeras) (3.3.0)\n",
      "Requirement already satisfied: keras<2.12,>=2.11.0 in /Library/Frameworks/Python.framework/Versions/3.8/lib/python3.8/site-packages (from tensorflow>=2.8.0->autokeras) (2.11.0)\n",
      "Requirement already satisfied: pyparsing!=3.0.5,>=2.0.2 in /Library/Frameworks/Python.framework/Versions/3.8/lib/python3.8/site-packages (from packaging->autokeras) (3.0.9)\n",
      "Requirement already satisfied: python-dateutil>=2.6.1 in /Library/Frameworks/Python.framework/Versions/3.8/lib/python3.8/site-packages (from pandas->autokeras) (2.8.1)\n",
      "Requirement already satisfied: pytz>=2017.2 in /Library/Frameworks/Python.framework/Versions/3.8/lib/python3.8/site-packages (from pandas->autokeras) (2020.1)\n",
      "Requirement already satisfied: wheel<1.0,>=0.23.0 in /Library/Frameworks/Python.framework/Versions/3.8/lib/python3.8/site-packages (from astunparse>=1.6.0->tensorflow>=2.8.0->autokeras) (0.38.4)\n",
      "Requirement already satisfied: markdown>=2.6.8 in /Library/Frameworks/Python.framework/Versions/3.8/lib/python3.8/site-packages (from tensorboard<2.12,>=2.11->tensorflow>=2.8.0->autokeras) (3.4.1)\n",
      "Requirement already satisfied: werkzeug>=1.0.1 in /Library/Frameworks/Python.framework/Versions/3.8/lib/python3.8/site-packages (from tensorboard<2.12,>=2.11->tensorflow>=2.8.0->autokeras) (2.2.3)\n",
      "Requirement already satisfied: google-auth<3,>=1.6.3 in /Library/Frameworks/Python.framework/Versions/3.8/lib/python3.8/site-packages (from tensorboard<2.12,>=2.11->tensorflow>=2.8.0->autokeras) (2.16.2)\n",
      "Requirement already satisfied: tensorboard-data-server<0.7.0,>=0.6.0 in /Library/Frameworks/Python.framework/Versions/3.8/lib/python3.8/site-packages (from tensorboard<2.12,>=2.11->tensorflow>=2.8.0->autokeras) (0.6.1)\n",
      "Requirement already satisfied: tensorboard-plugin-wit>=1.6.0 in /Library/Frameworks/Python.framework/Versions/3.8/lib/python3.8/site-packages (from tensorboard<2.12,>=2.11->tensorflow>=2.8.0->autokeras) (1.8.1)\n",
      "Requirement already satisfied: google-auth-oauthlib<0.5,>=0.4.1 in /Library/Frameworks/Python.framework/Versions/3.8/lib/python3.8/site-packages (from tensorboard<2.12,>=2.11->tensorflow>=2.8.0->autokeras) (0.4.6)\n",
      "Requirement already satisfied: urllib3!=1.25.0,!=1.25.1,<1.26,>=1.21.1 in /Library/Frameworks/Python.framework/Versions/3.8/lib/python3.8/site-packages (from requests->keras-tuner>=1.1.0->autokeras) (1.25.9)\n",
      "Requirement already satisfied: certifi>=2017.4.17 in /Library/Frameworks/Python.framework/Versions/3.8/lib/python3.8/site-packages (from requests->keras-tuner>=1.1.0->autokeras) (2020.4.5.1)\n",
      "Requirement already satisfied: idna<3,>=2.5 in /Library/Frameworks/Python.framework/Versions/3.8/lib/python3.8/site-packages (from requests->keras-tuner>=1.1.0->autokeras) (2.9)\n",
      "Requirement already satisfied: chardet<4,>=3.0.2 in /Library/Frameworks/Python.framework/Versions/3.8/lib/python3.8/site-packages (from requests->keras-tuner>=1.1.0->autokeras) (3.0.4)\n",
      "Requirement already satisfied: appnope in /Library/Frameworks/Python.framework/Versions/3.8/lib/python3.8/site-packages (from ipython->keras-tuner>=1.1.0->autokeras) (0.1.0)\n",
      "Requirement already satisfied: pexpect in /Library/Frameworks/Python.framework/Versions/3.8/lib/python3.8/site-packages (from ipython->keras-tuner>=1.1.0->autokeras) (4.8.0)\n",
      "Requirement already satisfied: backcall in /Library/Frameworks/Python.framework/Versions/3.8/lib/python3.8/site-packages (from ipython->keras-tuner>=1.1.0->autokeras) (0.1.0)\n",
      "Requirement already satisfied: decorator in /Library/Frameworks/Python.framework/Versions/3.8/lib/python3.8/site-packages (from ipython->keras-tuner>=1.1.0->autokeras) (4.4.2)\n",
      "Requirement already satisfied: prompt-toolkit!=3.0.0,!=3.0.1,<3.1.0,>=2.0.0 in /Library/Frameworks/Python.framework/Versions/3.8/lib/python3.8/site-packages (from ipython->keras-tuner>=1.1.0->autokeras) (3.0.5)\n",
      "Requirement already satisfied: jedi>=0.10 in /Library/Frameworks/Python.framework/Versions/3.8/lib/python3.8/site-packages (from ipython->keras-tuner>=1.1.0->autokeras) (0.17.0)\n",
      "Requirement already satisfied: traitlets>=4.2 in /Library/Frameworks/Python.framework/Versions/3.8/lib/python3.8/site-packages (from ipython->keras-tuner>=1.1.0->autokeras) (4.3.3)\n",
      "Requirement already satisfied: pygments in /Library/Frameworks/Python.framework/Versions/3.8/lib/python3.8/site-packages (from ipython->keras-tuner>=1.1.0->autokeras) (2.6.1)\n",
      "Requirement already satisfied: pickleshare in /Library/Frameworks/Python.framework/Versions/3.8/lib/python3.8/site-packages (from ipython->keras-tuner>=1.1.0->autokeras) (0.7.5)\n",
      "Requirement already satisfied: cachetools<6.0,>=2.0.0 in /Library/Frameworks/Python.framework/Versions/3.8/lib/python3.8/site-packages (from google-auth<3,>=1.6.3->tensorboard<2.12,>=2.11->tensorflow>=2.8.0->autokeras) (5.3.0)\n",
      "Requirement already satisfied: rsa<5,>=3.1.4 in /Library/Frameworks/Python.framework/Versions/3.8/lib/python3.8/site-packages (from google-auth<3,>=1.6.3->tensorboard<2.12,>=2.11->tensorflow>=2.8.0->autokeras) (4.9)\n",
      "Requirement already satisfied: pyasn1-modules>=0.2.1 in /Library/Frameworks/Python.framework/Versions/3.8/lib/python3.8/site-packages (from google-auth<3,>=1.6.3->tensorboard<2.12,>=2.11->tensorflow>=2.8.0->autokeras) (0.2.8)\n",
      "Requirement already satisfied: requests-oauthlib>=0.7.0 in /Library/Frameworks/Python.framework/Versions/3.8/lib/python3.8/site-packages (from google-auth-oauthlib<0.5,>=0.4.1->tensorboard<2.12,>=2.11->tensorflow>=2.8.0->autokeras) (1.3.1)\n"
     ]
    },
    {
     "name": "stdout",
     "output_type": "stream",
     "text": [
      "Requirement already satisfied: parso>=0.7.0 in /Library/Frameworks/Python.framework/Versions/3.8/lib/python3.8/site-packages (from jedi>=0.10->ipython->keras-tuner>=1.1.0->autokeras) (0.7.0)\n",
      "Requirement already satisfied: importlib-metadata>=4.4 in /Library/Frameworks/Python.framework/Versions/3.8/lib/python3.8/site-packages (from markdown>=2.6.8->tensorboard<2.12,>=2.11->tensorflow>=2.8.0->autokeras) (6.0.0)\n",
      "Requirement already satisfied: wcwidth in /Library/Frameworks/Python.framework/Versions/3.8/lib/python3.8/site-packages (from prompt-toolkit!=3.0.0,!=3.0.1,<3.1.0,>=2.0.0->ipython->keras-tuner>=1.1.0->autokeras) (0.1.9)\n",
      "Requirement already satisfied: ipython-genutils in /Library/Frameworks/Python.framework/Versions/3.8/lib/python3.8/site-packages (from traitlets>=4.2->ipython->keras-tuner>=1.1.0->autokeras) (0.2.0)\n",
      "Requirement already satisfied: MarkupSafe>=2.1.1 in /Library/Frameworks/Python.framework/Versions/3.8/lib/python3.8/site-packages (from werkzeug>=1.0.1->tensorboard<2.12,>=2.11->tensorflow>=2.8.0->autokeras) (2.1.2)\n",
      "Requirement already satisfied: ptyprocess>=0.5 in /Library/Frameworks/Python.framework/Versions/3.8/lib/python3.8/site-packages (from pexpect->ipython->keras-tuner>=1.1.0->autokeras) (0.6.0)\n",
      "Requirement already satisfied: zipp>=0.5 in /Library/Frameworks/Python.framework/Versions/3.8/lib/python3.8/site-packages (from importlib-metadata>=4.4->markdown>=2.6.8->tensorboard<2.12,>=2.11->tensorflow>=2.8.0->autokeras) (3.15.0)\n",
      "Requirement already satisfied: pyasn1<0.5.0,>=0.4.6 in /Library/Frameworks/Python.framework/Versions/3.8/lib/python3.8/site-packages (from pyasn1-modules>=0.2.1->google-auth<3,>=1.6.3->tensorboard<2.12,>=2.11->tensorflow>=2.8.0->autokeras) (0.4.8)\n",
      "Requirement already satisfied: oauthlib>=3.0.0 in /Library/Frameworks/Python.framework/Versions/3.8/lib/python3.8/site-packages (from requests-oauthlib>=0.7.0->google-auth-oauthlib<0.5,>=0.4.1->tensorboard<2.12,>=2.11->tensorflow>=2.8.0->autokeras) (3.2.2)\n"
     ]
    }
   ],
   "source": [
    "#autokeras\n",
    "\n",
    "!pip install autokeras"
   ]
  },
  {
   "cell_type": "code",
   "execution_count": 45,
   "metadata": {},
   "outputs": [],
   "source": [
    "import autokeras as ak"
   ]
  },
  {
   "cell_type": "code",
   "execution_count": 46,
   "metadata": {},
   "outputs": [
    {
     "data": {
      "text/plain": [
       "(10, 832, 280, 3)"
      ]
     },
     "execution_count": 46,
     "metadata": {},
     "output_type": "execute_result"
    }
   ],
   "source": [
    "import tensorflow as tf\n",
    "batch_size=10\n",
    "\n",
    "train3_loader = torch.utils.data.DataLoader(DataGenerator2dFootwear(shoes_train['X'].tolist(),True, \"images/\"))\n",
    "\n",
    "test3_loader = torch.utils.data.DataLoader(DataGenerator2dFootwear(shoes_test['X'].tolist(),False, \"images/\"))\n",
    "\n",
    "ex_train = enumerate(train3_loader)\n",
    "train_batch_idx, (train_data, train_annotation) = next(ex_train)\n",
    "\n",
    "ex_test = enumerate(test3_loader)\n",
    "test_batch_idx, (test_data, test_annotation) = next(ex_test)\n",
    "\n",
    "\n",
    "#test_data = torch.moveaxis (test_data, 1, -1)\n",
    "#train_data = torch.moveaxis (train_data, 1, -1)\n",
    "\n",
    "train_set = tf.data.Dataset.from_tensor_slices ((train_data, train_annotation))\n",
    "test_set = tf.data.Dataset.from_tensor_slices ((test_data, test_annotation))\n",
    "\n",
    "\n",
    "trainGenerator=DataGenerator2dFootwear(shoes_train['X'].tolist(),True, \"images/\")\n",
    "testGenerator=DataGenerator2dFootwear(shoes_test['X'].tolist(),False, \"images/\")\n",
    "valGenerator=DataGenerator2dFootwear(shoes_val['X'].tolist(),False, \"images/\")\n",
    "\n",
    "trainGenerator.__getitem__(0)[0].shape"
   ]
  },
  {
   "cell_type": "code",
   "execution_count": 47,
   "metadata": {},
   "outputs": [
    {
     "name": "stdout",
     "output_type": "stream",
     "text": [
      "(1031, 832, 280, 3)\n"
     ]
    }
   ],
   "source": [
    "#https://autokeras.com/image_classifier/\n",
    "#https://medium.com/analytics-vidhya/how-to-use-autokeras-to-build-image-classification-models-using-one-line-of-code-c35b0c36e66e\n",
    "\n",
    "images_train = np.empty([280,832], dtype=int)\n",
    "\n",
    "X = np.array([io.imread(\"images/\"+p) for p in shoes_train.X.values])\n",
    "\n",
    "print(X.shape)\n"
   ]
  },
  {
   "cell_type": "code",
   "execution_count": 48,
   "metadata": {},
   "outputs": [
    {
     "name": "stdout",
     "output_type": "stream",
     "text": [
      "INFO:tensorflow:Reloading Tuner from ./image_classifier/tuner0.json\n",
      "WARNING:tensorflow:From /Library/Frameworks/Python.framework/Versions/3.8/lib/python3.8/site-packages/tensorflow/python/autograph/pyct/static_analysis/liveness.py:83: Analyzer.lamba_check (from tensorflow.python.autograph.pyct.static_analysis.liveness) is deprecated and will be removed after 2023-09-23.\n",
      "Instructions for updating:\n",
      "Lambda fuctions will be no more assumed to be used in the statement where they are used, or at least in the same block. https://github.com/tensorflow/tensorflow/issues/56089\n",
      "INFO:tensorflow:Oracle triggered exit\n",
      "Epoch 1/10\n",
      "33/33 [==============================] - 323s 10s/step - loss: 36.8848 - accuracy: 0.1406\n",
      "Epoch 2/10\n",
      "33/33 [==============================] - 370s 11s/step - loss: 2.4328 - accuracy: 0.3356\n",
      "Epoch 3/10\n",
      "33/33 [==============================] - 344s 10s/step - loss: 1.5474 - accuracy: 0.5461\n",
      "Epoch 4/10\n",
      "33/33 [==============================] - 384s 12s/step - loss: 0.3066 - accuracy: 0.9612\n",
      "Epoch 5/10\n",
      "33/33 [==============================] - 407s 12s/step - loss: 0.0261 - accuracy: 0.9971\n",
      "Epoch 6/10\n",
      "33/33 [==============================] - 363s 11s/step - loss: 0.0051 - accuracy: 1.0000\n",
      "Epoch 7/10\n",
      "33/33 [==============================] - 363s 11s/step - loss: 0.0015 - accuracy: 1.0000\n",
      "Epoch 8/10\n",
      "33/33 [==============================] - 349s 11s/step - loss: 6.9477e-04 - accuracy: 1.0000\n",
      "Epoch 9/10\n",
      "33/33 [==============================] - 301s 9s/step - loss: 5.5516e-04 - accuracy: 1.0000\n",
      "Epoch 10/10\n",
      "33/33 [==============================] - 296s 9s/step - loss: 3.3394e-04 - accuracy: 1.0000\n"
     ]
    },
    {
     "name": "stderr",
     "output_type": "stream",
     "text": [
      "WARNING:absl:Found untraced functions such as _jit_compiled_convolution_op, _jit_compiled_convolution_op, _update_step_xla while saving (showing 3 of 3). These functions will not be directly callable after loading.\n"
     ]
    },
    {
     "name": "stdout",
     "output_type": "stream",
     "text": [
      "INFO:tensorflow:Assets written to: ./image_classifier/best_model/assets\n"
     ]
    },
    {
     "name": "stderr",
     "output_type": "stream",
     "text": [
      "INFO:tensorflow:Assets written to: ./image_classifier/best_model/assets\n"
     ]
    }
   ],
   "source": [
    "clf = ak.ImageClassifier( max_trials=1,loss = 'binary_crossentropy',\n",
    "    metrics = 'accuracy')\n",
    "\n",
    "# Feed the tensorflow Dataset to the classifier.\n",
    "autohistory = clf.fit(X, shoes_train['y'],epochs=10, validation_split = 0.2)\n",
    "\n"
   ]
  },
  {
   "cell_type": "code",
   "execution_count": 49,
   "metadata": {},
   "outputs": [
    {
     "name": "stdout",
     "output_type": "stream",
     "text": [
      "Model: \"model\"\n",
      "_________________________________________________________________\n",
      " Layer (type)                Output Shape              Param #   \n",
      "=================================================================\n",
      " input_1 (InputLayer)        [(None, 832, 280, 3)]     0         \n",
      "                                                                 \n",
      " cast_to_float32 (CastToFloa  (None, 832, 280, 3)      0         \n",
      " t32)                                                            \n",
      "                                                                 \n",
      " normalization (Normalizatio  (None, 832, 280, 3)      7         \n",
      " n)                                                              \n",
      "                                                                 \n",
      " conv2d (Conv2D)             (None, 830, 278, 32)      896       \n",
      "                                                                 \n",
      " conv2d_1 (Conv2D)           (None, 828, 276, 64)      18496     \n",
      "                                                                 \n",
      " max_pooling2d (MaxPooling2D  (None, 414, 138, 64)     0         \n",
      " )                                                               \n",
      "                                                                 \n",
      " dropout (Dropout)           (None, 414, 138, 64)      0         \n",
      "                                                                 \n",
      " flatten (Flatten)           (None, 3656448)           0         \n",
      "                                                                 \n",
      " dropout_1 (Dropout)         (None, 3656448)           0         \n",
      "                                                                 \n",
      " dense (Dense)               (None, 20)                73128980  \n",
      "                                                                 \n",
      " classification_head_1 (Soft  (None, 20)               0         \n",
      " max)                                                            \n",
      "                                                                 \n",
      "=================================================================\n",
      "Total params: 73,148,379\n",
      "Trainable params: 73,148,372\n",
      "Non-trainable params: 7\n",
      "_________________________________________________________________\n"
     ]
    },
    {
     "data": {
      "image/png": "[encoded data removed]",
      "text/plain": [
       "<Figure size 432x288 with 1 Axes>"
      ]
     },
     "metadata": {
      "needs_background": "light"
     },
     "output_type": "display_data"
    },
    {
     "data": {
      "image/png": "[encoded data removed]",
      "text/plain": [
       "<Figure size 432x288 with 1 Axes>"
      ]
     },
     "metadata": {
      "needs_background": "light"
     },
     "output_type": "display_data"
    }
   ],
   "source": [
    "model = clf.export_model()\n",
    "\n",
    "# Para ver la información de la función summary() que incluye las capas del mejor modelo\n",
    "model.summary()\n",
    "\n",
    "#with open('saved/auto_model.pkl', 'wb') as fp:\n",
    "#        pickle.dump(model, fp)\n",
    "#        print('Model saved successfully to file')\n",
    "\n",
    "#print(autohistory.history)\n",
    "plot_history_2(autohistory)"
   ]
  },
  {
   "cell_type": "code",
   "execution_count": 50,
   "metadata": {},
   "outputs": [
    {
     "name": "stdout",
     "output_type": "stream",
     "text": [
      "10/10 [==============================] - 21s 2s/step\n",
      "10/10 [==============================] - 21s 2s/step\n"
     ]
    }
   ],
   "source": [
    "# Predict with the best model.\n",
    "test = np.empty([280,832], dtype=int)\n",
    "\n",
    "test = np.array([io.imread(\"images/\"+p) for p in shoes_test.X.values])\n",
    "\n",
    "predicted_y = clf.predict(test)\n"
   ]
  },
  {
   "cell_type": "code",
   "execution_count": 51,
   "metadata": {},
   "outputs": [
    {
     "name": "stdout",
     "output_type": "stream",
     "text": [
      "[[ 4  2  0  0  0  0  0  0  0  0 17  0  0  0  0  0  0  0  0  0]\n",
      " [ 0  7  0  0  0  0  0  0  0  9  9  0  0  0  0  0  0  0  0  0]\n",
      " [ 0  0  0  0  0  0  0  0  0  0  3  0  0  0  0  0  0  0  0  0]\n",
      " [ 0  0  0  0  0  0  0  0  0  0  6  0  0  0  0  0  0  0  0  0]\n",
      " [ 0  0  0  0  7  0  0  0  0  2  6  0  0  0  0  0  0  0  0  0]\n",
      " [ 0  0  0  0  0  1  0  0  0  0  7  0  0  0  0  0  0  0  0  0]\n",
      " [ 0  0  0  0  1  0  0  0  0  2  3  0  0  0  0  0  0  0  0  0]\n",
      " [ 0  1  0  0  0  0  0  0  0  1  4  0  0  0  0  0  0  0  0  0]\n",
      " [ 0  0  0  0  0  0  0  0  0  2  2  0  0  0  0  0  0  0  0  0]\n",
      " [ 1  1  0  0  0  0  0  0  0 25 19  0  0  0  0  0  0  0  0  0]\n",
      " [ 0  0  0  0  1  0  0  0  0  3 87  0  0  0  0  0  0  0  0  0]\n",
      " [ 0  0  0  0  0  0  0  0  0  0  4  0  0  0  0  0  0  0  0  0]\n",
      " [ 0  2  0  0  0  0  0  0  0  4  5  0  0  0  0  0  0  0  0  0]\n",
      " [ 0  0  0  0  0  0  0  0  0  0  5  0  0  0  0  0  0  0  0  0]\n",
      " [ 0  1  0  0  0  0  0  0  0  2 13  0  0  0  1  0  0  0  0  0]\n",
      " [ 0  0  0  0  0  0  0  0  0  0  6  0  0  0  0  1  0  0  0  0]\n",
      " [ 0  0  0  0  0  0  0  0  0  0  8  0  0  0  0  0  1  0  0  0]\n",
      " [ 0  0  0  0  0  0  0  0  0  0  3  0  0  0  0  0  0  0  0  0]\n",
      " [ 0  0  0  0  0  0  0  0  0  1  7  0  0  0  0  0  0  0  0  0]\n",
      " [ 0  0  0  0  0  0  0  0  0  0  3  0  0  0  0  0  0  0  0  0]]\n"
     ]
    }
   ],
   "source": [
    "from sklearn.metrics import confusion_matrix, plot_confusion_matrix\n",
    "print(confusion_matrix(shoes_test['y'],predicted_y))\n"
   ]
  },
  {
   "cell_type": "code",
   "execution_count": 52,
   "metadata": {},
   "outputs": [
    {
     "name": "stdout",
     "output_type": "stream",
     "text": [
      "10/10 [==============================] - 20s 2s/step - loss: 3.3935 - accuracy: 0.4467\n",
      "[3.393488883972168, 0.4466666579246521]\n"
     ]
    }
   ],
   "source": [
    "\n",
    "# Evaluate the best model with testing data.\n",
    "print(clf.evaluate(test, shoes_test['y']))"
   ]
  },
  {
   "cell_type": "markdown",
   "metadata": {},
   "source": [
    "Se obtiene una eficacia del 44%, bastante baja respecto a la de entrenamiento.\n",
    "\n",
    "¿Esto implica sobreentrenamiento?"
   ]
  },
  {
   "cell_type": "markdown",
   "metadata": {},
   "source": [
    "### Uso de modelo pre-entrenado ImageNet"
   ]
  },
  {
   "cell_type": "code",
   "execution_count": 53,
   "metadata": {},
   "outputs": [
    {
     "name": "stdout",
     "output_type": "stream",
     "text": [
      "Model: \"sequential\"\n",
      "_________________________________________________________________\n",
      " Layer (type)                Output Shape              Param #   \n",
      "=================================================================\n",
      " vgg16 (Functional)          (None, 26, 8, 512)        14714688  \n",
      "                                                                 \n",
      " flatten_1 (Flatten)         (None, 106496)            0         \n",
      "                                                                 \n",
      " dense_1 (Dense)             (None, 20)                2129940   \n",
      "                                                                 \n",
      "=================================================================\n",
      "Total params: 16,844,628\n",
      "Trainable params: 16,844,628\n",
      "Non-trainable params: 0\n",
      "_________________________________________________________________\n"
     ]
    }
   ],
   "source": [
    "#https://towardsdatascience.com/step-by-step-guide-to-using-pretrained-models-in-keras-c9097b647b29\n",
    "\n",
    "from keras.applications.vgg16 import VGG16\n",
    "from tensorflow.keras.layers import Input\n",
    "import ssl\n",
    "#se usa para evitar el error SSL que lanza VGG16\n",
    "ssl._create_default_https_context = ssl._create_unverified_context\n",
    "\n",
    "#vgg16 por defecto usa ImageNet:\n",
    "modelPre = models.Sequential()\n",
    "modelPre.add(VGG16(include_top=False, input_shape=(832, 280, 3)))\n",
    "modelPre.add(Flatten())\n",
    "modelPre.add(Dense(num_classes))\n",
    "modelPre.summary()\n",
    "\n",
    "#inp = Input(shape= (320,872, 3))\n",
    "#out = VGG16(weights='imagenet')(inp)\n",
    "#modelPre = Model(inputs=inp, outputs=out)"
   ]
  },
  {
   "cell_type": "code",
   "execution_count": 54,
   "metadata": {},
   "outputs": [],
   "source": [
    "import tensorflow as tf\n",
    "modelPre.compile(optimizer='adam',\n",
    "              loss=tf.keras.losses.SparseCategoricalCrossentropy(from_logits=True),\n",
    "              metrics=['accuracy'])"
   ]
  },
  {
   "cell_type": "code",
   "execution_count": 55,
   "metadata": {},
   "outputs": [
    {
     "name": "stdout",
     "output_type": "stream",
     "text": [
      "Epoch 1/10\n",
      "104/104 [==============================] - 2139s 21s/step - loss: 3.0065 - accuracy: 0.2396 - val_loss: 2.5694 - val_accuracy: 0.1834\n",
      "Epoch 2/10\n",
      "104/104 [==============================] - 2127s 20s/step - loss: 2.5393 - accuracy: 0.2764 - val_loss: 2.6916 - val_accuracy: 0.2544\n",
      "Epoch 3/10\n",
      "104/104 [==============================] - 2110s 20s/step - loss: 2.5060 - accuracy: 0.2832 - val_loss: 2.5092 - val_accuracy: 0.2544\n",
      "Epoch 4/10\n",
      "104/104 [==============================] - 2107s 20s/step - loss: 2.4848 - accuracy: 0.2871 - val_loss: 2.6034 - val_accuracy: 0.2544\n",
      "Epoch 5/10\n",
      "104/104 [==============================] - 2105s 20s/step - loss: 2.4814 - accuracy: 0.2871 - val_loss: 2.5229 - val_accuracy: 0.2544\n",
      "Epoch 6/10\n",
      "104/104 [==============================] - 2108s 20s/step - loss: 2.4619 - accuracy: 0.2871 - val_loss: 2.5147 - val_accuracy: 0.2544\n",
      "Epoch 7/10\n",
      "104/104 [==============================] - 2112s 20s/step - loss: 2.4641 - accuracy: 0.2871 - val_loss: 2.5874 - val_accuracy: 0.2544\n",
      "Epoch 8/10\n",
      "104/104 [==============================] - 2134s 21s/step - loss: 2.4685 - accuracy: 0.2871 - val_loss: 2.5214 - val_accuracy: 0.2544\n",
      "Epoch 9/10\n",
      "104/104 [==============================] - 2106s 20s/step - loss: 2.4664 - accuracy: 0.2871 - val_loss: 2.5202 - val_accuracy: 0.2544\n",
      "Epoch 10/10\n",
      "104/104 [==============================] - 2104s 20s/step - loss: 2.4581 - accuracy: 0.2871 - val_loss: 2.5255 - val_accuracy: 0.2544\n"
     ]
    }
   ],
   "source": [
    "preHistory = modelPre.fit(trainGenerator,validation_data=valGenerator, epochs=10)"
   ]
  },
  {
   "cell_type": "code",
   "execution_count": 56,
   "metadata": {},
   "outputs": [
    {
     "data": {
      "image/png": "[encoded data removed]",
      "text/plain": [
       "<Figure size 432x288 with 1 Axes>"
      ]
     },
     "metadata": {
      "needs_background": "light"
     },
     "output_type": "display_data"
    },
    {
     "data": {
      "image/png": "[encoded data removed]",
      "text/plain": [
       "<Figure size 432x288 with 1 Axes>"
      ]
     },
     "metadata": {
      "needs_background": "light"
     },
     "output_type": "display_data"
    }
   ],
   "source": [
    "plot_history(preHistory)"
   ]
  },
  {
   "cell_type": "markdown",
   "metadata": {},
   "source": [
    "Resultados muy bajos para ser con ImageNet."
   ]
  },
  {
   "cell_type": "code",
   "execution_count": 61,
   "metadata": {},
   "outputs": [
    {
     "name": "stdout",
     "output_type": "stream",
     "text": [
      "30/30 [==============================] - 204s 7s/step - loss: 2.4730 - accuracy: 0.3033\n",
      "[2.47302508354187, 0.3033333420753479]\n"
     ]
    }
   ],
   "source": [
    "print(modelPre.evaluate(testGenerator))"
   ]
  },
  {
   "cell_type": "markdown",
   "metadata": {},
   "source": [
    "## Análisis de resultados\n",
    "\n",
    "(TODO)"
   ]
  },
  {
   "cell_type": "markdown",
   "metadata": {
    "id": "g-Aite4h109M"
   },
   "source": [
    "# Objetivo 2: Búsqueda de similitud (FD300) First try\n",
    "\n",
    "método No supervisado. \n",
    "La idea es crear dos CNN: una codifica las imagenes y la otra las decodifica.\n",
    "\n"
   ]
  },
  {
   "cell_type": "code",
   "execution_count": 31,
   "metadata": {},
   "outputs": [
    {
     "name": "stdout",
     "output_type": "stream",
     "text": [
      "Found 940 images belonging to 1 classes.\n",
      "Found 235 images belonging to 1 classes.\n"
     ]
    }
   ],
   "source": [
    "from tensorflow.keras.preprocessing.image import ImageDataGenerator, load_img, img_to_array, array_to_img\n",
    "from tensorflow.keras.models import Model, load_model\n",
    "from tensorflow.keras.layers import Flatten, Conv2D, Conv2DTranspose, LeakyReLU, BatchNormalization, Input, Dense, Reshape, Activation\n",
    "from tensorflow.keras.optimizers import Adam\n",
    "from tensorflow.keras.callbacks import ModelCheckpoint\n",
    "import tensorflow.keras.backend as K\n",
    "import numpy as np\n",
    "import matplotlib.pyplot as plt\n",
    "from tqdm import tqdm_notebook as tqdm\n",
    "import pickle\n",
    "import pandas as pd\n",
    "\n",
    "# Load images\n",
    "img_height = 586\n",
    "img_width = 156\n",
    "channels = 3\n",
    "batch_size = 16\n",
    "\n",
    "train_datagen = ImageDataGenerator(rescale=1./255,\n",
    "                                   validation_split=0.2)\n",
    "\n",
    "training_set = train_datagen.flow_from_directory(\n",
    "    'fid300/',\n",
    "     target_size = (img_height, img_width),\n",
    "     batch_size = batch_size,\n",
    "     classes=['references'],\n",
    "     subset = 'training',\n",
    "     shuffle=True)\n",
    "\n",
    "validation_set = train_datagen.flow_from_directory(\n",
    "    'fid300/',\n",
    "     target_size = (img_height, img_width),\n",
    "     batch_size = batch_size,\n",
    "     classes=['references'],\n",
    "     subset = 'validation',\n",
    "     shuffle=False)\n",
    "\n",
    "#Única clase porque no tengo classes / labels por imagen."
   ]
  },
  {
   "cell_type": "code",
   "execution_count": null,
   "metadata": {},
   "outputs": [],
   "source": []
  },
  {
   "cell_type": "code",
   "execution_count": 32,
   "metadata": {},
   "outputs": [
    {
     "name": "stdout",
     "output_type": "stream",
     "text": [
      "(None, 586, 156, 3)\n",
      "(None, 586, 156, 3)\n"
     ]
    }
   ],
   "source": [
    "# Define the autoencoder\n",
    "input_model = Input(shape=(img_height, img_width, channels))\n",
    "\n",
    "print(input_model.shape)\n",
    "# Encoder layers\n",
    "encoder = Conv2D(32, (3,3), padding='same', kernel_initializer='normal')(input_model)\n",
    "encoder = LeakyReLU()(encoder)\n",
    "encoder = BatchNormalization(axis=-1)(encoder)\n",
    "\n",
    "encoder = Conv2D(64, (3,3), padding='same', kernel_initializer='normal')(encoder)\n",
    "encoder = LeakyReLU()(encoder)\n",
    "encoder = BatchNormalization(axis=-1)(encoder)\n",
    "\n",
    "encoder = Conv2D(64, (3,3), padding='same', kernel_initializer='normal')(input_model)\n",
    "encoder = LeakyReLU()(encoder)\n",
    "encoder = BatchNormalization(axis=-1)(encoder)\n",
    "\n",
    "encoder_dim = K.int_shape(encoder)\n",
    "encoder = Flatten()(encoder)\n",
    "\n",
    "# Latent Space\n",
    "latent_space = Dense(16, name='latent_space')(encoder)\n",
    "\n",
    "# Decoder Layers\n",
    "decoder = Dense(np.prod(encoder_dim[1:]))(latent_space)\n",
    "decoder = Reshape((encoder_dim[1], encoder_dim[2], encoder_dim[3]))(decoder)\n",
    "\n",
    "decoder = Conv2DTranspose(64, (3,3), padding='same', kernel_initializer='normal')(decoder)\n",
    "decoder = LeakyReLU()(decoder)\n",
    "decoder = BatchNormalization(axis=-1)(decoder)\n",
    "\n",
    "decoder = Conv2DTranspose(64, (3,3), padding='same', kernel_initializer='normal')(decoder)\n",
    "decoder = LeakyReLU()(decoder)\n",
    "decoder = BatchNormalization(axis=-1)(decoder)\n",
    "\n",
    "decoder = Conv2DTranspose(32, (3,3), padding='same', kernel_initializer='normal')(decoder)\n",
    "decoder = LeakyReLU()(decoder)\n",
    "decoder = BatchNormalization(axis=-1)(decoder)\n",
    "\n",
    "decoder = Conv2DTranspose(3, (3, 3), padding=\"same\")(decoder)\n",
    "output = Activation('sigmoid', name='decoder')(decoder)\n",
    "\n",
    "print(output.shape)"
   ]
  },
  {
   "cell_type": "code",
   "execution_count": 33,
   "metadata": {},
   "outputs": [
    {
     "name": "stdout",
     "output_type": "stream",
     "text": [
      "Epoch 1/10\n"
     ]
    },
    {
     "ename": "InvalidArgumentError",
     "evalue": "Graph execution error:\n\nDetected at node 'mean_squared_error/SquaredDifference' defined at (most recent call last):\n    File \"/Library/Frameworks/Python.framework/Versions/3.8/lib/python3.8/runpy.py\", line 193, in _run_module_as_main\n      return _run_code(code, main_globals, None,\n    File \"/Library/Frameworks/Python.framework/Versions/3.8/lib/python3.8/runpy.py\", line 86, in _run_code\n      exec(code, run_globals)\n    File \"/Library/Frameworks/Python.framework/Versions/3.8/lib/python3.8/site-packages/ipykernel_launcher.py\", line 16, in <module>\n      app.launch_new_instance()\n    File \"/Library/Frameworks/Python.framework/Versions/3.8/lib/python3.8/site-packages/traitlets/config/application.py\", line 664, in launch_instance\n      app.start()\n    File \"/Library/Frameworks/Python.framework/Versions/3.8/lib/python3.8/site-packages/ipykernel/kernelapp.py\", line 583, in start\n      self.io_loop.start()\n    File \"/Library/Frameworks/Python.framework/Versions/3.8/lib/python3.8/site-packages/tornado/platform/asyncio.py\", line 149, in start\n      self.asyncio_loop.run_forever()\n    File \"/Library/Frameworks/Python.framework/Versions/3.8/lib/python3.8/asyncio/base_events.py\", line 570, in run_forever\n      self._run_once()\n    File \"/Library/Frameworks/Python.framework/Versions/3.8/lib/python3.8/asyncio/base_events.py\", line 1859, in _run_once\n      handle._run()\n    File \"/Library/Frameworks/Python.framework/Versions/3.8/lib/python3.8/asyncio/events.py\", line 81, in _run\n      self._context.run(self._callback, *self._args)\n    File \"/Library/Frameworks/Python.framework/Versions/3.8/lib/python3.8/site-packages/tornado/ioloop.py\", line 690, in <lambda>\n      lambda f: self._run_callback(functools.partial(callback, future))\n    File \"/Library/Frameworks/Python.framework/Versions/3.8/lib/python3.8/site-packages/tornado/ioloop.py\", line 743, in _run_callback\n      ret = callback()\n    File \"/Library/Frameworks/Python.framework/Versions/3.8/lib/python3.8/site-packages/tornado/gen.py\", line 787, in inner\n      self.run()\n    File \"/Library/Frameworks/Python.framework/Versions/3.8/lib/python3.8/site-packages/tornado/gen.py\", line 748, in run\n      yielded = self.gen.send(value)\n    File \"/Library/Frameworks/Python.framework/Versions/3.8/lib/python3.8/site-packages/ipykernel/kernelbase.py\", line 365, in process_one\n      yield gen.maybe_future(dispatch(*args))\n    File \"/Library/Frameworks/Python.framework/Versions/3.8/lib/python3.8/site-packages/tornado/gen.py\", line 209, in wrapper\n      yielded = next(result)\n    File \"/Library/Frameworks/Python.framework/Versions/3.8/lib/python3.8/site-packages/ipykernel/kernelbase.py\", line 268, in dispatch_shell\n      yield gen.maybe_future(handler(stream, idents, msg))\n    File \"/Library/Frameworks/Python.framework/Versions/3.8/lib/python3.8/site-packages/tornado/gen.py\", line 209, in wrapper\n      yielded = next(result)\n    File \"/Library/Frameworks/Python.framework/Versions/3.8/lib/python3.8/site-packages/ipykernel/kernelbase.py\", line 543, in execute_request\n      self.do_execute(\n    File \"/Library/Frameworks/Python.framework/Versions/3.8/lib/python3.8/site-packages/tornado/gen.py\", line 209, in wrapper\n      yielded = next(result)\n    File \"/Library/Frameworks/Python.framework/Versions/3.8/lib/python3.8/site-packages/ipykernel/ipkernel.py\", line 300, in do_execute\n      res = shell.run_cell(code, store_history=store_history, silent=silent)\n    File \"/Library/Frameworks/Python.framework/Versions/3.8/lib/python3.8/site-packages/ipykernel/zmqshell.py\", line 536, in run_cell\n      return super(ZMQInteractiveShell, self).run_cell(*args, **kwargs)\n    File \"/Library/Frameworks/Python.framework/Versions/3.8/lib/python3.8/site-packages/IPython/core/interactiveshell.py\", line 2857, in run_cell\n      result = self._run_cell(\n    File \"/Library/Frameworks/Python.framework/Versions/3.8/lib/python3.8/site-packages/IPython/core/interactiveshell.py\", line 2886, in _run_cell\n      return runner(coro)\n    File \"/Library/Frameworks/Python.framework/Versions/3.8/lib/python3.8/site-packages/IPython/core/async_helpers.py\", line 68, in _pseudo_sync_runner\n      coro.send(None)\n    File \"/Library/Frameworks/Python.framework/Versions/3.8/lib/python3.8/site-packages/IPython/core/interactiveshell.py\", line 3062, in run_cell_async\n      has_raised = await self.run_ast_nodes(code_ast.body, cell_name,\n    File \"/Library/Frameworks/Python.framework/Versions/3.8/lib/python3.8/site-packages/IPython/core/interactiveshell.py\", line 3254, in run_ast_nodes\n      if (await self.run_code(code, result,  async_=asy)):\n    File \"/Library/Frameworks/Python.framework/Versions/3.8/lib/python3.8/site-packages/IPython/core/interactiveshell.py\", line 3331, in run_code\n      exec(code_obj, self.user_global_ns, self.user_ns)\n    File \"<ipython-input-33-0c230b62bced>\", line 8, in <module>\n      history = autoencoder.fit(\n    File \"/Library/Frameworks/Python.framework/Versions/3.8/lib/python3.8/site-packages/keras/utils/traceback_utils.py\", line 65, in error_handler\n      return fn(*args, **kwargs)\n    File \"/Library/Frameworks/Python.framework/Versions/3.8/lib/python3.8/site-packages/keras/engine/training.py\", line 1650, in fit\n      tmp_logs = self.train_function(iterator)\n    File \"/Library/Frameworks/Python.framework/Versions/3.8/lib/python3.8/site-packages/keras/engine/training.py\", line 1249, in train_function\n      return step_function(self, iterator)\n    File \"/Library/Frameworks/Python.framework/Versions/3.8/lib/python3.8/site-packages/keras/engine/training.py\", line 1233, in step_function\n      outputs = model.distribute_strategy.run(run_step, args=(data,))\n    File \"/Library/Frameworks/Python.framework/Versions/3.8/lib/python3.8/site-packages/keras/engine/training.py\", line 1222, in run_step\n      outputs = model.train_step(data)\n    File \"/Library/Frameworks/Python.framework/Versions/3.8/lib/python3.8/site-packages/keras/engine/training.py\", line 1024, in train_step\n      loss = self.compute_loss(x, y, y_pred, sample_weight)\n    File \"/Library/Frameworks/Python.framework/Versions/3.8/lib/python3.8/site-packages/keras/engine/training.py\", line 1082, in compute_loss\n      return self.compiled_loss(\n    File \"/Library/Frameworks/Python.framework/Versions/3.8/lib/python3.8/site-packages/keras/engine/compile_utils.py\", line 265, in __call__\n      loss_value = loss_obj(y_t, y_p, sample_weight=sw)\n    File \"/Library/Frameworks/Python.framework/Versions/3.8/lib/python3.8/site-packages/keras/losses.py\", line 152, in __call__\n      losses = call_fn(y_true, y_pred)\n    File \"/Library/Frameworks/Python.framework/Versions/3.8/lib/python3.8/site-packages/keras/losses.py\", line 284, in call\n      return ag_fn(y_true, y_pred, **self._fn_kwargs)\n    File \"/Library/Frameworks/Python.framework/Versions/3.8/lib/python3.8/site-packages/keras/losses.py\", line 1500, in mean_squared_error\n      return backend.mean(tf.math.squared_difference(y_pred, y_true), axis=-1)\nNode: 'mean_squared_error/SquaredDifference'\nIncompatible shapes: [16,1] vs. [16,586,156,3]\n\t [[{{node mean_squared_error/SquaredDifference}}]] [Op:__inference_train_function_23159]",
     "output_type": "error",
     "traceback": [
      "\u001b[0;31m---------------------------------------------------------------------------\u001b[0m",
      "\u001b[0;31mInvalidArgumentError\u001b[0m                      Traceback (most recent call last)",
      "\u001b[0;32m<ipython-input-33-0c230b62bced>\u001b[0m in \u001b[0;36m<module>\u001b[0;34m\u001b[0m\n\u001b[1;32m      6\u001b[0m \u001b[0;34m\u001b[0m\u001b[0m\n\u001b[1;32m      7\u001b[0m \u001b[0;31m# Fit the model\u001b[0m\u001b[0;34m\u001b[0m\u001b[0;34m\u001b[0m\u001b[0;34m\u001b[0m\u001b[0m\n\u001b[0;32m----> 8\u001b[0;31m history = autoencoder.fit(\n\u001b[0m\u001b[1;32m      9\u001b[0m           \u001b[0mtraining_set\u001b[0m\u001b[0;34m,\u001b[0m\u001b[0;34m\u001b[0m\u001b[0;34m\u001b[0m\u001b[0m\n\u001b[1;32m     10\u001b[0m           \u001b[0msteps_per_epoch\u001b[0m\u001b[0;34m=\u001b[0m\u001b[0mtraining_set\u001b[0m\u001b[0;34m.\u001b[0m\u001b[0mn\u001b[0m \u001b[0;34m//\u001b[0m \u001b[0mbatch_size\u001b[0m\u001b[0;34m,\u001b[0m\u001b[0;34m\u001b[0m\u001b[0;34m\u001b[0m\u001b[0m\n",
      "\u001b[0;32m/Library/Frameworks/Python.framework/Versions/3.8/lib/python3.8/site-packages/keras/utils/traceback_utils.py\u001b[0m in \u001b[0;36merror_handler\u001b[0;34m(*args, **kwargs)\u001b[0m\n\u001b[1;32m     68\u001b[0m             \u001b[0;31m# To get the full stack trace, call:\u001b[0m\u001b[0;34m\u001b[0m\u001b[0;34m\u001b[0m\u001b[0;34m\u001b[0m\u001b[0m\n\u001b[1;32m     69\u001b[0m             \u001b[0;31m# `tf.debugging.disable_traceback_filtering()`\u001b[0m\u001b[0;34m\u001b[0m\u001b[0;34m\u001b[0m\u001b[0;34m\u001b[0m\u001b[0m\n\u001b[0;32m---> 70\u001b[0;31m             \u001b[0;32mraise\u001b[0m \u001b[0me\u001b[0m\u001b[0;34m.\u001b[0m\u001b[0mwith_traceback\u001b[0m\u001b[0;34m(\u001b[0m\u001b[0mfiltered_tb\u001b[0m\u001b[0;34m)\u001b[0m \u001b[0;32mfrom\u001b[0m \u001b[0;32mNone\u001b[0m\u001b[0;34m\u001b[0m\u001b[0;34m\u001b[0m\u001b[0m\n\u001b[0m\u001b[1;32m     71\u001b[0m         \u001b[0;32mfinally\u001b[0m\u001b[0;34m:\u001b[0m\u001b[0;34m\u001b[0m\u001b[0;34m\u001b[0m\u001b[0m\n\u001b[1;32m     72\u001b[0m             \u001b[0;32mdel\u001b[0m \u001b[0mfiltered_tb\u001b[0m\u001b[0;34m\u001b[0m\u001b[0;34m\u001b[0m\u001b[0m\n",
      "\u001b[0;32m/Library/Frameworks/Python.framework/Versions/3.8/lib/python3.8/site-packages/tensorflow/python/eager/execute.py\u001b[0m in \u001b[0;36mquick_execute\u001b[0;34m(op_name, num_outputs, inputs, attrs, ctx, name)\u001b[0m\n\u001b[1;32m     50\u001b[0m   \u001b[0;32mtry\u001b[0m\u001b[0;34m:\u001b[0m\u001b[0;34m\u001b[0m\u001b[0;34m\u001b[0m\u001b[0m\n\u001b[1;32m     51\u001b[0m     \u001b[0mctx\u001b[0m\u001b[0;34m.\u001b[0m\u001b[0mensure_initialized\u001b[0m\u001b[0;34m(\u001b[0m\u001b[0;34m)\u001b[0m\u001b[0;34m\u001b[0m\u001b[0;34m\u001b[0m\u001b[0m\n\u001b[0;32m---> 52\u001b[0;31m     tensors = pywrap_tfe.TFE_Py_Execute(ctx._handle, device_name, op_name,\n\u001b[0m\u001b[1;32m     53\u001b[0m                                         inputs, attrs, num_outputs)\n\u001b[1;32m     54\u001b[0m   \u001b[0;32mexcept\u001b[0m \u001b[0mcore\u001b[0m\u001b[0;34m.\u001b[0m\u001b[0m_NotOkStatusException\u001b[0m \u001b[0;32mas\u001b[0m \u001b[0me\u001b[0m\u001b[0;34m:\u001b[0m\u001b[0;34m\u001b[0m\u001b[0;34m\u001b[0m\u001b[0m\n",
      "\u001b[0;31mInvalidArgumentError\u001b[0m: Graph execution error:\n\nDetected at node 'mean_squared_error/SquaredDifference' defined at (most recent call last):\n    File \"/Library/Frameworks/Python.framework/Versions/3.8/lib/python3.8/runpy.py\", line 193, in _run_module_as_main\n      return _run_code(code, main_globals, None,\n    File \"/Library/Frameworks/Python.framework/Versions/3.8/lib/python3.8/runpy.py\", line 86, in _run_code\n      exec(code, run_globals)\n    File \"/Library/Frameworks/Python.framework/Versions/3.8/lib/python3.8/site-packages/ipykernel_launcher.py\", line 16, in <module>\n      app.launch_new_instance()\n    File \"/Library/Frameworks/Python.framework/Versions/3.8/lib/python3.8/site-packages/traitlets/config/application.py\", line 664, in launch_instance\n      app.start()\n    File \"/Library/Frameworks/Python.framework/Versions/3.8/lib/python3.8/site-packages/ipykernel/kernelapp.py\", line 583, in start\n      self.io_loop.start()\n    File \"/Library/Frameworks/Python.framework/Versions/3.8/lib/python3.8/site-packages/tornado/platform/asyncio.py\", line 149, in start\n      self.asyncio_loop.run_forever()\n    File \"/Library/Frameworks/Python.framework/Versions/3.8/lib/python3.8/asyncio/base_events.py\", line 570, in run_forever\n      self._run_once()\n    File \"/Library/Frameworks/Python.framework/Versions/3.8/lib/python3.8/asyncio/base_events.py\", line 1859, in _run_once\n      handle._run()\n    File \"/Library/Frameworks/Python.framework/Versions/3.8/lib/python3.8/asyncio/events.py\", line 81, in _run\n      self._context.run(self._callback, *self._args)\n    File \"/Library/Frameworks/Python.framework/Versions/3.8/lib/python3.8/site-packages/tornado/ioloop.py\", line 690, in <lambda>\n      lambda f: self._run_callback(functools.partial(callback, future))\n    File \"/Library/Frameworks/Python.framework/Versions/3.8/lib/python3.8/site-packages/tornado/ioloop.py\", line 743, in _run_callback\n      ret = callback()\n    File \"/Library/Frameworks/Python.framework/Versions/3.8/lib/python3.8/site-packages/tornado/gen.py\", line 787, in inner\n      self.run()\n    File \"/Library/Frameworks/Python.framework/Versions/3.8/lib/python3.8/site-packages/tornado/gen.py\", line 748, in run\n      yielded = self.gen.send(value)\n    File \"/Library/Frameworks/Python.framework/Versions/3.8/lib/python3.8/site-packages/ipykernel/kernelbase.py\", line 365, in process_one\n      yield gen.maybe_future(dispatch(*args))\n    File \"/Library/Frameworks/Python.framework/Versions/3.8/lib/python3.8/site-packages/tornado/gen.py\", line 209, in wrapper\n      yielded = next(result)\n    File \"/Library/Frameworks/Python.framework/Versions/3.8/lib/python3.8/site-packages/ipykernel/kernelbase.py\", line 268, in dispatch_shell\n      yield gen.maybe_future(handler(stream, idents, msg))\n    File \"/Library/Frameworks/Python.framework/Versions/3.8/lib/python3.8/site-packages/tornado/gen.py\", line 209, in wrapper\n      yielded = next(result)\n    File \"/Library/Frameworks/Python.framework/Versions/3.8/lib/python3.8/site-packages/ipykernel/kernelbase.py\", line 543, in execute_request\n      self.do_execute(\n    File \"/Library/Frameworks/Python.framework/Versions/3.8/lib/python3.8/site-packages/tornado/gen.py\", line 209, in wrapper\n      yielded = next(result)\n    File \"/Library/Frameworks/Python.framework/Versions/3.8/lib/python3.8/site-packages/ipykernel/ipkernel.py\", line 300, in do_execute\n      res = shell.run_cell(code, store_history=store_history, silent=silent)\n    File \"/Library/Frameworks/Python.framework/Versions/3.8/lib/python3.8/site-packages/ipykernel/zmqshell.py\", line 536, in run_cell\n      return super(ZMQInteractiveShell, self).run_cell(*args, **kwargs)\n    File \"/Library/Frameworks/Python.framework/Versions/3.8/lib/python3.8/site-packages/IPython/core/interactiveshell.py\", line 2857, in run_cell\n      result = self._run_cell(\n    File \"/Library/Frameworks/Python.framework/Versions/3.8/lib/python3.8/site-packages/IPython/core/interactiveshell.py\", line 2886, in _run_cell\n      return runner(coro)\n    File \"/Library/Frameworks/Python.framework/Versions/3.8/lib/python3.8/site-packages/IPython/core/async_helpers.py\", line 68, in _pseudo_sync_runner\n      coro.send(None)\n    File \"/Library/Frameworks/Python.framework/Versions/3.8/lib/python3.8/site-packages/IPython/core/interactiveshell.py\", line 3062, in run_cell_async\n      has_raised = await self.run_ast_nodes(code_ast.body, cell_name,\n    File \"/Library/Frameworks/Python.framework/Versions/3.8/lib/python3.8/site-packages/IPython/core/interactiveshell.py\", line 3254, in run_ast_nodes\n      if (await self.run_code(code, result,  async_=asy)):\n    File \"/Library/Frameworks/Python.framework/Versions/3.8/lib/python3.8/site-packages/IPython/core/interactiveshell.py\", line 3331, in run_code\n      exec(code_obj, self.user_global_ns, self.user_ns)\n    File \"<ipython-input-33-0c230b62bced>\", line 8, in <module>\n      history = autoencoder.fit(\n    File \"/Library/Frameworks/Python.framework/Versions/3.8/lib/python3.8/site-packages/keras/utils/traceback_utils.py\", line 65, in error_handler\n      return fn(*args, **kwargs)\n    File \"/Library/Frameworks/Python.framework/Versions/3.8/lib/python3.8/site-packages/keras/engine/training.py\", line 1650, in fit\n      tmp_logs = self.train_function(iterator)\n    File \"/Library/Frameworks/Python.framework/Versions/3.8/lib/python3.8/site-packages/keras/engine/training.py\", line 1249, in train_function\n      return step_function(self, iterator)\n    File \"/Library/Frameworks/Python.framework/Versions/3.8/lib/python3.8/site-packages/keras/engine/training.py\", line 1233, in step_function\n      outputs = model.distribute_strategy.run(run_step, args=(data,))\n    File \"/Library/Frameworks/Python.framework/Versions/3.8/lib/python3.8/site-packages/keras/engine/training.py\", line 1222, in run_step\n      outputs = model.train_step(data)\n    File \"/Library/Frameworks/Python.framework/Versions/3.8/lib/python3.8/site-packages/keras/engine/training.py\", line 1024, in train_step\n      loss = self.compute_loss(x, y, y_pred, sample_weight)\n    File \"/Library/Frameworks/Python.framework/Versions/3.8/lib/python3.8/site-packages/keras/engine/training.py\", line 1082, in compute_loss\n      return self.compiled_loss(\n    File \"/Library/Frameworks/Python.framework/Versions/3.8/lib/python3.8/site-packages/keras/engine/compile_utils.py\", line 265, in __call__\n      loss_value = loss_obj(y_t, y_p, sample_weight=sw)\n    File \"/Library/Frameworks/Python.framework/Versions/3.8/lib/python3.8/site-packages/keras/losses.py\", line 152, in __call__\n      losses = call_fn(y_true, y_pred)\n    File \"/Library/Frameworks/Python.framework/Versions/3.8/lib/python3.8/site-packages/keras/losses.py\", line 284, in call\n      return ag_fn(y_true, y_pred, **self._fn_kwargs)\n    File \"/Library/Frameworks/Python.framework/Versions/3.8/lib/python3.8/site-packages/keras/losses.py\", line 1500, in mean_squared_error\n      return backend.mean(tf.math.squared_difference(y_pred, y_true), axis=-1)\nNode: 'mean_squared_error/SquaredDifference'\nIncompatible shapes: [16,1] vs. [16,586,156,3]\n\t [[{{node mean_squared_error/SquaredDifference}}]] [Op:__inference_train_function_23159]"
     ]
    }
   ],
   "source": [
    "# Create model object\n",
    "autoencoder = Model(input_model, output, name='autoencoder')\n",
    "\n",
    "# Compile the model\n",
    "autoencoder.compile(loss=\"mse\", optimizer= Adam(learning_rate=1e-3))\n",
    "\n",
    "# Fit the model\n",
    "history = autoencoder.fit(\n",
    "          training_set,\n",
    "          steps_per_epoch=training_set.n // batch_size,\n",
    "          epochs=10,\n",
    "          validation_data=validation_set,\n",
    "          validation_steps=validation_set.n // batch_size,\n",
    "          callbacks = [ModelCheckpoint('models/image_autoencoder_2.h5', \n",
    "                                       monitor='val_loss', \n",
    "                                       verbose=0, \n",
    "                                       save_best_only=True, \n",
    "                                       save_weights_only=False)])\n",
    "                                       "
   ]
  },
  {
   "cell_type": "markdown",
   "metadata": {
    "id": "aQxd-ubr18By"
   },
   "source": [
    "# Analisis de resultados\n"
   ]
  }
 ],
 "metadata": {
  "colab": {
   "provenance": [],
   "toc_visible": true
  },
  "kernelspec": {
   "display_name": "Python 3",
   "language": "python",
   "name": "python3"
  },
  "language_info": {
   "codemirror_mode": {
    "name": "ipython",
    "version": 3
   },
   "file_extension": ".py",
   "mimetype": "text/x-python",
   "name": "python",
   "nbconvert_exporter": "python",
   "pygments_lexer": "ipython3",
   "version": "3.8.2"
  }
 },
 "nbformat": 4,
 "nbformat_minor": 1
}
